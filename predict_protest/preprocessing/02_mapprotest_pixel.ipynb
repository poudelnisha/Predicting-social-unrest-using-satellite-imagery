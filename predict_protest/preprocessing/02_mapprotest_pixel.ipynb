{
 "cells": [
  {
   "cell_type": "markdown",
   "id": "3a84d0d8",
   "metadata": {},
   "source": [
    "## Get Unrest Data\n",
    "Input : Nepal_2018.csv (from GDELT_download)   \n",
    "\n",
    "Output :  2feb25allevents.csv  (Pixelwise noofprotest dataset)\n",
    "    "
   ]
  },
  {
   "cell_type": "code",
   "execution_count": 3,
   "id": "bf1f138b",
   "metadata": {},
   "outputs": [],
   "source": [
    "#import necessary library\n",
    "import pandas as pd\n",
    "import numpy as np\n",
    "from os import listdir\n",
    "import os"
   ]
  },
  {
   "cell_type": "code",
   "execution_count": 49,
   "id": "7626052c-efb5-4f87-bbf0-10d64ff7e6a4",
   "metadata": {},
   "outputs": [],
   "source": [
    "# import necessary modules\n",
    "import  matplotlib.pyplot as plt, time\n",
    "from sklearn.cluster import DBSCAN\n",
    "from geopy.distance import great_circle\n",
    "from shapely.geometry import MultiPoint\n",
    "from datetime import datetime as dt\n",
    "\n",
    "# magic command to display matplotlib plots inline within the ipython notebook\n",
    "%matplotlib inline"
   ]
  },
  {
   "cell_type": "code",
   "execution_count": 50,
   "id": "145b0e1f-15f5-4015-88b4-ae9ba051813d",
   "metadata": {},
   "outputs": [],
   "source": [
    "df = pd.read_csv('../gdelt/nepalprotest/Nepal_2018.csv')"
   ]
  },
  {
   "cell_type": "code",
   "execution_count": 51,
   "id": "3f7fa2b8-9229-42c9-9817-dc141cefa886",
   "metadata": {},
   "outputs": [
    {
     "data": {
      "text/plain": [
       "(134575, 58)"
      ]
     },
     "execution_count": 51,
     "metadata": {},
     "output_type": "execute_result"
    }
   ],
   "source": [
    "df.shape"
   ]
  },
  {
   "cell_type": "code",
   "execution_count": 52,
   "id": "4f12e729-c534-42b6-95e6-f4cdcbd448cc",
   "metadata": {},
   "outputs": [
    {
     "data": {
      "text/html": [
       "<div>\n",
       "<style scoped>\n",
       "    .dataframe tbody tr th:only-of-type {\n",
       "        vertical-align: middle;\n",
       "    }\n",
       "\n",
       "    .dataframe tbody tr th {\n",
       "        vertical-align: top;\n",
       "    }\n",
       "\n",
       "    .dataframe thead th {\n",
       "        text-align: right;\n",
       "    }\n",
       "</style>\n",
       "<table border=\"1\" class=\"dataframe\">\n",
       "  <thead>\n",
       "    <tr style=\"text-align: right;\">\n",
       "      <th></th>\n",
       "      <th>GLOBALEVENTID</th>\n",
       "      <th>SQLDATE</th>\n",
       "      <th>MonthYear</th>\n",
       "      <th>Year</th>\n",
       "      <th>FractionDate</th>\n",
       "      <th>Actor1Code</th>\n",
       "      <th>Actor1Name</th>\n",
       "      <th>Actor1CountryCode</th>\n",
       "      <th>Actor1KnownGroupCode</th>\n",
       "      <th>Actor1EthnicCode</th>\n",
       "      <th>...</th>\n",
       "      <th>Actor2Geo_FeatureID</th>\n",
       "      <th>ActionGeo_Type</th>\n",
       "      <th>ActionGeo_FullName</th>\n",
       "      <th>ActionGeo_CountryCode</th>\n",
       "      <th>ActionGeo_ADM1Code</th>\n",
       "      <th>ActionGeo_Lat</th>\n",
       "      <th>ActionGeo_Long</th>\n",
       "      <th>ActionGeo_FeatureID</th>\n",
       "      <th>DATEADDED</th>\n",
       "      <th>SOURCEURL</th>\n",
       "    </tr>\n",
       "  </thead>\n",
       "  <tbody>\n",
       "    <tr>\n",
       "      <th>0</th>\n",
       "      <td>724577026</td>\n",
       "      <td>20180123</td>\n",
       "      <td>201801</td>\n",
       "      <td>2018</td>\n",
       "      <td>2018.063</td>\n",
       "      <td>NaN</td>\n",
       "      <td>NaN</td>\n",
       "      <td>NaN</td>\n",
       "      <td>NaN</td>\n",
       "      <td>NaN</td>\n",
       "      <td>...</td>\n",
       "      <td>NP</td>\n",
       "      <td>1</td>\n",
       "      <td>Nepal</td>\n",
       "      <td>NP</td>\n",
       "      <td>NP</td>\n",
       "      <td>28.0</td>\n",
       "      <td>84.0</td>\n",
       "      <td>NP</td>\n",
       "      <td>20180123</td>\n",
       "      <td>https://mumbaimirror.indiatimes.com/mumbai/cri...</td>\n",
       "    </tr>\n",
       "    <tr>\n",
       "      <th>1</th>\n",
       "      <td>724595310</td>\n",
       "      <td>20180123</td>\n",
       "      <td>201801</td>\n",
       "      <td>2018</td>\n",
       "      <td>2018.063</td>\n",
       "      <td>NaN</td>\n",
       "      <td>NaN</td>\n",
       "      <td>NaN</td>\n",
       "      <td>NaN</td>\n",
       "      <td>NaN</td>\n",
       "      <td>...</td>\n",
       "      <td>SA</td>\n",
       "      <td>1</td>\n",
       "      <td>Nepal</td>\n",
       "      <td>NP</td>\n",
       "      <td>NP</td>\n",
       "      <td>28.0</td>\n",
       "      <td>84.0</td>\n",
       "      <td>NP</td>\n",
       "      <td>20180123</td>\n",
       "      <td>http://www.dnaindia.com/india/report-nia-s-mos...</td>\n",
       "    </tr>\n",
       "    <tr>\n",
       "      <th>2</th>\n",
       "      <td>724595857</td>\n",
       "      <td>20180123</td>\n",
       "      <td>201801</td>\n",
       "      <td>2018</td>\n",
       "      <td>2018.063</td>\n",
       "      <td>COP</td>\n",
       "      <td>POLICE</td>\n",
       "      <td>NaN</td>\n",
       "      <td>NaN</td>\n",
       "      <td>NaN</td>\n",
       "      <td>...</td>\n",
       "      <td>-2113996</td>\n",
       "      <td>1</td>\n",
       "      <td>Nepal</td>\n",
       "      <td>NP</td>\n",
       "      <td>NP</td>\n",
       "      <td>28.0</td>\n",
       "      <td>84.0</td>\n",
       "      <td>NP</td>\n",
       "      <td>20180123</td>\n",
       "      <td>http://www.dnaindia.com/india/report-nia-s-mos...</td>\n",
       "    </tr>\n",
       "    <tr>\n",
       "      <th>3</th>\n",
       "      <td>724595858</td>\n",
       "      <td>20180123</td>\n",
       "      <td>201801</td>\n",
       "      <td>2018</td>\n",
       "      <td>2018.063</td>\n",
       "      <td>COP</td>\n",
       "      <td>POLICE</td>\n",
       "      <td>NaN</td>\n",
       "      <td>NaN</td>\n",
       "      <td>NaN</td>\n",
       "      <td>...</td>\n",
       "      <td>SA</td>\n",
       "      <td>1</td>\n",
       "      <td>Nepal</td>\n",
       "      <td>NP</td>\n",
       "      <td>NP</td>\n",
       "      <td>28.0</td>\n",
       "      <td>84.0</td>\n",
       "      <td>NP</td>\n",
       "      <td>20180123</td>\n",
       "      <td>http://www.dnaindia.com/india/report-nia-s-mos...</td>\n",
       "    </tr>\n",
       "    <tr>\n",
       "      <th>4</th>\n",
       "      <td>724595868</td>\n",
       "      <td>20180123</td>\n",
       "      <td>201801</td>\n",
       "      <td>2018</td>\n",
       "      <td>2018.063</td>\n",
       "      <td>COP</td>\n",
       "      <td>POLICE</td>\n",
       "      <td>NaN</td>\n",
       "      <td>NaN</td>\n",
       "      <td>NaN</td>\n",
       "      <td>...</td>\n",
       "      <td>SA</td>\n",
       "      <td>1</td>\n",
       "      <td>Nepal</td>\n",
       "      <td>NP</td>\n",
       "      <td>NP</td>\n",
       "      <td>28.0</td>\n",
       "      <td>84.0</td>\n",
       "      <td>NP</td>\n",
       "      <td>20180123</td>\n",
       "      <td>http://www.dnaindia.com/india/report-nia-s-mos...</td>\n",
       "    </tr>\n",
       "  </tbody>\n",
       "</table>\n",
       "<p>5 rows × 58 columns</p>\n",
       "</div>"
      ],
      "text/plain": [
       "   GLOBALEVENTID   SQLDATE  MonthYear  Year  FractionDate Actor1Code  \\\n",
       "0      724577026  20180123     201801  2018      2018.063        NaN   \n",
       "1      724595310  20180123     201801  2018      2018.063        NaN   \n",
       "2      724595857  20180123     201801  2018      2018.063        COP   \n",
       "3      724595858  20180123     201801  2018      2018.063        COP   \n",
       "4      724595868  20180123     201801  2018      2018.063        COP   \n",
       "\n",
       "  Actor1Name Actor1CountryCode Actor1KnownGroupCode Actor1EthnicCode  ...  \\\n",
       "0        NaN               NaN                  NaN              NaN  ...   \n",
       "1        NaN               NaN                  NaN              NaN  ...   \n",
       "2     POLICE               NaN                  NaN              NaN  ...   \n",
       "3     POLICE               NaN                  NaN              NaN  ...   \n",
       "4     POLICE               NaN                  NaN              NaN  ...   \n",
       "\n",
       "  Actor2Geo_FeatureID ActionGeo_Type ActionGeo_FullName ActionGeo_CountryCode  \\\n",
       "0                  NP              1              Nepal                    NP   \n",
       "1                  SA              1              Nepal                    NP   \n",
       "2            -2113996              1              Nepal                    NP   \n",
       "3                  SA              1              Nepal                    NP   \n",
       "4                  SA              1              Nepal                    NP   \n",
       "\n",
       "  ActionGeo_ADM1Code ActionGeo_Lat ActionGeo_Long ActionGeo_FeatureID  \\\n",
       "0                 NP          28.0           84.0                  NP   \n",
       "1                 NP          28.0           84.0                  NP   \n",
       "2                 NP          28.0           84.0                  NP   \n",
       "3                 NP          28.0           84.0                  NP   \n",
       "4                 NP          28.0           84.0                  NP   \n",
       "\n",
       "  DATEADDED                                          SOURCEURL  \n",
       "0  20180123  https://mumbaimirror.indiatimes.com/mumbai/cri...  \n",
       "1  20180123  http://www.dnaindia.com/india/report-nia-s-mos...  \n",
       "2  20180123  http://www.dnaindia.com/india/report-nia-s-mos...  \n",
       "3  20180123  http://www.dnaindia.com/india/report-nia-s-mos...  \n",
       "4  20180123  http://www.dnaindia.com/india/report-nia-s-mos...  \n",
       "\n",
       "[5 rows x 58 columns]"
      ]
     },
     "execution_count": 52,
     "metadata": {},
     "output_type": "execute_result"
    }
   ],
   "source": [
    "df.head()"
   ]
  },
  {
   "cell_type": "code",
   "execution_count": 53,
   "id": "8b8947d7-daf9-4bd2-80db-49afc4a9a05b",
   "metadata": {},
   "outputs": [],
   "source": [
    "df.rename(columns={'ActionGeo_Lat':'lat', 'ActionGeo_Long':'long','ActionGeo_CountryCode':'Country'},inplace = True)\n"
   ]
  },
  {
   "cell_type": "code",
   "execution_count": 54,
   "id": "fa9047f7-eab7-4ccd-99ab-da3f7070b608",
   "metadata": {},
   "outputs": [
    {
     "data": {
      "text/plain": [
       "array([  80,  173,   71,   43,   42,  100,   61,   70,  120,   12,  112,\n",
       "        141,   10,   13,   60,  190,   40,  124,  125,   46,   20,  172,\n",
       "         57,   32,   50,   72,   51, 1712,  114,  841,   36,   26,   23,\n",
       "         90,  193,  110,  171,  175,  182,   31,  111,  311,  180,   84,\n",
       "        113,   30,   41,   17,   14,  153,  191,  150,  831,   11,   73,\n",
       "         44,  192,  130, 1312,  138,   22,  166,   74,  334,  331,  160,\n",
       "        154,   33,  128, 1722,  211, 1014,  214,  253,  874, 1821, 1822,\n",
       "        833,   25,   55,   15,   18,   16,  139,  181,  143, 1123,  163,\n",
       "        213,   86,   45,  170, 1043,  174,   52, 1056,  140,  231,  161,\n",
       "         81, 1711,   24, 1243,  332,   63,   62,   37,   64,  142, 1723,\n",
       "        813,  131,  241,   53,  183, 1124,  162, 1411,  186,   56,  194,\n",
       "        122,   54,  127,  115, 1053, 1823,  145, 1041, 1044,  133, 1313,\n",
       "        164,  341,   35,   34,   75,   27, 1241,  842,  356,   82,  862,\n",
       "        312,  195,   21,  353,   91,  121, 1721,  234,  861,  105,   28,\n",
       "       1831,  243, 1013,   39,   85, 1121, 1231,  185,  101,  872, 1233,\n",
       "       1384,   93,  144,   19,  233,  201,  333,  256,   83,  203,  129,\n",
       "       1383, 1724,  871,  106,  134,  196,  344,  152,   92, 1832,  151,\n",
       "       1125, 1246,  255, 1122,  137,  232, 1042,  873, 1311, 1621])"
      ]
     },
     "execution_count": 54,
     "metadata": {},
     "output_type": "execute_result"
    }
   ],
   "source": [
    "df['EventCode'].unique()"
   ]
  },
  {
   "cell_type": "code",
   "execution_count": 55,
   "id": "cae1c04c-a442-4c02-88c7-8109a2347823",
   "metadata": {},
   "outputs": [
    {
     "data": {
      "text/plain": [
       "EventCode\n",
       "10      9792\n",
       "11       105\n",
       "12      1909\n",
       "13      1726\n",
       "14       821\n",
       "        ... \n",
       "1821     789\n",
       "1822      97\n",
       "1823      41\n",
       "1831       5\n",
       "1832       5\n",
       "Name: EventCode, Length: 197, dtype: int64"
      ]
     },
     "execution_count": 55,
     "metadata": {},
     "output_type": "execute_result"
    }
   ],
   "source": [
    "df1 = df.groupby(\"EventCode\")[\"EventCode\"].agg(\"count\")\n",
    "df1"
   ]
  },
  {
   "cell_type": "markdown",
   "id": "d2773251-f075-4178-807e-7ac99f07204d",
   "metadata": {},
   "source": [
    "The numeric codes in this field map to the Quad Classes as follows:\n",
    "1=Verbal Cooperation, 2=Material Cooperation, 3=Verbal Conflict, 4=Material Conflict."
   ]
  },
  {
   "cell_type": "code",
   "execution_count": 56,
   "id": "58988bce",
   "metadata": {},
   "outputs": [
    {
     "data": {
      "text/plain": [
       "(27716, 58)"
      ]
     },
     "execution_count": 56,
     "metadata": {},
     "output_type": "execute_result"
    }
   ],
   "source": [
    "df1 = df[df.QuadClass.isin([3,4])]\n",
    "df1.shape"
   ]
  },
  {
   "cell_type": "code",
   "execution_count": 57,
   "id": "a860759e-be95-4bb5-94e3-3263ddbeb5c4",
   "metadata": {},
   "outputs": [
    {
     "name": "stderr",
     "output_type": "stream",
     "text": [
      "/home/samal/poudelnish/.conda/envs/aanisha/lib/python3.7/site-packages/pandas/util/_decorators.py:311: SettingWithCopyWarning: \n",
      "A value is trying to be set on a copy of a slice from a DataFrame\n",
      "\n",
      "See the caveats in the documentation: https://pandas.pydata.org/pandas-docs/stable/user_guide/indexing.html#returning-a-view-versus-a-copy\n",
      "  return func(*args, **kwargs)\n"
     ]
    }
   ],
   "source": [
    "df1.drop_duplicates(subset=['SQLDATE','lat','long','Country',\"EventCode\",\"GoldsteinScale\",\"AvgTone\"],keep = 'first', inplace=True)"
   ]
  },
  {
   "cell_type": "code",
   "execution_count": 58,
   "id": "8afedbfc-5d04-4867-9dc6-d8d87fa42a6a",
   "metadata": {},
   "outputs": [
    {
     "data": {
      "text/plain": [
       "(19933, 58)"
      ]
     },
     "execution_count": 58,
     "metadata": {},
     "output_type": "execute_result"
    }
   ],
   "source": [
    "df1.shape"
   ]
  },
  {
   "cell_type": "code",
   "execution_count": 59,
   "id": "db1a5cf9-56b4-408f-844b-4dee6c68119f",
   "metadata": {},
   "outputs": [],
   "source": [
    "df_protest = df[df['EventRootCode']==14]"
   ]
  },
  {
   "cell_type": "code",
   "execution_count": 60,
   "id": "f192c521-5f3b-4df4-9aaa-bf0bf18ed0ac",
   "metadata": {},
   "outputs": [
    {
     "data": {
      "text/plain": [
       "(1487, 58)"
      ]
     },
     "execution_count": 60,
     "metadata": {},
     "output_type": "execute_result"
    }
   ],
   "source": [
    "df_protest.shape"
   ]
  },
  {
   "cell_type": "code",
   "execution_count": 61,
   "id": "83d81376-c902-44ea-982e-5b60aaad8c2a",
   "metadata": {},
   "outputs": [],
   "source": [
    "df1_count = (df_protest.groupby(['lat', 'long']).size() \n",
    "   .sort_values(ascending=False) \n",
    "   .reset_index(name='pcount')) \n",
    "  # .drop_duplicates(subset='col2'))"
   ]
  },
  {
   "cell_type": "code",
   "execution_count": 62,
   "id": "81b0e12e-5262-4545-9308-7f30a4f25b45",
   "metadata": {},
   "outputs": [
    {
     "data": {
      "text/plain": [
       "(96, 3)"
      ]
     },
     "execution_count": 62,
     "metadata": {},
     "output_type": "execute_result"
    }
   ],
   "source": [
    "df1_count.shape"
   ]
  },
  {
   "cell_type": "code",
   "execution_count": 63,
   "id": "72f54055-cafd-4919-903d-d624fcb3feed",
   "metadata": {},
   "outputs": [
    {
     "data": {
      "text/html": [
       "<div>\n",
       "<style scoped>\n",
       "    .dataframe tbody tr th:only-of-type {\n",
       "        vertical-align: middle;\n",
       "    }\n",
       "\n",
       "    .dataframe tbody tr th {\n",
       "        vertical-align: top;\n",
       "    }\n",
       "\n",
       "    .dataframe thead th {\n",
       "        text-align: right;\n",
       "    }\n",
       "</style>\n",
       "<table border=\"1\" class=\"dataframe\">\n",
       "  <thead>\n",
       "    <tr style=\"text-align: right;\">\n",
       "      <th></th>\n",
       "      <th>lat</th>\n",
       "      <th>long</th>\n",
       "      <th>pcount</th>\n",
       "    </tr>\n",
       "  </thead>\n",
       "  <tbody>\n",
       "    <tr>\n",
       "      <th>0</th>\n",
       "      <td>27.7167</td>\n",
       "      <td>85.3167</td>\n",
       "      <td>598</td>\n",
       "    </tr>\n",
       "    <tr>\n",
       "      <th>1</th>\n",
       "      <td>28.0000</td>\n",
       "      <td>84.0000</td>\n",
       "      <td>238</td>\n",
       "    </tr>\n",
       "    <tr>\n",
       "      <th>2</th>\n",
       "      <td>28.2088</td>\n",
       "      <td>82.1708</td>\n",
       "      <td>86</td>\n",
       "    </tr>\n",
       "    <tr>\n",
       "      <th>3</th>\n",
       "      <td>29.2854</td>\n",
       "      <td>82.1782</td>\n",
       "      <td>70</td>\n",
       "    </tr>\n",
       "    <tr>\n",
       "      <th>4</th>\n",
       "      <td>28.9167</td>\n",
       "      <td>80.3333</td>\n",
       "      <td>32</td>\n",
       "    </tr>\n",
       "  </tbody>\n",
       "</table>\n",
       "</div>"
      ],
      "text/plain": [
       "       lat     long  pcount\n",
       "0  27.7167  85.3167     598\n",
       "1  28.0000  84.0000     238\n",
       "2  28.2088  82.1708      86\n",
       "3  29.2854  82.1782      70\n",
       "4  28.9167  80.3333      32"
      ]
     },
     "execution_count": 63,
     "metadata": {},
     "output_type": "execute_result"
    }
   ],
   "source": [
    "df1_count.head()"
   ]
  },
  {
   "cell_type": "code",
   "execution_count": 64,
   "id": "2e22320b-091c-4a04-a2c0-3f17619be604",
   "metadata": {},
   "outputs": [
    {
     "data": {
      "text/plain": [
       "<AxesSubplot:>"
      ]
     },
     "execution_count": 64,
     "metadata": {},
     "output_type": "execute_result"
    },
    {
     "data": {
      "image/png": "[encoded data removed]",
      "text/plain": [
       "<Figure size 432x288 with 1 Axes>"
      ]
     },
     "metadata": {
      "needs_background": "light"
     },
     "output_type": "display_data"
    }
   ],
   "source": [
    "df1_count['pcount'].hist()"
   ]
  },
  {
   "cell_type": "code",
   "execution_count": 65,
   "id": "ad10b4a7-e8df-442d-8a40-a90ddae778b7",
   "metadata": {},
   "outputs": [
    {
     "data": {
      "text/plain": [
       "12.077490612085867"
      ]
     },
     "execution_count": 65,
     "metadata": {},
     "output_type": "execute_result"
    }
   ],
   "source": [
    "df_count[\"pcount\"].skew()"
   ]
  },
  {
   "cell_type": "code",
   "execution_count": 66,
   "id": "4d1d6a9e-8d41-49c8-b8d8-a4f9f1b3d195",
   "metadata": {},
   "outputs": [
    {
     "data": {
      "text/plain": [
       "7.911439355984083"
      ]
     },
     "execution_count": 66,
     "metadata": {},
     "output_type": "execute_result"
    }
   ],
   "source": [
    "df1_count[\"pcount\"].skew()"
   ]
  },
  {
   "cell_type": "code",
   "execution_count": 67,
   "id": "c52fdf38-5732-46aa-84bf-b1018be53513",
   "metadata": {},
   "outputs": [],
   "source": [
    "df_count = (df1.groupby(['lat', 'long']).size() \n",
    "   .sort_values(ascending=False) \n",
    "   .reset_index(name='pcount')) \n",
    "  # .drop_duplicates(subset='col2'))"
   ]
  },
  {
   "cell_type": "code",
   "execution_count": 80,
   "id": "55ecacaf-d9be-4408-80aa-f08f9a1bdb6e",
   "metadata": {},
   "outputs": [],
   "source": [
    "df_count.to_csv(\"df_count.csv\")"
   ]
  },
  {
   "cell_type": "code",
   "execution_count": 81,
   "id": "8c5ed147-229d-4652-8b1e-b5a763ff7394",
   "metadata": {},
   "outputs": [],
   "source": [
    "df_count = pd.read_csv(\"df_count.csv\")"
   ]
  },
  {
   "cell_type": "code",
   "execution_count": 85,
   "id": "1a3cc8bd-bfe1-440f-ae36-5d2eef036d32",
   "metadata": {},
   "outputs": [
    {
     "data": {
      "text/html": [
       "<div>\n",
       "<style scoped>\n",
       "    .dataframe tbody tr th:only-of-type {\n",
       "        vertical-align: middle;\n",
       "    }\n",
       "\n",
       "    .dataframe tbody tr th {\n",
       "        vertical-align: top;\n",
       "    }\n",
       "\n",
       "    .dataframe thead th {\n",
       "        text-align: right;\n",
       "    }\n",
       "</style>\n",
       "<table border=\"1\" class=\"dataframe\">\n",
       "  <thead>\n",
       "    <tr style=\"text-align: right;\">\n",
       "      <th></th>\n",
       "      <th>lat</th>\n",
       "      <th>long</th>\n",
       "      <th>pcount</th>\n",
       "    </tr>\n",
       "  </thead>\n",
       "  <tbody>\n",
       "    <tr>\n",
       "      <th>0</th>\n",
       "      <td>27.7167</td>\n",
       "      <td>85.3167</td>\n",
       "      <td>7300</td>\n",
       "    </tr>\n",
       "    <tr>\n",
       "      <th>1</th>\n",
       "      <td>28.0000</td>\n",
       "      <td>84.0000</td>\n",
       "      <td>5000</td>\n",
       "    </tr>\n",
       "    <tr>\n",
       "      <th>2</th>\n",
       "      <td>28.2088</td>\n",
       "      <td>82.1708</td>\n",
       "      <td>622</td>\n",
       "    </tr>\n",
       "    <tr>\n",
       "      <th>3</th>\n",
       "      <td>28.2185</td>\n",
       "      <td>83.9877</td>\n",
       "      <td>301</td>\n",
       "    </tr>\n",
       "    <tr>\n",
       "      <th>4</th>\n",
       "      <td>27.5833</td>\n",
       "      <td>84.5000</td>\n",
       "      <td>260</td>\n",
       "    </tr>\n",
       "  </tbody>\n",
       "</table>\n",
       "</div>"
      ],
      "text/plain": [
       "       lat     long  pcount\n",
       "0  27.7167  85.3167    7300\n",
       "1  28.0000  84.0000    5000\n",
       "2  28.2088  82.1708     622\n",
       "3  28.2185  83.9877     301\n",
       "4  27.5833  84.5000     260"
      ]
     },
     "execution_count": 85,
     "metadata": {},
     "output_type": "execute_result"
    }
   ],
   "source": [
    "df_count.head()"
   ]
  },
  {
   "cell_type": "code",
   "execution_count": 84,
   "id": "b4a9bc74",
   "metadata": {},
   "outputs": [],
   "source": [
    "df_count.drop(columns={'Unnamed: 0'},inplace=True)"
   ]
  },
  {
   "cell_type": "code",
   "execution_count": 86,
   "id": "874d4324-1d18-43c0-8ce5-8b4fb63bd0a8",
   "metadata": {},
   "outputs": [
    {
     "data": {
      "text/plain": [
       "2.9313704406751075e-34"
      ]
     },
     "execution_count": 86,
     "metadata": {},
     "output_type": "execute_result"
    }
   ],
   "source": [
    "resp = df_count.pcount\n",
    "from scipy.stats import shapiro\n",
    "shapiro(resp)[1]\n"
   ]
  },
  {
   "cell_type": "code",
   "execution_count": 87,
   "id": "079061c7-43a0-408a-9975-84f15f006eca",
   "metadata": {},
   "outputs": [
    {
     "name": "stderr",
     "output_type": "stream",
     "text": [
      "/home/samal/poudelnish/.conda/envs/aanisha/lib/python3.7/site-packages/seaborn/distributions.py:2619: FutureWarning: `distplot` is a deprecated function and will be removed in a future version. Please adapt your code to use either `displot` (a figure-level function with similar flexibility) or `histplot` (an axes-level function for histograms).\n",
      "  warnings.warn(msg, FutureWarning)\n"
     ]
    },
    {
     "data": {
      "text/plain": [
       "<AxesSubplot:xlabel='pcount', ylabel='Density'>"
      ]
     },
     "execution_count": 87,
     "metadata": {},
     "output_type": "execute_result"
    },
    {
     "data": {
      "image/png": "[encoded data removed]",
      "text/plain": [
       "<Figure size 432x288 with 1 Axes>"
      ]
     },
     "metadata": {
      "needs_background": "light"
     },
     "output_type": "display_data"
    }
   ],
   "source": [
    "sns.distplot(resp)"
   ]
  },
  {
   "cell_type": "code",
   "execution_count": 88,
   "id": "7bbed3af-e54a-4cdc-bae8-60e9a395686b",
   "metadata": {},
   "outputs": [
    {
     "name": "stderr",
     "output_type": "stream",
     "text": [
      "/home/samal/poudelnish/.conda/envs/aanisha/lib/python3.7/site-packages/seaborn/distributions.py:2619: FutureWarning: `distplot` is a deprecated function and will be removed in a future version. Please adapt your code to use either `displot` (a figure-level function with similar flexibility) or `histplot` (an axes-level function for histograms).\n",
      "  warnings.warn(msg, FutureWarning)\n"
     ]
    },
    {
     "data": {
      "text/plain": [
       "<AxesSubplot:xlabel='pcount', ylabel='Density'>"
      ]
     },
     "execution_count": 88,
     "metadata": {},
     "output_type": "execute_result"
    },
    {
     "data": {
      "image/png": "[encoded data removed]",
      "text/plain": [
       "<Figure size 432x288 with 1 Axes>"
      ]
     },
     "metadata": {
      "needs_background": "light"
     },
     "output_type": "display_data"
    }
   ],
   "source": [
    "import seaborn as sns\n",
    "\n",
    "sqrt_resp = resp**(0.5)\n",
    "sns.distplot(sqrt_resp)"
   ]
  },
  {
   "cell_type": "code",
   "execution_count": 89,
   "id": "b15d4649-bc95-49d2-9b02-6ff921cd49de",
   "metadata": {},
   "outputs": [
    {
     "name": "stderr",
     "output_type": "stream",
     "text": [
      "/home/samal/poudelnish/.conda/envs/aanisha/lib/python3.7/site-packages/seaborn/distributions.py:2619: FutureWarning: `distplot` is a deprecated function and will be removed in a future version. Please adapt your code to use either `displot` (a figure-level function with similar flexibility) or `histplot` (an axes-level function for histograms).\n",
      "  warnings.warn(msg, FutureWarning)\n"
     ]
    },
    {
     "data": {
      "text/plain": [
       "<AxesSubplot:xlabel='pcount', ylabel='Density'>"
      ]
     },
     "execution_count": 89,
     "metadata": {},
     "output_type": "execute_result"
    },
    {
     "data": {
      "image/png": "[encoded data removed]",
      "text/plain": [
       "<Figure size 432x288 with 1 Axes>"
      ]
     },
     "metadata": {
      "needs_background": "light"
     },
     "output_type": "display_data"
    }
   ],
   "source": [
    "recip = 1/resp\n",
    "sns.distplot(recip)"
   ]
  },
  {
   "cell_type": "code",
   "execution_count": 90,
   "id": "feb2b20c-3fdc-4069-9579-c0e00edbfc32",
   "metadata": {},
   "outputs": [
    {
     "name": "stderr",
     "output_type": "stream",
     "text": [
      "/home/samal/poudelnish/.conda/envs/aanisha/lib/python3.7/site-packages/seaborn/distributions.py:2619: FutureWarning: `distplot` is a deprecated function and will be removed in a future version. Please adapt your code to use either `displot` (a figure-level function with similar flexibility) or `histplot` (an axes-level function for histograms).\n",
      "  warnings.warn(msg, FutureWarning)\n"
     ]
    },
    {
     "data": {
      "text/plain": [
       "<AxesSubplot:xlabel='pcount', ylabel='Density'>"
      ]
     },
     "execution_count": 90,
     "metadata": {},
     "output_type": "execute_result"
    },
    {
     "data": {
      "image/png": "[encoded data removed]",
      "text/plain": [
       "<Figure size 432x288 with 1 Axes>"
      ]
     },
     "metadata": {
      "needs_background": "light"
     },
     "output_type": "display_data"
    }
   ],
   "source": [
    "log_resp = np.log(resp)\n",
    "sns.distplot(log_resp)\n"
   ]
  },
  {
   "cell_type": "code",
   "execution_count": 91,
   "id": "a2313309-8088-4f05-9e65-55037cafc4ae",
   "metadata": {},
   "outputs": [
    {
     "data": {
      "text/plain": [
       "count    278.000000\n",
       "mean       2.346126\n",
       "std        1.465513\n",
       "min        0.000000\n",
       "25%        1.098612\n",
       "50%        2.079442\n",
       "75%        3.286402\n",
       "max        8.895630\n",
       "Name: pcount, dtype: float64"
      ]
     },
     "execution_count": 91,
     "metadata": {},
     "output_type": "execute_result"
    }
   ],
   "source": [
    "log_resp.describe()"
   ]
  },
  {
   "cell_type": "code",
   "execution_count": 92,
   "id": "97c06027-ea7e-40d6-aa8d-04dbdd4949fa",
   "metadata": {},
   "outputs": [
    {
     "data": {
      "text/plain": [
       "0.693147    50\n",
       "1.386294    27\n",
       "1.098612    25\n",
       "1.609438    16\n",
       "1.791759    13\n",
       "            ..\n",
       "3.912023     1\n",
       "3.891820     1\n",
       "3.871201     1\n",
       "8.517193     1\n",
       "0.000000     1\n",
       "Name: pcount, Length: 79, dtype: int64"
      ]
     },
     "execution_count": 92,
     "metadata": {},
     "output_type": "execute_result"
    }
   ],
   "source": [
    "log_resp.value_counts()"
   ]
  },
  {
   "cell_type": "code",
   "execution_count": 93,
   "id": "68f73c9d-2283-4aee-a3d9-f5f3ab1b8052",
   "metadata": {},
   "outputs": [
    {
     "data": {
      "text/plain": [
       "2       50\n",
       "4       27\n",
       "3       25\n",
       "5       16\n",
       "6       13\n",
       "        ..\n",
       "50       1\n",
       "49       1\n",
       "48       1\n",
       "5000     1\n",
       "1        1\n",
       "Name: pcount, Length: 79, dtype: int64"
      ]
     },
     "execution_count": 93,
     "metadata": {},
     "output_type": "execute_result"
    }
   ],
   "source": [
    "resp.value_counts()"
   ]
  },
  {
   "cell_type": "code",
   "execution_count": 94,
   "id": "cc056869-134c-47bc-b442-919cb1a7027c",
   "metadata": {},
   "outputs": [
    {
     "data": {
      "text/html": [
       "<div>\n",
       "<style scoped>\n",
       "    .dataframe tbody tr th:only-of-type {\n",
       "        vertical-align: middle;\n",
       "    }\n",
       "\n",
       "    .dataframe tbody tr th {\n",
       "        vertical-align: top;\n",
       "    }\n",
       "\n",
       "    .dataframe thead th {\n",
       "        text-align: right;\n",
       "    }\n",
       "</style>\n",
       "<table border=\"1\" class=\"dataframe\">\n",
       "  <thead>\n",
       "    <tr style=\"text-align: right;\">\n",
       "      <th></th>\n",
       "      <th>lat</th>\n",
       "      <th>long</th>\n",
       "      <th>pcount</th>\n",
       "    </tr>\n",
       "  </thead>\n",
       "  <tbody>\n",
       "    <tr>\n",
       "      <th>0</th>\n",
       "      <td>27.7167</td>\n",
       "      <td>85.3167</td>\n",
       "      <td>7300.0</td>\n",
       "    </tr>\n",
       "    <tr>\n",
       "      <th>1</th>\n",
       "      <td>28.0000</td>\n",
       "      <td>84.0000</td>\n",
       "      <td>5000.0</td>\n",
       "    </tr>\n",
       "    <tr>\n",
       "      <th>2</th>\n",
       "      <td>28.2088</td>\n",
       "      <td>82.1708</td>\n",
       "      <td>622.0</td>\n",
       "    </tr>\n",
       "    <tr>\n",
       "      <th>3</th>\n",
       "      <td>28.2185</td>\n",
       "      <td>83.9877</td>\n",
       "      <td>301.0</td>\n",
       "    </tr>\n",
       "    <tr>\n",
       "      <th>4</th>\n",
       "      <td>27.5833</td>\n",
       "      <td>84.5000</td>\n",
       "      <td>260.0</td>\n",
       "    </tr>\n",
       "    <tr>\n",
       "      <th>...</th>\n",
       "      <td>...</td>\n",
       "      <td>...</td>\n",
       "      <td>...</td>\n",
       "    </tr>\n",
       "    <tr>\n",
       "      <th>274</th>\n",
       "      <td>27.5790</td>\n",
       "      <td>86.3452</td>\n",
       "      <td>2.0</td>\n",
       "    </tr>\n",
       "    <tr>\n",
       "      <th>275</th>\n",
       "      <td>28.7691</td>\n",
       "      <td>80.5636</td>\n",
       "      <td>2.0</td>\n",
       "    </tr>\n",
       "    <tr>\n",
       "      <th>276</th>\n",
       "      <td>30.0500</td>\n",
       "      <td>81.1333</td>\n",
       "      <td>2.0</td>\n",
       "    </tr>\n",
       "    <tr>\n",
       "      <th>277</th>\n",
       "      <td>31.0500</td>\n",
       "      <td>81.1300</td>\n",
       "      <td>1.0</td>\n",
       "    </tr>\n",
       "    <tr>\n",
       "      <th>278</th>\n",
       "      <td>31.0500</td>\n",
       "      <td>81.1300</td>\n",
       "      <td>0.0</td>\n",
       "    </tr>\n",
       "  </tbody>\n",
       "</table>\n",
       "<p>279 rows × 3 columns</p>\n",
       "</div>"
      ],
      "text/plain": [
       "         lat     long  pcount\n",
       "0    27.7167  85.3167  7300.0\n",
       "1    28.0000  84.0000  5000.0\n",
       "2    28.2088  82.1708   622.0\n",
       "3    28.2185  83.9877   301.0\n",
       "4    27.5833  84.5000   260.0\n",
       "..       ...      ...     ...\n",
       "274  27.5790  86.3452     2.0\n",
       "275  28.7691  80.5636     2.0\n",
       "276  30.0500  81.1333     2.0\n",
       "277  31.0500  81.1300     1.0\n",
       "278  31.0500  81.1300     0.0\n",
       "\n",
       "[279 rows x 3 columns]"
      ]
     },
     "execution_count": 94,
     "metadata": {},
     "output_type": "execute_result"
    }
   ],
   "source": [
    "df2 = {'lat': 31.05, 'long': 81.13, 'pcount': 0}\n",
    "\n",
    "df_count = df_count.append(df2, ignore_index = True)\n",
    "\n",
    "df_count"
   ]
  },
  {
   "cell_type": "code",
   "execution_count": 95,
   "id": "71a2a466-efbd-4f76-8b53-4c6798a00f39",
   "metadata": {},
   "outputs": [
    {
     "data": {
      "text/plain": [
       "20211.0"
      ]
     },
     "execution_count": 95,
     "metadata": {},
     "output_type": "execute_result"
    }
   ],
   "source": [
    "df_count['pcount'].sum()"
   ]
  },
  {
   "cell_type": "code",
   "execution_count": 24,
   "id": "4a58caf8-d40d-4043-ae23-1b15baf83e72",
   "metadata": {},
   "outputs": [],
   "source": [
    "df_count.to_csv(\"datapoints.csv\", index=False)"
   ]
  },
  {
   "cell_type": "code",
   "execution_count": 19,
   "id": "9d9f4d51-3ef8-4aaa-b1ed-a73397671267",
   "metadata": {},
   "outputs": [
    {
     "data": {
      "text/plain": [
       "<AxesSubplot:>"
      ]
     },
     "execution_count": 19,
     "metadata": {},
     "output_type": "execute_result"
    },
    {
     "data": {
      "image/png": "[encoded data removed]",
      "text/plain": [
       "<Figure size 432x288 with 1 Axes>"
      ]
     },
     "metadata": {
      "needs_background": "light"
     },
     "output_type": "display_data"
    }
   ],
   "source": [
    "df_count['pcount'].hist()"
   ]
  },
  {
   "cell_type": "code",
   "execution_count": 20,
   "id": "3fc411cd-dcb6-44df-8742-1744c4324321",
   "metadata": {},
   "outputs": [],
   "source": [
    "nn = df_count['pcount'].value_counts()"
   ]
  },
  {
   "cell_type": "code",
   "execution_count": 96,
   "id": "ef0104e1-8bd2-4222-88ef-1005c4432e33",
   "metadata": {},
   "outputs": [
    {
     "data": {
      "image/png": "[encoded data removed]",
      "text/plain": [
       "<Figure size 720x504 with 1 Axes>"
      ]
     },
     "metadata": {
      "needs_background": "light"
     },
     "output_type": "display_data"
    }
   ],
   "source": [
    "from matplotlib import pyplot as plt\n",
    "import numpy as np\n",
    "from matplotlib import colors\n",
    "from matplotlib.ticker import PercentFormatter\n",
    " \n",
    " \n",
    " \n",
    "\n",
    "# Creating histogram\n",
    "fig, ax = plt.subplots(figsize =(10, 7))\n",
    "ax.hist(df_count['pcount'], bins = [0,1,2,10,50,100,300,500,1000,2000, 5000, 10000,25000,30000])\n",
    "plt.xlabel(\"No. Of Protest\")\n",
    "plt.ylabel(\"No. of locations\") \n",
    "# Show plot\n",
    "plt.show()\n"
   ]
  },
  {
   "cell_type": "code",
   "execution_count": 97,
   "id": "904693fd-ba6b-4521-a625-9d527807c30c",
   "metadata": {},
   "outputs": [
    {
     "name": "stdout",
     "output_type": "stream",
     "text": [
      "<class 'pandas.core.frame.DataFrame'>\n",
      "RangeIndex: 279 entries, 0 to 278\n",
      "Data columns (total 3 columns):\n",
      " #   Column  Non-Null Count  Dtype  \n",
      "---  ------  --------------  -----  \n",
      " 0   lat     279 non-null    float64\n",
      " 1   long    279 non-null    float64\n",
      " 2   pcount  279 non-null    float64\n",
      "dtypes: float64(3)\n",
      "memory usage: 6.7 KB\n"
     ]
    }
   ],
   "source": [
    "df_count.info()"
   ]
  },
  {
   "cell_type": "code",
   "execution_count": 98,
   "id": "7b635951-c1ff-489c-a314-8cf66470767f",
   "metadata": {},
   "outputs": [
    {
     "name": "stderr",
     "output_type": "stream",
     "text": [
      "/home/samal/poudelnish/.conda/envs/aanisha/lib/python3.7/site-packages/geopandas/_compat.py:115: UserWarning: The Shapely GEOS version (3.9.1-CAPI-1.14.2) is incompatible with the GEOS version PyGEOS was compiled with (3.10.1-CAPI-1.16.0). Conversions between both will be slow.\n",
      "  shapely_geos_version, geos_capi_version_string\n"
     ]
    },
    {
     "data": {
      "text/html": [
       "<div>\n",
       "<style scoped>\n",
       "    .dataframe tbody tr th:only-of-type {\n",
       "        vertical-align: middle;\n",
       "    }\n",
       "\n",
       "    .dataframe tbody tr th {\n",
       "        vertical-align: top;\n",
       "    }\n",
       "\n",
       "    .dataframe thead th {\n",
       "        text-align: right;\n",
       "    }\n",
       "</style>\n",
       "<table border=\"1\" class=\"dataframe\">\n",
       "  <thead>\n",
       "    <tr style=\"text-align: right;\">\n",
       "      <th></th>\n",
       "      <th>lat</th>\n",
       "      <th>long</th>\n",
       "      <th>pcount</th>\n",
       "      <th>geometry</th>\n",
       "    </tr>\n",
       "  </thead>\n",
       "  <tbody>\n",
       "    <tr>\n",
       "      <th>0</th>\n",
       "      <td>27.7167</td>\n",
       "      <td>85.3167</td>\n",
       "      <td>7300.0</td>\n",
       "      <td>POINT (85.31670 27.71670)</td>\n",
       "    </tr>\n",
       "    <tr>\n",
       "      <th>1</th>\n",
       "      <td>28.0000</td>\n",
       "      <td>84.0000</td>\n",
       "      <td>5000.0</td>\n",
       "      <td>POINT (84.00000 28.00000)</td>\n",
       "    </tr>\n",
       "    <tr>\n",
       "      <th>2</th>\n",
       "      <td>28.2088</td>\n",
       "      <td>82.1708</td>\n",
       "      <td>622.0</td>\n",
       "      <td>POINT (82.17080 28.20880)</td>\n",
       "    </tr>\n",
       "    <tr>\n",
       "      <th>3</th>\n",
       "      <td>28.2185</td>\n",
       "      <td>83.9877</td>\n",
       "      <td>301.0</td>\n",
       "      <td>POINT (83.98770 28.21850)</td>\n",
       "    </tr>\n",
       "    <tr>\n",
       "      <th>4</th>\n",
       "      <td>27.5833</td>\n",
       "      <td>84.5000</td>\n",
       "      <td>260.0</td>\n",
       "      <td>POINT (84.50000 27.58330)</td>\n",
       "    </tr>\n",
       "  </tbody>\n",
       "</table>\n",
       "</div>"
      ],
      "text/plain": [
       "       lat     long  pcount                   geometry\n",
       "0  27.7167  85.3167  7300.0  POINT (85.31670 27.71670)\n",
       "1  28.0000  84.0000  5000.0  POINT (84.00000 28.00000)\n",
       "2  28.2088  82.1708   622.0  POINT (82.17080 28.20880)\n",
       "3  28.2185  83.9877   301.0  POINT (83.98770 28.21850)\n",
       "4  27.5833  84.5000   260.0  POINT (84.50000 27.58330)"
      ]
     },
     "execution_count": 98,
     "metadata": {},
     "output_type": "execute_result"
    }
   ],
   "source": [
    "import geopandas\n",
    "gdf = geopandas.GeoDataFrame(df_count, \n",
    "                                         geometry = geopandas.points_from_xy(df_count['long'], df_count['lat']),\n",
    "                            crs = \"EPSG:4326\")\n",
    "gdf.head()"
   ]
  },
  {
   "cell_type": "code",
   "execution_count": 99,
   "id": "3b335802-5666-4f13-919a-26191240a432",
   "metadata": {},
   "outputs": [
    {
     "name": "stdout",
     "output_type": "stream",
     "text": [
      "<class 'geopandas.geodataframe.GeoDataFrame'>\n",
      "RangeIndex: 279 entries, 0 to 278\n",
      "Data columns (total 4 columns):\n",
      " #   Column    Non-Null Count  Dtype   \n",
      "---  ------    --------------  -----   \n",
      " 0   lat       279 non-null    float64 \n",
      " 1   long      279 non-null    float64 \n",
      " 2   pcount    279 non-null    float64 \n",
      " 3   geometry  279 non-null    geometry\n",
      "dtypes: float64(3), geometry(1)\n",
      "memory usage: 8.8 KB\n"
     ]
    }
   ],
   "source": [
    "gdf.info()"
   ]
  },
  {
   "cell_type": "code",
   "execution_count": 100,
   "id": "5da13c28-365b-47ea-9b84-feb7d6f3f304",
   "metadata": {},
   "outputs": [],
   "source": [
    "nepal = geopandas.read_file('/work/samal/poudelnish/protest2018/gdelt/nepalprotest/ochashp/npl_admbnda_districts_nd_20201117.shp')"
   ]
  },
  {
   "cell_type": "code",
   "execution_count": 101,
   "id": "623ee446-6c82-4a14-91f0-551203c7d475",
   "metadata": {},
   "outputs": [
    {
     "data": {
      "text/html": [
       "<div>\n",
       "<style scoped>\n",
       "    .dataframe tbody tr th:only-of-type {\n",
       "        vertical-align: middle;\n",
       "    }\n",
       "\n",
       "    .dataframe tbody tr th {\n",
       "        vertical-align: top;\n",
       "    }\n",
       "\n",
       "    .dataframe thead th {\n",
       "        text-align: right;\n",
       "    }\n",
       "</style>\n",
       "<table border=\"1\" class=\"dataframe\">\n",
       "  <thead>\n",
       "    <tr style=\"text-align: right;\">\n",
       "      <th></th>\n",
       "      <th>Shape_Leng</th>\n",
       "      <th>Shape_Area</th>\n",
       "      <th>DIST_EN</th>\n",
       "      <th>DIST_PCODE</th>\n",
       "      <th>DIST_REF</th>\n",
       "      <th>DIST_ALT1E</th>\n",
       "      <th>DIST_ALT2E</th>\n",
       "      <th>ADM1_EN</th>\n",
       "      <th>ADM1_PCODE</th>\n",
       "      <th>ADM0_EN</th>\n",
       "      <th>ADM0_PCODE</th>\n",
       "      <th>date</th>\n",
       "      <th>validOn</th>\n",
       "      <th>validTo</th>\n",
       "      <th>geometry</th>\n",
       "    </tr>\n",
       "  </thead>\n",
       "  <tbody>\n",
       "    <tr>\n",
       "      <th>0</th>\n",
       "      <td>2.669841</td>\n",
       "      <td>0.157628</td>\n",
       "      <td>Achham</td>\n",
       "      <td>NP0769</td>\n",
       "      <td>None</td>\n",
       "      <td>None</td>\n",
       "      <td>None</td>\n",
       "      <td>Sudurpaschim</td>\n",
       "      <td>NP07</td>\n",
       "      <td>Nepal</td>\n",
       "      <td>NP</td>\n",
       "      <td>2020-11-17</td>\n",
       "      <td>2020-11-17</td>\n",
       "      <td>None</td>\n",
       "      <td>POLYGON ((81.17123 29.38651, 81.17158 29.38636...</td>\n",
       "    </tr>\n",
       "    <tr>\n",
       "      <th>1</th>\n",
       "      <td>2.379392</td>\n",
       "      <td>0.113604</td>\n",
       "      <td>Arghakhanchi</td>\n",
       "      <td>NP0550</td>\n",
       "      <td>None</td>\n",
       "      <td>None</td>\n",
       "      <td>None</td>\n",
       "      <td>Lumbini</td>\n",
       "      <td>NP05</td>\n",
       "      <td>Nepal</td>\n",
       "      <td>NP</td>\n",
       "      <td>2020-11-17</td>\n",
       "      <td>2020-11-17</td>\n",
       "      <td>None</td>\n",
       "      <td>POLYGON ((83.00452 28.11196, 83.00497 28.11185...</td>\n",
       "    </tr>\n",
       "    <tr>\n",
       "      <th>2</th>\n",
       "      <td>2.885914</td>\n",
       "      <td>0.168997</td>\n",
       "      <td>Baglung</td>\n",
       "      <td>NP0443</td>\n",
       "      <td>None</td>\n",
       "      <td>None</td>\n",
       "      <td>None</td>\n",
       "      <td>Gandaki</td>\n",
       "      <td>NP04</td>\n",
       "      <td>Nepal</td>\n",
       "      <td>NP</td>\n",
       "      <td>2020-11-17</td>\n",
       "      <td>2020-11-17</td>\n",
       "      <td>None</td>\n",
       "      <td>POLYGON ((83.09969 28.63449, 83.10098 28.63409...</td>\n",
       "    </tr>\n",
       "    <tr>\n",
       "      <th>3</th>\n",
       "      <td>2.499412</td>\n",
       "      <td>0.138908</td>\n",
       "      <td>Baitadi</td>\n",
       "      <td>NP0774</td>\n",
       "      <td>None</td>\n",
       "      <td>None</td>\n",
       "      <td>None</td>\n",
       "      <td>Sudurpaschim</td>\n",
       "      <td>NP07</td>\n",
       "      <td>Nepal</td>\n",
       "      <td>NP</td>\n",
       "      <td>2020-11-17</td>\n",
       "      <td>2020-11-17</td>\n",
       "      <td>None</td>\n",
       "      <td>POLYGON ((80.75845 29.70454, 80.75864 29.70430...</td>\n",
       "    </tr>\n",
       "    <tr>\n",
       "      <th>4</th>\n",
       "      <td>3.157278</td>\n",
       "      <td>0.322517</td>\n",
       "      <td>Bajhang</td>\n",
       "      <td>NP0767</td>\n",
       "      <td>None</td>\n",
       "      <td>None</td>\n",
       "      <td>None</td>\n",
       "      <td>Sudurpaschim</td>\n",
       "      <td>NP07</td>\n",
       "      <td>Nepal</td>\n",
       "      <td>NP</td>\n",
       "      <td>2020-11-17</td>\n",
       "      <td>2020-11-17</td>\n",
       "      <td>None</td>\n",
       "      <td>POLYGON ((81.09006 30.05419, 81.09033 30.05418...</td>\n",
       "    </tr>\n",
       "  </tbody>\n",
       "</table>\n",
       "</div>"
      ],
      "text/plain": [
       "   Shape_Leng  Shape_Area       DIST_EN DIST_PCODE DIST_REF DIST_ALT1E  \\\n",
       "0    2.669841    0.157628        Achham     NP0769     None       None   \n",
       "1    2.379392    0.113604  Arghakhanchi     NP0550     None       None   \n",
       "2    2.885914    0.168997       Baglung     NP0443     None       None   \n",
       "3    2.499412    0.138908       Baitadi     NP0774     None       None   \n",
       "4    3.157278    0.322517       Bajhang     NP0767     None       None   \n",
       "\n",
       "  DIST_ALT2E       ADM1_EN ADM1_PCODE ADM0_EN ADM0_PCODE        date  \\\n",
       "0       None  Sudurpaschim       NP07   Nepal         NP  2020-11-17   \n",
       "1       None       Lumbini       NP05   Nepal         NP  2020-11-17   \n",
       "2       None       Gandaki       NP04   Nepal         NP  2020-11-17   \n",
       "3       None  Sudurpaschim       NP07   Nepal         NP  2020-11-17   \n",
       "4       None  Sudurpaschim       NP07   Nepal         NP  2020-11-17   \n",
       "\n",
       "      validOn validTo                                           geometry  \n",
       "0  2020-11-17    None  POLYGON ((81.17123 29.38651, 81.17158 29.38636...  \n",
       "1  2020-11-17    None  POLYGON ((83.00452 28.11196, 83.00497 28.11185...  \n",
       "2  2020-11-17    None  POLYGON ((83.09969 28.63449, 83.10098 28.63409...  \n",
       "3  2020-11-17    None  POLYGON ((80.75845 29.70454, 80.75864 29.70430...  \n",
       "4  2020-11-17    None  POLYGON ((81.09006 30.05419, 81.09033 30.05418...  "
      ]
     },
     "execution_count": 101,
     "metadata": {},
     "output_type": "execute_result"
    }
   ],
   "source": [
    "nepal.head()"
   ]
  },
  {
   "cell_type": "code",
   "execution_count": 102,
   "id": "0427e472-c3eb-4e3d-9abd-d2f5c7f3a87f",
   "metadata": {},
   "outputs": [],
   "source": [
    "#gdf.rename(columns={\"count\": \"pcount\"} , inplace = True)"
   ]
  },
  {
   "cell_type": "code",
   "execution_count": 103,
   "id": "50e62e21-f45b-4af8-99e1-fe03063964c2",
   "metadata": {},
   "outputs": [
    {
     "data": {
      "text/plain": [
       "<AxesSubplot:>"
      ]
     },
     "execution_count": 103,
     "metadata": {},
     "output_type": "execute_result"
    },
    {
     "data": {
      "image/png": "[encoded data removed]",
      "text/plain": [
       "<Figure size 576x576 with 1 Axes>"
      ]
     },
     "metadata": {
      "needs_background": "light"
     },
     "output_type": "display_data"
    }
   ],
   "source": [
    "gdf.plot(markersize=.8, figsize=(8, 8))"
   ]
  },
  {
   "cell_type": "code",
   "execution_count": 104,
   "id": "67c21b52-1b88-4318-a1a4-5f102f96dd2b",
   "metadata": {},
   "outputs": [
    {
     "data": {
      "text/plain": [
       "(79.590835, 88.592465, 25.774905, 31.301195)"
      ]
     },
     "execution_count": 104,
     "metadata": {},
     "output_type": "execute_result"
    },
    {
     "data": {
      "image/png": "[encoded data removed]",
      "text/plain": [
       "<Figure size 864x864 with 1 Axes>"
      ]
     },
     "metadata": {
      "needs_background": "light"
     },
     "output_type": "display_data"
    }
   ],
   "source": [
    "ax = gdf.plot(markersize=.1, figsize=(12, 12), column='pcount', cmap='jet')\n",
    "plt.autoscale(False)\n",
    "world = geopandas.read_file(geopandas.datasets.get_path('naturalearth_lowres'))\n",
    "#world = geopandas.read_file(geopandas.datasets.get_path('naturalearth_cities'))\n",
    "world.to_crs(gdf.crs).plot(ax=ax, color='none', edgecolor='black')\n",
    "ax.axis('off')"
   ]
  },
  {
   "cell_type": "code",
   "execution_count": 105,
   "id": "82b638e6-e425-414c-b877-03f9350375c5",
   "metadata": {},
   "outputs": [],
   "source": [
    "from osgeo import gdal\n"
   ]
  },
  {
   "cell_type": "code",
   "execution_count": 106,
   "id": "0cb5b798-7582-421f-b8f1-c26a52f0634f",
   "metadata": {},
   "outputs": [],
   "source": [
    "dem = gdal.Open('/work/samal/poudelnish/proj_fraym/fraym_data/cropped/electricityvalue.tif')\n",
    "#dem = gdal.Open('/work/samal/poudelnish/proj_fraym/fraym_data/rgb/eB2.tif')\n"
   ]
  },
  {
   "cell_type": "code",
   "execution_count": 107,
   "id": "897b7bec-cd7e-42d8-b82e-3c239444b9ae",
   "metadata": {},
   "outputs": [
    {
     "data": {
      "text/plain": [
       "(84.590416343,\n",
       " 0.008333333301282008,\n",
       " 0.0,\n",
       " 28.241250089,\n",
       " 0.0,\n",
       " -0.008333333301136371)"
      ]
     },
     "execution_count": 107,
     "metadata": {},
     "output_type": "execute_result"
    }
   ],
   "source": [
    "gt = dem.GetGeoTransform()\n",
    "gt"
   ]
  },
  {
   "cell_type": "code",
   "execution_count": 108,
   "id": "9e73d94e-daf9-4219-b3dd-d44632312e12",
   "metadata": {},
   "outputs": [
    {
     "data": {
      "text/plain": [
       "156"
      ]
     },
     "execution_count": 108,
     "metadata": {},
     "output_type": "execute_result"
    }
   ],
   "source": [
    "dem.RasterXSize"
   ]
  },
  {
   "cell_type": "code",
   "execution_count": 109,
   "id": "32486f83-d191-4fb4-9eeb-b2ac8560a446",
   "metadata": {},
   "outputs": [
    {
     "data": {
      "text/plain": [
       "176"
      ]
     },
     "execution_count": 109,
     "metadata": {},
     "output_type": "execute_result"
    }
   ],
   "source": [
    "dem.RasterYSize"
   ]
  },
  {
   "cell_type": "code",
   "execution_count": 110,
   "id": "4062083d-bba2-4090-b482-ed59026a13e1",
   "metadata": {},
   "outputs": [],
   "source": [
    "import shapely\n",
    "# get coordinates of upper left corner\n",
    "xmin = gt[0]\n",
    "ymax = gt[3]\n",
    "res = gt[1]\n",
    "\n",
    "# determine total length of raster\n",
    "xlen = res * dem.RasterXSize\n",
    "ylen = res * dem.RasterYSize\n",
    "\n",
    "# number of tiles in x and y direction\n",
    "xdiv = 156\n",
    "ydiv = 176\n",
    "\n",
    "# size of a single tile\n",
    "xsize = xlen/xdiv\n",
    "ysize = ylen/ydiv\n",
    "\n",
    "# create lists of x and y coordinates\n",
    "xsteps = [xmin + xsize * i for i in range(xdiv+1)]\n",
    "ysteps = [ymax - ysize * i for i in range(ydiv+1)]\n",
    "grid_cell = []\n",
    "# loop over min and max x and y coordinates\n"
   ]
  },
  {
   "cell_type": "code",
   "execution_count": 111,
   "id": "c8d7fdf4-b415-433b-8e53-4cb71af1ea55",
   "metadata": {},
   "outputs": [],
   "source": [
    "centroid_grid =[]\n",
    "crs = \"EPSG:4326\"\n",
    "for i in range(xdiv):\n",
    "    for j in range(ydiv):\n",
    "        xmin = xsteps[i]\n",
    "        xmax = xsteps[i+1]\n",
    "        ymax = ysteps[j]\n",
    "        ymin = ysteps[j+1]\n",
    "        center_x = (xmax-xmin)/2\n",
    "        center_y = (ymax-ymin)/2\n",
    "        grid_cell.append( shapely.geometry.box(xmin, ymin, xmax, ymax) ) \n",
    "        centroid_grid.append((xmin+center_x,ymin+center_y))\n",
    "\n",
    "tif_cell = geopandas.GeoDataFrame(grid_cell, columns=['geometry'], \n",
    "                                 crs=crs)\n",
    "#center_cell = pd.DataFrame(centroid_grid,columns=['long_lat'])\n",
    "#         print(\"xmin: \"+str(xmin))\n",
    "#         print(\"xmax: \"+str(xmax))\n",
    "#         print(\"ymin: \"+str(ymin))\n",
    "#         print(\"ymax: \"+str(ymax))\n",
    "#         print(\"\\n\")\n",
    "        \n",
    "       \n",
    " \n"
   ]
  },
  {
   "cell_type": "code",
   "execution_count": 112,
   "id": "e89db633-7287-4f72-9948-1774460c220c",
   "metadata": {},
   "outputs": [],
   "source": [
    "# close the open dataset!!!\n",
    "dem = None"
   ]
  },
  {
   "cell_type": "code",
   "execution_count": 113,
   "id": "ea2623d7-9fa8-4937-9da4-9e3a4c9569df",
   "metadata": {},
   "outputs": [
    {
     "data": {
      "text/html": [
       "<div>\n",
       "<style scoped>\n",
       "    .dataframe tbody tr th:only-of-type {\n",
       "        vertical-align: middle;\n",
       "    }\n",
       "\n",
       "    .dataframe tbody tr th {\n",
       "        vertical-align: top;\n",
       "    }\n",
       "\n",
       "    .dataframe thead th {\n",
       "        text-align: right;\n",
       "    }\n",
       "</style>\n",
       "<table border=\"1\" class=\"dataframe\">\n",
       "  <thead>\n",
       "    <tr style=\"text-align: right;\">\n",
       "      <th></th>\n",
       "      <th>geometry</th>\n",
       "    </tr>\n",
       "  </thead>\n",
       "  <tbody>\n",
       "    <tr>\n",
       "      <th>0</th>\n",
       "      <td>POLYGON ((84.59875 28.23292, 84.59875 28.24125...</td>\n",
       "    </tr>\n",
       "    <tr>\n",
       "      <th>1</th>\n",
       "      <td>POLYGON ((84.59875 28.22458, 84.59875 28.23292...</td>\n",
       "    </tr>\n",
       "    <tr>\n",
       "      <th>2</th>\n",
       "      <td>POLYGON ((84.59875 28.21625, 84.59875 28.22458...</td>\n",
       "    </tr>\n",
       "    <tr>\n",
       "      <th>3</th>\n",
       "      <td>POLYGON ((84.59875 28.20792, 84.59875 28.21625...</td>\n",
       "    </tr>\n",
       "    <tr>\n",
       "      <th>4</th>\n",
       "      <td>POLYGON ((84.59875 28.19958, 84.59875 28.20792...</td>\n",
       "    </tr>\n",
       "    <tr>\n",
       "      <th>...</th>\n",
       "      <td>...</td>\n",
       "    </tr>\n",
       "    <tr>\n",
       "      <th>27451</th>\n",
       "      <td>POLYGON ((85.89042 26.80792, 85.89042 26.81625...</td>\n",
       "    </tr>\n",
       "    <tr>\n",
       "      <th>27452</th>\n",
       "      <td>POLYGON ((85.89042 26.79958, 85.89042 26.80792...</td>\n",
       "    </tr>\n",
       "    <tr>\n",
       "      <th>27453</th>\n",
       "      <td>POLYGON ((85.89042 26.79125, 85.89042 26.79958...</td>\n",
       "    </tr>\n",
       "    <tr>\n",
       "      <th>27454</th>\n",
       "      <td>POLYGON ((85.89042 26.78292, 85.89042 26.79125...</td>\n",
       "    </tr>\n",
       "    <tr>\n",
       "      <th>27455</th>\n",
       "      <td>POLYGON ((85.89042 26.77458, 85.89042 26.78292...</td>\n",
       "    </tr>\n",
       "  </tbody>\n",
       "</table>\n",
       "<p>27456 rows × 1 columns</p>\n",
       "</div>"
      ],
      "text/plain": [
       "                                                geometry\n",
       "0      POLYGON ((84.59875 28.23292, 84.59875 28.24125...\n",
       "1      POLYGON ((84.59875 28.22458, 84.59875 28.23292...\n",
       "2      POLYGON ((84.59875 28.21625, 84.59875 28.22458...\n",
       "3      POLYGON ((84.59875 28.20792, 84.59875 28.21625...\n",
       "4      POLYGON ((84.59875 28.19958, 84.59875 28.20792...\n",
       "...                                                  ...\n",
       "27451  POLYGON ((85.89042 26.80792, 85.89042 26.81625...\n",
       "27452  POLYGON ((85.89042 26.79958, 85.89042 26.80792...\n",
       "27453  POLYGON ((85.89042 26.79125, 85.89042 26.79958...\n",
       "27454  POLYGON ((85.89042 26.78292, 85.89042 26.79125...\n",
       "27455  POLYGON ((85.89042 26.77458, 85.89042 26.78292...\n",
       "\n",
       "[27456 rows x 1 columns]"
      ]
     },
     "execution_count": 113,
     "metadata": {},
     "output_type": "execute_result"
    }
   ],
   "source": [
    "tif_cell"
   ]
  },
  {
   "cell_type": "code",
   "execution_count": 114,
   "id": "f66c77a0-bb85-4599-bbfa-5e5505bf4893",
   "metadata": {},
   "outputs": [
    {
     "data": {
      "text/plain": [
       "27456"
      ]
     },
     "execution_count": 114,
     "metadata": {},
     "output_type": "execute_result"
    }
   ],
   "source": [
    "len(grid_cell)"
   ]
  },
  {
   "cell_type": "code",
   "execution_count": 115,
   "id": "c96374a0-7fac-4cba-978a-263752c52a52",
   "metadata": {},
   "outputs": [
    {
     "data": {
      "text/plain": [
       "27456"
      ]
     },
     "execution_count": 115,
     "metadata": {},
     "output_type": "execute_result"
    }
   ],
   "source": [
    "len(centroid_grid)"
   ]
  },
  {
   "cell_type": "code",
   "execution_count": 116,
   "id": "503e9b1f-1233-4f52-8e66-ba6a233df6dd",
   "metadata": {},
   "outputs": [],
   "source": [
    "center_cell = pd.DataFrame(centroid_grid,columns=['grid_long','grid_lat'])"
   ]
  },
  {
   "cell_type": "code",
   "execution_count": 117,
   "id": "27c3d7d2-23c5-438d-8bb0-5cf9427b28b7",
   "metadata": {},
   "outputs": [
    {
     "data": {
      "text/html": [
       "<div>\n",
       "<style scoped>\n",
       "    .dataframe tbody tr th:only-of-type {\n",
       "        vertical-align: middle;\n",
       "    }\n",
       "\n",
       "    .dataframe tbody tr th {\n",
       "        vertical-align: top;\n",
       "    }\n",
       "\n",
       "    .dataframe thead th {\n",
       "        text-align: right;\n",
       "    }\n",
       "</style>\n",
       "<table border=\"1\" class=\"dataframe\">\n",
       "  <thead>\n",
       "    <tr style=\"text-align: right;\">\n",
       "      <th></th>\n",
       "      <th>grid_long</th>\n",
       "      <th>grid_lat</th>\n",
       "      <th>index_no</th>\n",
       "    </tr>\n",
       "  </thead>\n",
       "  <tbody>\n",
       "    <tr>\n",
       "      <th>0</th>\n",
       "      <td>84.594583</td>\n",
       "      <td>28.237083</td>\n",
       "      <td>0</td>\n",
       "    </tr>\n",
       "    <tr>\n",
       "      <th>1</th>\n",
       "      <td>84.594583</td>\n",
       "      <td>28.228750</td>\n",
       "      <td>1</td>\n",
       "    </tr>\n",
       "    <tr>\n",
       "      <th>2</th>\n",
       "      <td>84.594583</td>\n",
       "      <td>28.220417</td>\n",
       "      <td>2</td>\n",
       "    </tr>\n",
       "    <tr>\n",
       "      <th>3</th>\n",
       "      <td>84.594583</td>\n",
       "      <td>28.212083</td>\n",
       "      <td>3</td>\n",
       "    </tr>\n",
       "    <tr>\n",
       "      <th>4</th>\n",
       "      <td>84.594583</td>\n",
       "      <td>28.203750</td>\n",
       "      <td>4</td>\n",
       "    </tr>\n",
       "  </tbody>\n",
       "</table>\n",
       "</div>"
      ],
      "text/plain": [
       "   grid_long   grid_lat  index_no\n",
       "0  84.594583  28.237083         0\n",
       "1  84.594583  28.228750         1\n",
       "2  84.594583  28.220417         2\n",
       "3  84.594583  28.212083         3\n",
       "4  84.594583  28.203750         4"
      ]
     },
     "execution_count": 117,
     "metadata": {},
     "output_type": "execute_result"
    }
   ],
   "source": [
    "\n",
    "center_cell['index_no'] = center_cell.index\n",
    "center_cell.head()"
   ]
  },
  {
   "cell_type": "code",
   "execution_count": 118,
   "id": "afa1faf1-4539-40d0-829e-476d2b1220d2",
   "metadata": {},
   "outputs": [
    {
     "data": {
      "text/plain": [
       "(79.590835, 88.592465, 25.774905, 31.301195)"
      ]
     },
     "execution_count": 118,
     "metadata": {},
     "output_type": "execute_result"
    },
    {
     "data": {
      "image/png": "[encoded data removed]",
      "text/plain": [
       "<Figure size 1152x1152 with 1 Axes>"
      ]
     },
     "metadata": {
      "needs_background": "light"
     },
     "output_type": "display_data"
    }
   ],
   "source": [
    "ax = gdf.plot(markersize=2.0, figsize=(16, 16), column='pcount', cmap='jet')\n",
    "plt.autoscale(False)\n",
    "world = geopandas.read_file(geopandas.datasets.get_path('naturalearth_lowres'))\n",
    "#world = geopandas.read_file(geopandas.datasets.get_path('naturalearth_cities'))\n",
    "world.to_crs(gdf.crs).plot(ax=ax, color='none', edgecolor='black')\n",
    "tif_cell.plot(ax=ax, facecolor=\"none\", edgecolor='grey')\n",
    "ax.axis(\"off\")"
   ]
  },
  {
   "cell_type": "code",
   "execution_count": 119,
   "id": "f7a44acc-10d4-4ddb-85a8-58f25a771194",
   "metadata": {},
   "outputs": [
    {
     "name": "stdout",
     "output_type": "stream",
     "text": [
      "27.7167 85.3167\n"
     ]
    }
   ],
   "source": [
    "center_x, center_y = df['lat'].median(), df['long'].median()\n",
    "print(center_x, center_y)"
   ]
  },
  {
   "cell_type": "code",
   "execution_count": 120,
   "id": "3fce161b-1ee9-4d31-b8db-5f751771f105",
   "metadata": {},
   "outputs": [],
   "source": [
    "def generateBaseMap(default_location=[27.96715, 83.9830865], default_zoom_start=8, width=500, height=500):\n",
    "    base_map = folium.Map(location=default_location, \n",
    "                          width=width,height=height,\n",
    "                          control_scale=True, zoom_start=default_zoom_start)\n",
    "    return base_map"
   ]
  },
  {
   "cell_type": "code",
   "execution_count": 131,
   "id": "0d0cee04-268a-4d78-ad75-34dbef00d6c6",
   "metadata": {},
   "outputs": [
    {
     "name": "stdout",
     "output_type": "stream",
     "text": [
      "Number of protest in Nepal in year 2018\n"
     ]
    },
    {
     "data": {
      "text/html": [
       "<div style=\"width:100%;\"><div style=\"position:relative;width:100%;height:0;padding-bottom:60%;\"><span style=\"color:#565656\">Make this Notebook Trusted to load map: File -> Trust Notebook</span><iframe src=\"about:blank\" style=\"position:absolute;width:100%;height:100%;left:0;top:0;border:none !important;\" data-html=%3C%21DOCTYPE%20html%3E%0A%3Chead%3E%20%20%20%20%0A%20%20%20%20%3Cmeta%20http-equiv%3D%22content-type%22%20content%3D%22text/html%3B%20charset%3DUTF-8%22%20/%3E%0A%20%20%20%20%0A%20%20%20%20%20%20%20%20%3Cscript%3E%0A%20%20%20%20%20%20%20%20%20%20%20%20L_NO_TOUCH%20%3D%20false%3B%0A%20%20%20%20%20%20%20%20%20%20%20%20L_DISABLE_3D%20%3D%20false%3B%0A%20%20%20%20%20%20%20%20%3C/script%3E%0A%20%20%20%20%0A%20%20%20%20%3Cstyle%3Ehtml%2C%20body%20%7Bwidth%3A%20100%25%3Bheight%3A%20100%25%3Bmargin%3A%200%3Bpadding%3A%200%3B%7D%3C/style%3E%0A%20%20%20%20%3Cstyle%3E%23map%20%7Bposition%3Aabsolute%3Btop%3A0%3Bbottom%3A0%3Bright%3A0%3Bleft%3A0%3B%7D%3C/style%3E%0A%20%20%20%20%3Cscript%20src%3D%22https%3A//cdn.jsdelivr.net/npm/leaflet%401.6.0/dist/leaflet.js%22%3E%3C/script%3E%0A%20%20%20%20%3Cscript%20src%3D%22https%3A//code.jquery.com/jquery-1.12.4.min.js%22%3E%3C/script%3E%0A%20%20%20%20%3Cscript%20src%3D%22https%3A//maxcdn.bootstrapcdn.com/bootstrap/3.2.0/js/bootstrap.min.js%22%3E%3C/script%3E%0A%20%20%20%20%3Cscript%20src%3D%22https%3A//cdnjs.cloudflare.com/ajax/libs/Leaflet.awesome-markers/2.0.2/leaflet.awesome-markers.js%22%3E%3C/script%3E%0A%20%20%20%20%3Clink%20rel%3D%22stylesheet%22%20href%3D%22https%3A//cdn.jsdelivr.net/npm/leaflet%401.6.0/dist/leaflet.css%22/%3E%0A%20%20%20%20%3Clink%20rel%3D%22stylesheet%22%20href%3D%22https%3A//maxcdn.bootstrapcdn.com/bootstrap/3.2.0/css/bootstrap.min.css%22/%3E%0A%20%20%20%20%3Clink%20rel%3D%22stylesheet%22%20href%3D%22https%3A//maxcdn.bootstrapcdn.com/bootstrap/3.2.0/css/bootstrap-theme.min.css%22/%3E%0A%20%20%20%20%3Clink%20rel%3D%22stylesheet%22%20href%3D%22https%3A//maxcdn.bootstrapcdn.com/font-awesome/4.6.3/css/font-awesome.min.css%22/%3E%0A%20%20%20%20%3Clink%20rel%3D%22stylesheet%22%20href%3D%22https%3A//cdnjs.cloudflare.com/ajax/libs/Leaflet.awesome-markers/2.0.2/leaflet.awesome-markers.css%22/%3E%0A%20%20%20%20%3Clink%20rel%3D%22stylesheet%22%20href%3D%22https%3A//cdn.jsdelivr.net/gh/python-visualization/folium/folium/templates/leaflet.awesome.rotate.min.css%22/%3E%0A%20%20%20%20%0A%20%20%20%20%20%20%20%20%20%20%20%20%3Cmeta%20name%3D%22viewport%22%20content%3D%22width%3Ddevice-width%2C%0A%20%20%20%20%20%20%20%20%20%20%20%20%20%20%20%20initial-scale%3D1.0%2C%20maximum-scale%3D1.0%2C%20user-scalable%3Dno%22%20/%3E%0A%20%20%20%20%20%20%20%20%20%20%20%20%3Cstyle%3E%0A%20%20%20%20%20%20%20%20%20%20%20%20%20%20%20%20%23map_74a6e7b648b34767bb9e82b5b562a90e%20%7B%0A%20%20%20%20%20%20%20%20%20%20%20%20%20%20%20%20%20%20%20%20position%3A%20relative%3B%0A%20%20%20%20%20%20%20%20%20%20%20%20%20%20%20%20%20%20%20%20width%3A%201000.0px%3B%0A%20%20%20%20%20%20%20%20%20%20%20%20%20%20%20%20%20%20%20%20height%3A%20800.0px%3B%0A%20%20%20%20%20%20%20%20%20%20%20%20%20%20%20%20%20%20%20%20left%3A%200.0%25%3B%0A%20%20%20%20%20%20%20%20%20%20%20%20%20%20%20%20%20%20%20%20top%3A%200.0%25%3B%0A%20%20%20%20%20%20%20%20%20%20%20%20%20%20%20%20%7D%0A%20%20%20%20%20%20%20%20%20%20%20%20%3C/style%3E%0A%20%20%20%20%20%20%20%20%0A%20%20%20%20%3Cscript%20src%3D%22https%3A//cdn.jsdelivr.net/gh/python-visualization/folium%40master/folium/templates/leaflet_heat.min.js%22%3E%3C/script%3E%0A%3C/head%3E%0A%3Cbody%3E%20%20%20%20%0A%20%20%20%20%0A%20%20%20%20%20%20%20%20%20%20%20%20%3Cdiv%20class%3D%22folium-map%22%20id%3D%22map_74a6e7b648b34767bb9e82b5b562a90e%22%20%3E%3C/div%3E%0A%20%20%20%20%20%20%20%20%0A%3C/body%3E%0A%3Cscript%3E%20%20%20%20%0A%20%20%20%20%0A%20%20%20%20%20%20%20%20%20%20%20%20var%20map_74a6e7b648b34767bb9e82b5b562a90e%20%3D%20L.map%28%0A%20%20%20%20%20%20%20%20%20%20%20%20%20%20%20%20%22map_74a6e7b648b34767bb9e82b5b562a90e%22%2C%0A%20%20%20%20%20%20%20%20%20%20%20%20%20%20%20%20%7B%0A%20%20%20%20%20%20%20%20%20%20%20%20%20%20%20%20%20%20%20%20center%3A%20%5B27.7167%2C%2085.3167%5D%2C%0A%20%20%20%20%20%20%20%20%20%20%20%20%20%20%20%20%20%20%20%20crs%3A%20L.CRS.EPSG3857%2C%0A%20%20%20%20%20%20%20%20%20%20%20%20%20%20%20%20%20%20%20%20zoom%3A%208%2C%0A%20%20%20%20%20%20%20%20%20%20%20%20%20%20%20%20%20%20%20%20zoomControl%3A%20true%2C%0A%20%20%20%20%20%20%20%20%20%20%20%20%20%20%20%20%20%20%20%20preferCanvas%3A%20false%2C%0A%20%20%20%20%20%20%20%20%20%20%20%20%20%20%20%20%7D%0A%20%20%20%20%20%20%20%20%20%20%20%20%29%3B%0A%20%20%20%20%20%20%20%20%20%20%20%20L.control.scale%28%29.addTo%28map_74a6e7b648b34767bb9e82b5b562a90e%29%3B%0A%0A%20%20%20%20%20%20%20%20%20%20%20%20%0A%0A%20%20%20%20%20%20%20%20%0A%20%20%20%20%0A%20%20%20%20%20%20%20%20%20%20%20%20var%20tile_layer_7199ef7ca23745ac96e03ca530d8d4e8%20%3D%20L.tileLayer%28%0A%20%20%20%20%20%20%20%20%20%20%20%20%20%20%20%20%22https%3A//%7Bs%7D.tile.openstreetmap.org/%7Bz%7D/%7Bx%7D/%7By%7D.png%22%2C%0A%20%20%20%20%20%20%20%20%20%20%20%20%20%20%20%20%7B%22attribution%22%3A%20%22Data%20by%20%5Cu0026copy%3B%20%5Cu003ca%20href%3D%5C%22http%3A//openstreetmap.org%5C%22%5Cu003eOpenStreetMap%5Cu003c/a%5Cu003e%2C%20under%20%5Cu003ca%20href%3D%5C%22http%3A//www.openstreetmap.org/copyright%5C%22%5Cu003eODbL%5Cu003c/a%5Cu003e.%22%2C%20%22detectRetina%22%3A%20false%2C%20%22maxNativeZoom%22%3A%2018%2C%20%22maxZoom%22%3A%2018%2C%20%22minZoom%22%3A%200%2C%20%22noWrap%22%3A%20false%2C%20%22opacity%22%3A%201%2C%20%22subdomains%22%3A%20%22abc%22%2C%20%22tms%22%3A%20false%7D%0A%20%20%20%20%20%20%20%20%20%20%20%20%29.addTo%28map_74a6e7b648b34767bb9e82b5b562a90e%29%3B%0A%20%20%20%20%20%20%20%20%0A%20%20%20%20%0A%20%20%20%20%20%20%20%20%20%20%20%20var%20heat_map_a3d7088dd4c644e1a054f9bb7f268c0e%20%3D%20L.heatLayer%28%0A%20%20%20%20%20%20%20%20%20%20%20%20%20%20%20%20%5B%5B26.0261%2C%2086.5443%2C%204.0%5D%2C%20%5B26.2%2C%2087.5333%2C%202.0%5D%2C%20%5B26.4632%2C%2087.4897%2C%202.0%5D%2C%20%5B26.4694%2C%2087.2842%2C%20213.0%5D%2C%20%5B26.4845%2C%2087.8561%2C%2096.0%5D%2C%20%5B26.493%2C%2086.8566%2C%2042.0%5D%2C%20%5B26.5%2C%2086.8333%2C%202.0%5D%2C%20%5B26.544%2C%2088.0944%2C%203.0%5D%2C%20%5B26.5833%2C%2086.75%2C%2061.0%5D%2C%20%5B26.5917%2C%2086.4943%2C%206.0%5D%2C%20%5B26.6471%2C%2085.8008%2C%208.0%5D%2C%20%5B26.6541%2C%2086.2087%2C%2056.0%5D%2C%20%5B26.6667%2C%2087.1667%2C%20113.0%5D%2C%20%5B26.6667%2C%2087.2833%2C%2035.0%5D%2C%20%5B26.6667%2C%2087.5%2C%2085.0%5D%2C%20%5B26.7174%2C%2086.0554%2C%203.0%5D%2C%20%5B26.7183%2C%2085.9065%2C%20218.0%5D%2C%20%5B26.7547%2C%2086.4264%2C%202.0%5D%2C%20%5B26.7928%2C%2086.7036%2C%205.0%5D%2C%20%5B26.8125%2C%2087.2836%2C%2022.0%5D%2C%20%5B26.8333%2C%2086.0833%2C%2049.0%5D%2C%20%5B26.8568%2C%2085.5581%2C%209.0%5D%2C%20%5B26.8999%2C%2086.5356%2C%204.0%5D%2C%20%5B26.9167%2C%2085.8333%2C%2067.0%5D%2C%20%5B26.9167%2C%2086.6667%2C%2041.0%5D%2C%20%5B26.9167%2C%2087.15%2C%204.0%5D%2C%20%5B26.9167%2C%2087.1667%2C%204.0%5D%2C%20%5B26.9167%2C%2087.9167%2C%202.0%5D%2C%20%5B26.9417%2C%2086.5203%2C%205.0%5D%2C%20%5B26.95%2C%2085.8%2C%204.0%5D%2C%20%5B26.9801%2C%2087.3453%2C%2034.0%5D%2C%20%5B27.0%2C%2085.3333%2C%20141.0%5D%2C%20%5B27.0%2C%2085.5833%2C%2064.0%5D%2C%20%5B27.0071%2C%2085.3859%2C%202.0%5D%2C%20%5B27.0104%2C%2084.8773%2C%20170.0%5D%2C%20%5B27.0255%2C%2085.9166%2C%206.0%5D%2C%20%5B27.0296%2C%2086.8451%2C%2024.0%5D%2C%20%5B27.033%2C%2085.0032%2C%208.0%5D%2C%20%5B27.0759%2C%2084.9254%2C%203.0%5D%2C%20%5B27.0939%2C%2085.0726%2C%2025.0%5D%2C%20%5B27.1257%2C%2087.5377%2C%209.0%5D%2C%20%5B27.1446%2C%2087.7691%2C%202.0%5D%2C%20%5B27.1499%2C%2086.4328%2C%202.0%5D%2C%20%5B27.15%2C%2087.3167%2C%204.0%5D%2C%20%5B27.1667%2C%2084.9833%2C%2010.0%5D%2C%20%5B27.1667%2C%2087.8333%2C%2026.0%5D%2C%20%5B27.1715%2C%2087.0461%2C%2023.0%5D%2C%20%5B27.1833%2C%2087.8833%2C%205.0%5D%2C%20%5B27.2153%2C%2086.8014%2C%204.0%5D%2C%20%5B27.2333%2C%2086.6667%2C%2061.0%5D%2C%20%5B27.262%2C%2087.9485%2C%202.0%5D%2C%20%5B27.2667%2C%2085.0%2C%208.0%5D%2C%20%5B27.2797%2C%2084.9904%2C%203.0%5D%2C%20%5B27.2799%2C%2085.9842%2C%2028.0%5D%2C%20%5B27.2873%2C%2087.2165%2C%204.0%5D%2C%20%5B27.3103%2C%2086.505%2C%2048.0%5D%2C%20%5B27.3168%2C%2087.8673%2C%206.0%5D%2C%20%5B27.3256%2C%2086.0877%2C%2040.0%5D%2C%20%5B27.3506%2C%2084.6231%2C%202.0%5D%2C%20%5B27.3571%2C%2087.6723%2C%2011.0%5D%2C%20%5B27.3667%2C%2084.9167%2C%2015.0%5D%2C%20%5B27.3747%2C%2087.2039%2C%205.0%5D%2C%20%5B27.4167%2C%2085.25%2C%2037.0%5D%2C%20%5B27.4284%2C%2085.0322%2C%2062.0%5D%2C%20%5B27.4833%2C%2083.2833%2C%20112.0%5D%2C%20%5B27.5%2C%2083.3333%2C%203.0%5D%2C%20%5B27.5%2C%2083.4167%2C%2029.0%5D%2C%20%5B27.5%2C%2083.45%2C%2044.0%5D%2C%20%5B27.5011%2C%2086.5869%2C%204.0%5D%2C%20%5B27.5145%2C%2086.065%2C%202.0%5D%2C%20%5B27.5167%2C%2082.8%2C%205.0%5D%2C%20%5B27.5206%2C%2086.5948%2C%206.0%5D%2C%20%5B27.5225%2C%2083.6806%2C%204.0%5D%2C%20%5B27.5333%2C%2085.2333%2C%204.0%5D%2C%20%5B27.5405%2C%2085.1355%2C%206.0%5D%2C%20%5B27.5429%2C%2084.1217%2C%203.0%5D%2C%20%5B27.5445%2C%2083.0536%2C%2027.0%5D%2C%20%5B27.5604%2C%2082.9558%2C%2015.0%5D%2C%20%5B27.5761%2C%2084.57%2C%203.0%5D%2C%20%5B27.579%2C%2086.3452%2C%202.0%5D%2C%20%5B27.5833%2C%2084.2333%2C%204.0%5D%2C%20%5B27.5833%2C%2084.5%2C%20260.0%5D%2C%20%5B27.5833%2C%2085.6667%2C%2010.0%5D%2C%20%5B27.5833%2C%2087.3333%2C%2021.0%5D%2C%20%5B27.5986%2C%2085.3872%2C%2036.0%5D%2C%20%5B27.6%2C%2085.2667%2C%204.0%5D%2C%20%5B27.6%2C%2085.3%2C%206.0%5D%2C%20%5B27.6%2C%2086.1667%2C%203.0%5D%2C%20%5B27.6059%2C%2085.264%2C%209.0%5D%2C%20%5B27.6167%2C%2083.6333%2C%202.0%5D%2C%20%5B27.6167%2C%2085.15%2C%202.0%5D%2C%20%5B27.6189%2C%2085.553%2C%2020.0%5D%2C%20%5B27.6287%2C%2085.3039%2C%209.0%5D%2C%20%5B27.6298%2C%2085.5214%2C%2019.0%5D%2C%20%5B27.6443%2C%2085.3737%2C%204.0%5D%2C%20%5B27.65%2C%2085.6167%2C%206.0%5D%2C%20%5B27.6503%2C%2085.4093%2C%2042.0%5D%2C%20%5B27.6632%2C%2086.0493%2C%2015.0%5D%2C%20%5B27.6653%2C%2085.2906%2C%204.0%5D%2C%20%5B27.6667%2C%2082.9167%2C%2011.0%5D%2C%20%5B27.6667%2C%2082.95%2C%202.0%5D%2C%20%5B27.6667%2C%2083.4167%2C%204.0%5D%2C%20%5B27.6667%2C%2083.9167%2C%2039.0%5D%2C%20%5B27.6667%2C%2084.0%2C%2084.0%5D%2C%20%5B27.6667%2C%2085.3167%2C%205.0%5D%2C%20%5B27.6667%2C%2085.35%2C%20209.0%5D%2C%20%5B27.6678%2C%2085.3526%2C%209.0%5D%2C%20%5B27.6682%2C%2085.3522%2C%203.0%5D%2C%20%5B27.6684%2C%2085.361%2C%202.0%5D%2C%20%5B27.673%2C%2085.43%2C%20166.0%5D%2C%20%5B27.6766%2C%2085.3142%2C%20211.0%5D%2C%20%5B27.6784%2C%2085.386%2C%208.0%5D%2C%20%5B27.6791%2C%2086.0743%2C%2055.0%5D%2C%20%5B27.6799%2C%2085.2754%2C%2022.0%5D%2C%20%5B27.6833%2C%2084.4167%2C%206.0%5D%2C%20%5B27.684%2C%2082.5269%2C%202.0%5D%2C%20%5B27.6897%2C%2085.2137%2C%2011.0%5D%2C%20%5B27.6942%2C%2086.7406%2C%2024.0%5D%2C%20%5B27.6981%2C%2085.1451%2C%203.0%5D%2C%20%5B27.6986%2C%2085.3595%2C%20212.0%5D%2C%20%5B27.7%2C%2083.1333%2C%205.0%5D%2C%20%5B27.7%2C%2083.25%2C%202.0%5D%2C%20%5B27.7%2C%2085.35%2C%2039.0%5D%2C%20%5B27.7006%2C%2083.4484%2C%2053.0%5D%2C%20%5B27.707%2C%2085.5153%2C%206.0%5D%2C%20%5B27.7167%2C%2085.3%2C%2011.0%5D%2C%20%5B27.7167%2C%2085.3167%2C%207300.0%5D%2C%20%5B27.7167%2C%2085.3667%2C%2023.0%5D%2C%20%5B27.7291%2C%2085.4632%2C%202.0%5D%2C%20%5B27.7333%2C%2085.3%2C%2023.0%5D%2C%20%5B27.7417%2C%2084.4217%2C%2013.0%5D%2C%20%5B27.7489%2C%2085.2694%2C%208.0%5D%2C%20%5B27.75%2C%2083.5%2C%202.0%5D%2C%20%5B27.75%2C%2085.3333%2C%2012.0%5D%2C%20%5B27.75%2C%2086.75%2C%2013.0%5D%2C%20%5B27.7546%2C%2085.4135%2C%208.0%5D%2C%20%5B27.7555%2C%2085.3454%2C%2013.0%5D%2C%20%5B27.7667%2C%2085.35%2C%2050.0%5D%2C%20%5B27.7667%2C%2085.4333%2C%205.0%5D%2C%20%5B27.7667%2C%2085.9%2C%202.0%5D%2C%20%5B27.7752%2C%2085.7104%2C%205.0%5D%2C%20%5B27.7766%2C%2085.3713%2C%2014.0%5D%2C%20%5B27.7833%2C%2086.75%2C%2014.0%5D%2C%20%5B27.7833%2C%2088.1833%2C%202.0%5D%2C%20%5B27.7896%2C%2085.3323%2C%203.0%5D%2C%20%5B27.7932%2C%2085.2242%2C%2033.0%5D%2C%20%5B27.8%2C%2084.75%2C%2042.0%5D%2C%20%5B27.8125%2C%2085.2621%2C%205.0%5D%2C%20%5B27.8152%2C%2085.3881%2C%204.0%5D%2C%20%5B27.8167%2C%2084.7833%2C%209.0%5D%2C%20%5B27.8226%2C%2086.7191%2C%202.0%5D%2C%20%5B27.8322%2C%2086.649%2C%203.0%5D%2C%20%5B27.8333%2C%2086.25%2C%202.0%5D%2C%20%5B27.8559%2C%2086.7892%2C%202.0%5D%2C%20%5B27.8642%2C%2084.9283%2C%2065.0%5D%2C%20%5B27.8673%2C%2083.5467%2C%206.0%5D%2C%20%5B27.8844%2C%2084.6824%2C%202.0%5D%2C%20%5B27.8925%2C%2086.8447%2C%202.0%5D%2C%20%5B27.8998%2C%2085.1532%2C%202.0%5D%2C%20%5B27.9148%2C%2086.2094%2C%202.0%5D%2C%20%5B27.9167%2C%2083.0833%2C%2011.0%5D%2C%20%5B27.9167%2C%2085.25%2C%208.0%5D%2C%20%5B27.9167%2C%2085.4167%2C%2040.0%5D%2C%20%5B27.9167%2C%2085.75%2C%2012.0%5D%2C%20%5B27.9167%2C%2087.1333%2C%2014.0%5D%2C%20%5B27.9392%2C%2084.4168%2C%203.0%5D%2C%20%5B27.9419%2C%2085.9416%2C%2024.0%5D%2C%20%5B27.95%2C%2085.4833%2C%203.0%5D%2C%20%5B27.95%2C%2086.3333%2C%203.0%5D%2C%20%5B27.95%2C%2086.8167%2C%204.0%5D%2C%20%5B27.9525%2C%2085.9485%2C%205.0%5D%2C%20%5B27.9726%2C%2085.1707%2C%203.0%5D%2C%20%5B27.9818%2C%2083.245%2C%204.0%5D%2C%20%5B27.9884%2C%2086.9245%2C%20191.0%5D%2C%20%5B27.9919%2C%2082.1172%2C%203.0%5D%2C%20%5B28.0%2C%2084.0%2C%205000.0%5D%2C%20%5B28.0024%2C%2084.6201%2C%20187.0%5D%2C%20%5B28.0417%2C%2084.3527%2C%2023.0%5D%2C%20%5B28.0433%2C%2084.6206%2C%203.0%5D%2C%20%5B28.0459%2C%2082.4879%2C%2011.0%5D%2C%20%5B28.0577%2C%2081.6244%2C%2036.0%5D%2C%20%5B28.0581%2C%2084.4789%2C%202.0%5D%2C%20%5B28.0833%2C%2083.3333%2C%2013.0%5D%2C%20%5B28.0833%2C%2084.4667%2C%202.0%5D%2C%20%5B28.0887%2C%2082.8843%2C%208.0%5D%2C%20%5B28.096%2C%2083.8724%2C%2022.0%5D%2C%20%5B28.1125%2C%2085.2992%2C%206.0%5D%2C%20%5B28.1157%2C%2083.1623%2C%202.0%5D%2C%20%5B28.1219%2C%2084.1489%2C%203.0%5D%2C%20%5B28.1311%2C%2083.8929%2C%2068.0%5D%2C%20%5B28.1591%2C%2083.2667%2C%2011.0%5D%2C%20%5B28.1939%2C%2081.6847%2C%2014.0%5D%2C%20%5B28.2017%2C%2083.4184%2C%202.0%5D%2C%20%5B28.2088%2C%2082.1708%2C%20622.0%5D%2C%20%5B28.2099%2C%2084.3638%2C%2035.0%5D%2C%20%5B28.2164%2C%2081.9352%2C%204.0%5D%2C%20%5B28.2172%2C%2085.5226%2C%206.0%5D%2C%20%5B28.2185%2C%2083.9877%2C%20301.0%5D%2C%20%5B28.2333%2C%2081.3333%2C%2012.0%5D%2C%20%5B28.2333%2C%2081.35%2C%2014.0%5D%2C%20%5B28.2333%2C%2083.9833%2C%205.0%5D%2C%20%5B28.2342%2C%2082.4128%2C%2010.0%5D%2C%20%5B28.25%2C%2085.5%2C%209.0%5D%2C%20%5B28.2667%2C%2081.3833%2C%204.0%5D%2C%20%5B28.2719%2C%2083.5898%2C%2020.0%5D%2C%20%5B28.2812%2C%2085.3898%2C%2025.0%5D%2C%20%5B28.3006%2C%2081.3536%2C%2097.0%5D%2C%20%5B28.3333%2C%2082.5%2C%2010.0%5D%2C%20%5B28.3333%2C%2084.3833%2C%2046.0%5D%2C%20%5B28.3527%2C%2081.7052%2C%203.0%5D%2C%20%5B28.3745%2C%2084.6735%2C%204.0%5D%2C%20%5B28.3786%2C%2082.1703%2C%2013.0%5D%2C%20%5B28.3793%2C%2085.0564%2C%202.0%5D%2C%20%5B28.4167%2C%2082.75%2C%2042.0%5D%2C%20%5B28.4167%2C%2083.6667%2C%2014.0%5D%2C%20%5B28.4333%2C%2081.5167%2C%204.0%5D%2C%20%5B28.437%2C%2082.3079%2C%202.0%5D%2C%20%5B28.4868%2C%2083.0692%2C%202.0%5D%2C%20%5B28.5%2C%2081.1333%2C%2068.0%5D%2C%20%5B28.5046%2C%2083.946%2C%203.0%5D%2C%20%5B28.5514%2C%2084.5572%2C%209.0%5D%2C%20%5B28.5667%2C%2081.0167%2C%202.0%5D%2C%20%5B28.571%2C%2080.795%2C%20100.0%5D%2C%20%5B28.5833%2C%2081.6667%2C%2011.0%5D%2C%20%5B28.5833%2C%2083.3333%2C%2031.0%5D%2C%20%5B28.6019%2C%2081.6339%2C%206.0%5D%2C%20%5B28.6033%2C%2081.6001%2C%2060.0%5D%2C%20%5B28.6044%2C%2083.2213%2C%204.0%5D%2C%20%5B28.6119%2C%2082.6101%2C%202.0%5D%2C%20%5B28.6333%2C%2081.2833%2C%202.0%5D%2C%20%5B28.6642%2C%2084.0221%2C%203.0%5D%2C%20%5B28.6667%2C%2083.3%2C%2043.0%5D%2C%20%5B28.6667%2C%2083.6%2C%205.0%5D%2C%20%5B28.6998%2C%2082.2049%2C%2015.0%5D%2C%20%5B28.7079%2C%2080.5961%2C%2085.0%5D%2C%20%5B28.7111%2C%2083.6459%2C%203.0%5D%2C%20%5B28.7338%2C%2080.5382%2C%204.0%5D%2C%20%5B28.75%2C%2080.9167%2C%205.0%5D%2C%20%5B28.75%2C%2081.2667%2C%204.0%5D%2C%20%5B28.75%2C%2082.5833%2C%2032.0%5D%2C%20%5B28.7691%2C%2080.5636%2C%202.0%5D%2C%20%5B28.8104%2C%2082.4643%2C%202.0%5D%2C%20%5B28.815%2C%2083.8754%2C%2052.0%5D%2C%20%5B28.8345%2C%2082.1809%2C%204.0%5D%2C%20%5B28.8352%2C%2080.5228%2C%203.0%5D%2C%20%5B28.8443%2C%2081.7101%2C%2020.0%5D%2C%20%5B28.9003%2C%2080.8785%2C%202.0%5D%2C%20%5B28.9167%2C%2080.3333%2C%2097.0%5D%2C%20%5B28.9367%2C%2082.8989%2C%208.0%5D%2C%20%5B29.05%2C%2081.3%2C%2046.0%5D%2C%20%5B29.0819%2C%2083.937%2C%202.0%5D%2C%20%5B29.0956%2C%2081.6828%2C%2019.0%5D%2C%20%5B29.15%2C%2081.6167%2C%205.0%5D%2C%20%5B29.1667%2C%2083.0833%2C%2015.0%5D%2C%20%5B29.2035%2C%2081.8879%2C%202.0%5D%2C%20%5B29.2276%2C%2084.0196%2C%202.0%5D%2C%20%5B29.2457%2C%2081.6383%2C%202.0%5D%2C%20%5B29.257%2C%2080.9431%2C%2010.0%5D%2C%20%5B29.267%2C%2080.9712%2C%2017.0%5D%2C%20%5B29.2854%2C%2082.1782%2C%20200.0%5D%2C%20%5B29.2984%2C%2080.5806%2C%2021.0%5D%2C%20%5B29.3648%2C%2081.333%2C%2011.0%5D%2C%20%5B29.3926%2C%2082.7662%2C%203.0%5D%2C%20%5B29.4167%2C%2080.55%2C%2067.0%5D%2C%20%5B29.5%2C%2082.4167%2C%20123.0%5D%2C%20%5B29.5267%2C%2081.0982%2C%2017.0%5D%2C%20%5B29.5623%2C%2081.1935%2C%205.0%5D%2C%20%5B29.5711%2C%2080.4372%2C%2019.0%5D%2C%20%5B29.6124%2C%2081.3084%2C%202.0%5D%2C%20%5B29.6193%2C%2081.8534%2C%202.0%5D%2C%20%5B29.7302%2C%2082.5154%2C%208.0%5D%2C%20%5B29.7793%2C%2081.2697%2C%202.0%5D%2C%20%5B29.8412%2C%2080.5287%2C%2014.0%5D%2C%20%5B29.9167%2C%2081.9167%2C%2016.0%5D%2C%20%5B29.9659%2C%2081.8272%2C%20113.0%5D%2C%20%5B30.0%2C%2080.0%2C%2028.0%5D%2C%20%5B30.05%2C%2081.1333%2C%202.0%5D%2C%20%5B31.05%2C%2081.13%2C%201.0%5D%5D%2C%0A%20%20%20%20%20%20%20%20%20%20%20%20%20%20%20%20%7B%22blur%22%3A%2015%2C%20%22maxZoom%22%3A%2010%2C%20%22minOpacity%22%3A%200.5%2C%20%22radius%22%3A%2015%7D%0A%20%20%20%20%20%20%20%20%20%20%20%20%29.addTo%28map_74a6e7b648b34767bb9e82b5b562a90e%29%3B%0A%20%20%20%20%20%20%20%20%0A%3C/script%3E onload=\"this.contentDocument.open();this.contentDocument.write(    decodeURIComponent(this.getAttribute('data-html')));this.contentDocument.close();\" allowfullscreen webkitallowfullscreen mozallowfullscreen></iframe></div></div>"
      ],
      "text/plain": [
       "<folium.folium.Map at 0x14dff1892350>"
      ]
     },
     "execution_count": 131,
     "metadata": {},
     "output_type": "execute_result"
    }
   ],
   "source": [
    "import folium\n",
    "from folium import plugins\n",
    "from folium.plugins import HeatMap\n",
    "\n",
    "base_map = generateBaseMap([center_x, center_y], 8, 1000, 800)\n",
    "folium.plugins.HeatMap(data=df_count[['lat', 'long', 'pcount']]\n",
    "                       .groupby(['lat', 'long']).sum().reset_index().values.tolist()\n",
    "                       , radius=15, max_zoom=10).add_to(base_map)\n",
    "print('Number of protest in Nepal in year 2018')\n",
    "base_map"
   ]
  },
  {
   "cell_type": "code",
   "execution_count": 122,
   "id": "2c1c00fa-b6f9-4710-96ff-8d9c36468554",
   "metadata": {},
   "outputs": [],
   "source": [
    "# shape_BU = geopandas.read_file('ochashp/npl_admbnda_districts_nd_20201117.shp')\n",
    "# shape_BU.plot()\n"
   ]
  },
  {
   "cell_type": "code",
   "execution_count": 123,
   "id": "a24b87be-4f1d-4114-8469-d83329fb0e09",
   "metadata": {},
   "outputs": [
    {
     "data": {
      "text/plain": [
       "(79.590835, 88.592465, 25.774905, 31.301195)"
      ]
     },
     "execution_count": 123,
     "metadata": {},
     "output_type": "execute_result"
    },
    {
     "data": {
      "image/png": "[encoded data removed]",
      "text/plain": [
       "<Figure size 1152x720 with 1 Axes>"
      ]
     },
     "metadata": {
      "needs_background": "light"
     },
     "output_type": "display_data"
    }
   ],
   "source": [
    "ax = gdf.plot(markersize=1.8, figsize=(16, 10), column='pcount', cmap='jet')\n",
    "plt.autoscale(False)\n",
    "world = geopandas.read_file('../ochashp/npl_admbnda_districts_nd_20201117.shp')\n",
    "#world = geopandas.read_file(geopandas.datasets.get_path('naturalearth_cities'))\n",
    "world.to_crs(gdf.crs).plot(ax=ax, color='none', edgecolor='black')\n",
    "#tif_cell.plot(ax=ax, facecolor=\"none\", edgecolor='grey')\n",
    "ax.axis(\"off\")"
   ]
  },
  {
   "cell_type": "code",
   "execution_count": 124,
   "id": "2e0f89a4-7407-48a3-b63a-01ed8f85011e",
   "metadata": {},
   "outputs": [
    {
     "name": "stdout",
     "output_type": "stream",
     "text": [
      "20211.0\n"
     ]
    }
   ],
   "source": [
    "Total = df_count['pcount'].sum()\n",
    "print (Total)"
   ]
  },
  {
   "cell_type": "code",
   "execution_count": 125,
   "id": "7577286f-76f8-4828-8bda-6aee3c1c7263",
   "metadata": {},
   "outputs": [
    {
     "name": "stderr",
     "output_type": "stream",
     "text": [
      "/home/samal/poudelnish/.local/lib/python3.7/site-packages/IPython/core/interactiveshell.py:3361: FutureWarning: The `op` parameter is deprecated and will be removed in a future release. Please use the `predicate` parameter instead.\n",
      "  if (await self.run_code(code, result,  async_=asy)):\n"
     ]
    }
   ],
   "source": [
    "merged = geopandas.sjoin(gdf, tif_cell, how='left', op='within')"
   ]
  },
  {
   "cell_type": "code",
   "execution_count": 126,
   "id": "fab92113-3ff8-46c2-8366-8b39ddf986f3",
   "metadata": {},
   "outputs": [],
   "source": [
    "# make a simple count variable that we can sum\n",
    "merged['protest_count']=1\n",
    "# Compute stats per grid cell -- aggregate fires to grid cells with dissolve\n",
    "dissolve = merged.dissolve(by=\"index_right\", aggfunc=\"count\")\n",
    "# put this into cell\n",
    "tif_cell.loc[dissolve.index, 'protest_count'] = dissolve.protest_count.values"
   ]
  },
  {
   "cell_type": "code",
   "execution_count": 127,
   "id": "c5651383-96d9-478f-890b-e814f0f21b20",
   "metadata": {},
   "outputs": [
    {
     "data": {
      "text/html": [
       "<div>\n",
       "<style scoped>\n",
       "    .dataframe tbody tr th:only-of-type {\n",
       "        vertical-align: middle;\n",
       "    }\n",
       "\n",
       "    .dataframe tbody tr th {\n",
       "        vertical-align: top;\n",
       "    }\n",
       "\n",
       "    .dataframe thead th {\n",
       "        text-align: right;\n",
       "    }\n",
       "</style>\n",
       "<table border=\"1\" class=\"dataframe\">\n",
       "  <thead>\n",
       "    <tr style=\"text-align: right;\">\n",
       "      <th></th>\n",
       "      <th>lat</th>\n",
       "      <th>long</th>\n",
       "      <th>pcount</th>\n",
       "      <th>geometry</th>\n",
       "      <th>index_right</th>\n",
       "      <th>protest_count</th>\n",
       "    </tr>\n",
       "  </thead>\n",
       "  <tbody>\n",
       "    <tr>\n",
       "      <th>0</th>\n",
       "      <td>27.7167</td>\n",
       "      <td>85.3167</td>\n",
       "      <td>7300.0</td>\n",
       "      <td>POINT (85.31670 27.71670)</td>\n",
       "      <td>15374.0</td>\n",
       "      <td>1</td>\n",
       "    </tr>\n",
       "    <tr>\n",
       "      <th>1</th>\n",
       "      <td>28.0000</td>\n",
       "      <td>84.0000</td>\n",
       "      <td>5000.0</td>\n",
       "      <td>POINT (84.00000 28.00000)</td>\n",
       "      <td>NaN</td>\n",
       "      <td>1</td>\n",
       "    </tr>\n",
       "    <tr>\n",
       "      <th>2</th>\n",
       "      <td>28.2088</td>\n",
       "      <td>82.1708</td>\n",
       "      <td>622.0</td>\n",
       "      <td>POINT (82.17080 28.20880)</td>\n",
       "      <td>NaN</td>\n",
       "      <td>1</td>\n",
       "    </tr>\n",
       "    <tr>\n",
       "      <th>3</th>\n",
       "      <td>28.2185</td>\n",
       "      <td>83.9877</td>\n",
       "      <td>301.0</td>\n",
       "      <td>POINT (83.98770 28.21850)</td>\n",
       "      <td>NaN</td>\n",
       "      <td>1</td>\n",
       "    </tr>\n",
       "    <tr>\n",
       "      <th>4</th>\n",
       "      <td>27.5833</td>\n",
       "      <td>84.5000</td>\n",
       "      <td>260.0</td>\n",
       "      <td>POINT (84.50000 27.58330)</td>\n",
       "      <td>NaN</td>\n",
       "      <td>1</td>\n",
       "    </tr>\n",
       "    <tr>\n",
       "      <th>...</th>\n",
       "      <td>...</td>\n",
       "      <td>...</td>\n",
       "      <td>...</td>\n",
       "      <td>...</td>\n",
       "      <td>...</td>\n",
       "      <td>...</td>\n",
       "    </tr>\n",
       "    <tr>\n",
       "      <th>274</th>\n",
       "      <td>27.5790</td>\n",
       "      <td>86.3452</td>\n",
       "      <td>2.0</td>\n",
       "      <td>POINT (86.34520 27.57900)</td>\n",
       "      <td>NaN</td>\n",
       "      <td>1</td>\n",
       "    </tr>\n",
       "    <tr>\n",
       "      <th>275</th>\n",
       "      <td>28.7691</td>\n",
       "      <td>80.5636</td>\n",
       "      <td>2.0</td>\n",
       "      <td>POINT (80.56360 28.76910)</td>\n",
       "      <td>NaN</td>\n",
       "      <td>1</td>\n",
       "    </tr>\n",
       "    <tr>\n",
       "      <th>276</th>\n",
       "      <td>30.0500</td>\n",
       "      <td>81.1333</td>\n",
       "      <td>2.0</td>\n",
       "      <td>POINT (81.13330 30.05000)</td>\n",
       "      <td>NaN</td>\n",
       "      <td>1</td>\n",
       "    </tr>\n",
       "    <tr>\n",
       "      <th>277</th>\n",
       "      <td>31.0500</td>\n",
       "      <td>81.1300</td>\n",
       "      <td>1.0</td>\n",
       "      <td>POINT (81.13000 31.05000)</td>\n",
       "      <td>NaN</td>\n",
       "      <td>1</td>\n",
       "    </tr>\n",
       "    <tr>\n",
       "      <th>278</th>\n",
       "      <td>31.0500</td>\n",
       "      <td>81.1300</td>\n",
       "      <td>0.0</td>\n",
       "      <td>POINT (81.13000 31.05000)</td>\n",
       "      <td>NaN</td>\n",
       "      <td>1</td>\n",
       "    </tr>\n",
       "  </tbody>\n",
       "</table>\n",
       "<p>279 rows × 6 columns</p>\n",
       "</div>"
      ],
      "text/plain": [
       "         lat     long  pcount                   geometry  index_right  \\\n",
       "0    27.7167  85.3167  7300.0  POINT (85.31670 27.71670)      15374.0   \n",
       "1    28.0000  84.0000  5000.0  POINT (84.00000 28.00000)          NaN   \n",
       "2    28.2088  82.1708   622.0  POINT (82.17080 28.20880)          NaN   \n",
       "3    28.2185  83.9877   301.0  POINT (83.98770 28.21850)          NaN   \n",
       "4    27.5833  84.5000   260.0  POINT (84.50000 27.58330)          NaN   \n",
       "..       ...      ...     ...                        ...          ...   \n",
       "274  27.5790  86.3452     2.0  POINT (86.34520 27.57900)          NaN   \n",
       "275  28.7691  80.5636     2.0  POINT (80.56360 28.76910)          NaN   \n",
       "276  30.0500  81.1333     2.0  POINT (81.13330 30.05000)          NaN   \n",
       "277  31.0500  81.1300     1.0  POINT (81.13000 31.05000)          NaN   \n",
       "278  31.0500  81.1300     0.0  POINT (81.13000 31.05000)          NaN   \n",
       "\n",
       "     protest_count  \n",
       "0                1  \n",
       "1                1  \n",
       "2                1  \n",
       "3                1  \n",
       "4                1  \n",
       "..             ...  \n",
       "274              1  \n",
       "275              1  \n",
       "276              1  \n",
       "277              1  \n",
       "278              1  \n",
       "\n",
       "[279 rows x 6 columns]"
      ]
     },
     "execution_count": 127,
     "metadata": {},
     "output_type": "execute_result"
    }
   ],
   "source": [
    "merged"
   ]
  },
  {
   "cell_type": "code",
   "execution_count": 128,
   "id": "880ec591-254c-43ff-9e68-faa5889c9b3e",
   "metadata": {},
   "outputs": [
    {
     "name": "stdout",
     "output_type": "stream",
     "text": [
      "20211.0\n"
     ]
    }
   ],
   "source": [
    "Totalm = merged['pcount'].sum()\n",
    "print (Totalm)"
   ]
  },
  {
   "cell_type": "code",
   "execution_count": 129,
   "id": "58a88b19-0562-487f-9e42-8eb762bd242e",
   "metadata": {},
   "outputs": [
    {
     "name": "stdout",
     "output_type": "stream",
     "text": [
      "279\n"
     ]
    }
   ],
   "source": [
    "Totalm = merged['protest_count'].sum()\n",
    "print (Totalm)"
   ]
  },
  {
   "cell_type": "code",
   "execution_count": 130,
   "id": "8d9fc1c2-3539-4216-8dd5-338e05060f87",
   "metadata": {},
   "outputs": [
    {
     "data": {
      "text/html": [
       "<div>\n",
       "<style scoped>\n",
       "    .dataframe tbody tr th:only-of-type {\n",
       "        vertical-align: middle;\n",
       "    }\n",
       "\n",
       "    .dataframe tbody tr th {\n",
       "        vertical-align: top;\n",
       "    }\n",
       "\n",
       "    .dataframe thead th {\n",
       "        text-align: right;\n",
       "    }\n",
       "</style>\n",
       "<table border=\"1\" class=\"dataframe\">\n",
       "  <thead>\n",
       "    <tr style=\"text-align: right;\">\n",
       "      <th></th>\n",
       "      <th>geometry</th>\n",
       "      <th>protest_count</th>\n",
       "      <th>index_right</th>\n",
       "    </tr>\n",
       "  </thead>\n",
       "  <tbody>\n",
       "    <tr>\n",
       "      <th>0</th>\n",
       "      <td>POLYGON ((84.59875 28.23292, 84.59875 28.24125...</td>\n",
       "      <td>NaN</td>\n",
       "      <td>0</td>\n",
       "    </tr>\n",
       "    <tr>\n",
       "      <th>1</th>\n",
       "      <td>POLYGON ((84.59875 28.22458, 84.59875 28.23292...</td>\n",
       "      <td>NaN</td>\n",
       "      <td>1</td>\n",
       "    </tr>\n",
       "    <tr>\n",
       "      <th>2</th>\n",
       "      <td>POLYGON ((84.59875 28.21625, 84.59875 28.22458...</td>\n",
       "      <td>NaN</td>\n",
       "      <td>2</td>\n",
       "    </tr>\n",
       "    <tr>\n",
       "      <th>3</th>\n",
       "      <td>POLYGON ((84.59875 28.20792, 84.59875 28.21625...</td>\n",
       "      <td>NaN</td>\n",
       "      <td>3</td>\n",
       "    </tr>\n",
       "    <tr>\n",
       "      <th>4</th>\n",
       "      <td>POLYGON ((84.59875 28.19958, 84.59875 28.20792...</td>\n",
       "      <td>NaN</td>\n",
       "      <td>4</td>\n",
       "    </tr>\n",
       "    <tr>\n",
       "      <th>...</th>\n",
       "      <td>...</td>\n",
       "      <td>...</td>\n",
       "      <td>...</td>\n",
       "    </tr>\n",
       "    <tr>\n",
       "      <th>27451</th>\n",
       "      <td>POLYGON ((85.89042 26.80792, 85.89042 26.81625...</td>\n",
       "      <td>NaN</td>\n",
       "      <td>27451</td>\n",
       "    </tr>\n",
       "    <tr>\n",
       "      <th>27452</th>\n",
       "      <td>POLYGON ((85.89042 26.79958, 85.89042 26.80792...</td>\n",
       "      <td>NaN</td>\n",
       "      <td>27452</td>\n",
       "    </tr>\n",
       "    <tr>\n",
       "      <th>27453</th>\n",
       "      <td>POLYGON ((85.89042 26.79125, 85.89042 26.79958...</td>\n",
       "      <td>NaN</td>\n",
       "      <td>27453</td>\n",
       "    </tr>\n",
       "    <tr>\n",
       "      <th>27454</th>\n",
       "      <td>POLYGON ((85.89042 26.78292, 85.89042 26.79125...</td>\n",
       "      <td>NaN</td>\n",
       "      <td>27454</td>\n",
       "    </tr>\n",
       "    <tr>\n",
       "      <th>27455</th>\n",
       "      <td>POLYGON ((85.89042 26.77458, 85.89042 26.78292...</td>\n",
       "      <td>NaN</td>\n",
       "      <td>27455</td>\n",
       "    </tr>\n",
       "  </tbody>\n",
       "</table>\n",
       "<p>27456 rows × 3 columns</p>\n",
       "</div>"
      ],
      "text/plain": [
       "                                                geometry  protest_count  \\\n",
       "0      POLYGON ((84.59875 28.23292, 84.59875 28.24125...            NaN   \n",
       "1      POLYGON ((84.59875 28.22458, 84.59875 28.23292...            NaN   \n",
       "2      POLYGON ((84.59875 28.21625, 84.59875 28.22458...            NaN   \n",
       "3      POLYGON ((84.59875 28.20792, 84.59875 28.21625...            NaN   \n",
       "4      POLYGON ((84.59875 28.19958, 84.59875 28.20792...            NaN   \n",
       "...                                                  ...            ...   \n",
       "27451  POLYGON ((85.89042 26.80792, 85.89042 26.81625...            NaN   \n",
       "27452  POLYGON ((85.89042 26.79958, 85.89042 26.80792...            NaN   \n",
       "27453  POLYGON ((85.89042 26.79125, 85.89042 26.79958...            NaN   \n",
       "27454  POLYGON ((85.89042 26.78292, 85.89042 26.79125...            NaN   \n",
       "27455  POLYGON ((85.89042 26.77458, 85.89042 26.78292...            NaN   \n",
       "\n",
       "       index_right  \n",
       "0                0  \n",
       "1                1  \n",
       "2                2  \n",
       "3                3  \n",
       "4                4  \n",
       "...            ...  \n",
       "27451        27451  \n",
       "27452        27452  \n",
       "27453        27453  \n",
       "27454        27454  \n",
       "27455        27455  \n",
       "\n",
       "[27456 rows x 3 columns]"
      ]
     },
     "execution_count": 130,
     "metadata": {},
     "output_type": "execute_result"
    }
   ],
   "source": [
    "tif_cell['index_right'] = tif_cell.index\n",
    "tif_cell"
   ]
  },
  {
   "cell_type": "code",
   "execution_count": 56,
   "id": "37510cd1-039a-4aa2-97ba-58acf267c8ef",
   "metadata": {},
   "outputs": [
    {
     "data": {
      "text/plain": [
       "77.0"
      ]
     },
     "execution_count": 56,
     "metadata": {},
     "output_type": "execute_result"
    }
   ],
   "source": [
    "tif_cell[\"protest_count\"].sum()"
   ]
  },
  {
   "cell_type": "code",
   "execution_count": 57,
   "id": "34007a9f-1383-4508-b3f0-5f94eddfbd70",
   "metadata": {},
   "outputs": [
    {
     "data": {
      "text/html": [
       "<div>\n",
       "<style scoped>\n",
       "    .dataframe tbody tr th:only-of-type {\n",
       "        vertical-align: middle;\n",
       "    }\n",
       "\n",
       "    .dataframe tbody tr th {\n",
       "        vertical-align: top;\n",
       "    }\n",
       "\n",
       "    .dataframe thead th {\n",
       "        text-align: right;\n",
       "    }\n",
       "</style>\n",
       "<table border=\"1\" class=\"dataframe\">\n",
       "  <thead>\n",
       "    <tr style=\"text-align: right;\">\n",
       "      <th></th>\n",
       "      <th>geometry_x</th>\n",
       "      <th>protest_count_x</th>\n",
       "      <th>index_right</th>\n",
       "      <th>lat</th>\n",
       "      <th>long</th>\n",
       "      <th>pcount</th>\n",
       "      <th>geometry_y</th>\n",
       "      <th>protest_count_y</th>\n",
       "    </tr>\n",
       "  </thead>\n",
       "  <tbody>\n",
       "    <tr>\n",
       "      <th>0</th>\n",
       "      <td>POLYGON ((84.62375 28.04125, 84.62375 28.04958...</td>\n",
       "      <td>1.0</td>\n",
       "      <td>551</td>\n",
       "      <td>28.0433</td>\n",
       "      <td>84.6206</td>\n",
       "      <td>2.0</td>\n",
       "      <td>POINT (84.62060 28.04330)</td>\n",
       "      <td>1</td>\n",
       "    </tr>\n",
       "    <tr>\n",
       "      <th>1</th>\n",
       "      <td>POLYGON ((84.62375 27.99958, 84.62375 28.00792...</td>\n",
       "      <td>1.0</td>\n",
       "      <td>556</td>\n",
       "      <td>28.0024</td>\n",
       "      <td>84.6201</td>\n",
       "      <td>280.0</td>\n",
       "      <td>POINT (84.62010 28.00240)</td>\n",
       "      <td>1</td>\n",
       "    </tr>\n",
       "    <tr>\n",
       "      <th>2</th>\n",
       "      <td>POLYGON ((84.62375 27.34958, 84.62375 27.35792...</td>\n",
       "      <td>1.0</td>\n",
       "      <td>634</td>\n",
       "      <td>27.3506</td>\n",
       "      <td>84.6231</td>\n",
       "      <td>2.0</td>\n",
       "      <td>POINT (84.62310 27.35060)</td>\n",
       "      <td>1</td>\n",
       "    </tr>\n",
       "    <tr>\n",
       "      <th>3</th>\n",
       "      <td>POLYGON ((84.69042 27.88292, 84.69042 27.89125...</td>\n",
       "      <td>1.0</td>\n",
       "      <td>1978</td>\n",
       "      <td>27.8844</td>\n",
       "      <td>84.6824</td>\n",
       "      <td>1.0</td>\n",
       "      <td>POINT (84.68240 27.88440)</td>\n",
       "      <td>1</td>\n",
       "    </tr>\n",
       "    <tr>\n",
       "      <th>4</th>\n",
       "      <td>POLYGON ((84.75708 27.79958, 84.75708 27.80792...</td>\n",
       "      <td>1.0</td>\n",
       "      <td>3396</td>\n",
       "      <td>27.8000</td>\n",
       "      <td>84.7500</td>\n",
       "      <td>57.0</td>\n",
       "      <td>POINT (84.75000 27.80000)</td>\n",
       "      <td>1</td>\n",
       "    </tr>\n",
       "    <tr>\n",
       "      <th>...</th>\n",
       "      <td>...</td>\n",
       "      <td>...</td>\n",
       "      <td>...</td>\n",
       "      <td>...</td>\n",
       "      <td>...</td>\n",
       "      <td>...</td>\n",
       "      <td>...</td>\n",
       "      <td>...</td>\n",
       "    </tr>\n",
       "    <tr>\n",
       "      <th>72</th>\n",
       "      <td>POLYGON ((85.67375 27.58292, 85.67375 27.59125...</td>\n",
       "      <td>1.0</td>\n",
       "      <td>22782</td>\n",
       "      <td>27.5833</td>\n",
       "      <td>85.6667</td>\n",
       "      <td>12.0</td>\n",
       "      <td>POINT (85.66670 27.58330)</td>\n",
       "      <td>1</td>\n",
       "    </tr>\n",
       "    <tr>\n",
       "      <th>73</th>\n",
       "      <td>POLYGON ((85.71542 27.77458, 85.71542 27.78292...</td>\n",
       "      <td>1.0</td>\n",
       "      <td>23639</td>\n",
       "      <td>27.7752</td>\n",
       "      <td>85.7104</td>\n",
       "      <td>5.0</td>\n",
       "      <td>POINT (85.71040 27.77520)</td>\n",
       "      <td>1</td>\n",
       "    </tr>\n",
       "    <tr>\n",
       "      <th>74</th>\n",
       "      <td>POLYGON ((85.75708 27.91625, 85.75708 27.92458...</td>\n",
       "      <td>1.0</td>\n",
       "      <td>24502</td>\n",
       "      <td>27.9167</td>\n",
       "      <td>85.7500</td>\n",
       "      <td>12.0</td>\n",
       "      <td>POINT (85.75000 27.91670)</td>\n",
       "      <td>1</td>\n",
       "    </tr>\n",
       "    <tr>\n",
       "      <th>75</th>\n",
       "      <td>POLYGON ((85.80708 26.94958, 85.80708 26.95792...</td>\n",
       "      <td>1.0</td>\n",
       "      <td>25674</td>\n",
       "      <td>26.9500</td>\n",
       "      <td>85.8000</td>\n",
       "      <td>3.0</td>\n",
       "      <td>POINT (85.80000 26.95000)</td>\n",
       "      <td>1</td>\n",
       "    </tr>\n",
       "    <tr>\n",
       "      <th>76</th>\n",
       "      <td>POLYGON ((85.84042 26.91625, 85.84042 26.92458...</td>\n",
       "      <td>1.0</td>\n",
       "      <td>26382</td>\n",
       "      <td>26.9167</td>\n",
       "      <td>85.8333</td>\n",
       "      <td>115.0</td>\n",
       "      <td>POINT (85.83330 26.91670)</td>\n",
       "      <td>1</td>\n",
       "    </tr>\n",
       "  </tbody>\n",
       "</table>\n",
       "<p>77 rows × 8 columns</p>\n",
       "</div>"
      ],
      "text/plain": [
       "                                           geometry_x  protest_count_x  \\\n",
       "0   POLYGON ((84.62375 28.04125, 84.62375 28.04958...              1.0   \n",
       "1   POLYGON ((84.62375 27.99958, 84.62375 28.00792...              1.0   \n",
       "2   POLYGON ((84.62375 27.34958, 84.62375 27.35792...              1.0   \n",
       "3   POLYGON ((84.69042 27.88292, 84.69042 27.89125...              1.0   \n",
       "4   POLYGON ((84.75708 27.79958, 84.75708 27.80792...              1.0   \n",
       "..                                                ...              ...   \n",
       "72  POLYGON ((85.67375 27.58292, 85.67375 27.59125...              1.0   \n",
       "73  POLYGON ((85.71542 27.77458, 85.71542 27.78292...              1.0   \n",
       "74  POLYGON ((85.75708 27.91625, 85.75708 27.92458...              1.0   \n",
       "75  POLYGON ((85.80708 26.94958, 85.80708 26.95792...              1.0   \n",
       "76  POLYGON ((85.84042 26.91625, 85.84042 26.92458...              1.0   \n",
       "\n",
       "    index_right      lat     long  pcount                 geometry_y  \\\n",
       "0           551  28.0433  84.6206     2.0  POINT (84.62060 28.04330)   \n",
       "1           556  28.0024  84.6201   280.0  POINT (84.62010 28.00240)   \n",
       "2           634  27.3506  84.6231     2.0  POINT (84.62310 27.35060)   \n",
       "3          1978  27.8844  84.6824     1.0  POINT (84.68240 27.88440)   \n",
       "4          3396  27.8000  84.7500    57.0  POINT (84.75000 27.80000)   \n",
       "..          ...      ...      ...     ...                        ...   \n",
       "72        22782  27.5833  85.6667    12.0  POINT (85.66670 27.58330)   \n",
       "73        23639  27.7752  85.7104     5.0  POINT (85.71040 27.77520)   \n",
       "74        24502  27.9167  85.7500    12.0  POINT (85.75000 27.91670)   \n",
       "75        25674  26.9500  85.8000     3.0  POINT (85.80000 26.95000)   \n",
       "76        26382  26.9167  85.8333   115.0  POINT (85.83330 26.91670)   \n",
       "\n",
       "    protest_count_y  \n",
       "0                 1  \n",
       "1                 1  \n",
       "2                 1  \n",
       "3                 1  \n",
       "4                 1  \n",
       "..              ...  \n",
       "72                1  \n",
       "73                1  \n",
       "74                1  \n",
       "75                1  \n",
       "76                1  \n",
       "\n",
       "[77 rows x 8 columns]"
      ]
     },
     "execution_count": 57,
     "metadata": {},
     "output_type": "execute_result"
    }
   ],
   "source": [
    "\n",
    "df2 = tif_cell.merge(merged,on=\"index_right\")\n",
    "df2"
   ]
  },
  {
   "cell_type": "code",
   "execution_count": 58,
   "id": "329de511-7825-406a-9ad4-79c0ff73e571",
   "metadata": {},
   "outputs": [
    {
     "name": "stdout",
     "output_type": "stream",
     "text": [
      "13280.0\n"
     ]
    }
   ],
   "source": [
    "Totalm = df2['pcount'].sum()\n",
    "print (Totalm)"
   ]
  },
  {
   "cell_type": "code",
   "execution_count": 59,
   "id": "674645ef-c764-4a4d-be7b-c43d78f54f53",
   "metadata": {},
   "outputs": [
    {
     "data": {
      "text/html": [
       "<div>\n",
       "<style scoped>\n",
       "    .dataframe tbody tr th:only-of-type {\n",
       "        vertical-align: middle;\n",
       "    }\n",
       "\n",
       "    .dataframe tbody tr th {\n",
       "        vertical-align: top;\n",
       "    }\n",
       "\n",
       "    .dataframe thead th {\n",
       "        text-align: right;\n",
       "    }\n",
       "</style>\n",
       "<table border=\"1\" class=\"dataframe\">\n",
       "  <thead>\n",
       "    <tr style=\"text-align: right;\">\n",
       "      <th></th>\n",
       "      <th>geometry_x</th>\n",
       "      <th>protest_count_x</th>\n",
       "      <th>index_right</th>\n",
       "      <th>lat</th>\n",
       "      <th>long</th>\n",
       "      <th>pcount</th>\n",
       "      <th>geometry_y</th>\n",
       "      <th>protest_count_y</th>\n",
       "    </tr>\n",
       "  </thead>\n",
       "  <tbody>\n",
       "    <tr>\n",
       "      <th>0</th>\n",
       "      <td>POLYGON ((84.62375 28.04125, 84.62375 28.04958...</td>\n",
       "      <td>1.0</td>\n",
       "      <td>551</td>\n",
       "      <td>28.0433</td>\n",
       "      <td>84.6206</td>\n",
       "      <td>2.0</td>\n",
       "      <td>POINT (84.62060 28.04330)</td>\n",
       "      <td>1</td>\n",
       "    </tr>\n",
       "    <tr>\n",
       "      <th>1</th>\n",
       "      <td>POLYGON ((84.62375 27.99958, 84.62375 28.00792...</td>\n",
       "      <td>1.0</td>\n",
       "      <td>556</td>\n",
       "      <td>28.0024</td>\n",
       "      <td>84.6201</td>\n",
       "      <td>280.0</td>\n",
       "      <td>POINT (84.62010 28.00240)</td>\n",
       "      <td>1</td>\n",
       "    </tr>\n",
       "    <tr>\n",
       "      <th>2</th>\n",
       "      <td>POLYGON ((84.62375 27.34958, 84.62375 27.35792...</td>\n",
       "      <td>1.0</td>\n",
       "      <td>634</td>\n",
       "      <td>27.3506</td>\n",
       "      <td>84.6231</td>\n",
       "      <td>2.0</td>\n",
       "      <td>POINT (84.62310 27.35060)</td>\n",
       "      <td>1</td>\n",
       "    </tr>\n",
       "    <tr>\n",
       "      <th>3</th>\n",
       "      <td>POLYGON ((84.69042 27.88292, 84.69042 27.89125...</td>\n",
       "      <td>1.0</td>\n",
       "      <td>1978</td>\n",
       "      <td>27.8844</td>\n",
       "      <td>84.6824</td>\n",
       "      <td>1.0</td>\n",
       "      <td>POINT (84.68240 27.88440)</td>\n",
       "      <td>1</td>\n",
       "    </tr>\n",
       "    <tr>\n",
       "      <th>4</th>\n",
       "      <td>POLYGON ((84.75708 27.79958, 84.75708 27.80792...</td>\n",
       "      <td>1.0</td>\n",
       "      <td>3396</td>\n",
       "      <td>27.8000</td>\n",
       "      <td>84.7500</td>\n",
       "      <td>57.0</td>\n",
       "      <td>POINT (84.75000 27.80000)</td>\n",
       "      <td>1</td>\n",
       "    </tr>\n",
       "  </tbody>\n",
       "</table>\n",
       "</div>"
      ],
      "text/plain": [
       "                                          geometry_x  protest_count_x  \\\n",
       "0  POLYGON ((84.62375 28.04125, 84.62375 28.04958...              1.0   \n",
       "1  POLYGON ((84.62375 27.99958, 84.62375 28.00792...              1.0   \n",
       "2  POLYGON ((84.62375 27.34958, 84.62375 27.35792...              1.0   \n",
       "3  POLYGON ((84.69042 27.88292, 84.69042 27.89125...              1.0   \n",
       "4  POLYGON ((84.75708 27.79958, 84.75708 27.80792...              1.0   \n",
       "\n",
       "   index_right      lat     long  pcount                 geometry_y  \\\n",
       "0          551  28.0433  84.6206     2.0  POINT (84.62060 28.04330)   \n",
       "1          556  28.0024  84.6201   280.0  POINT (84.62010 28.00240)   \n",
       "2          634  27.3506  84.6231     2.0  POINT (84.62310 27.35060)   \n",
       "3         1978  27.8844  84.6824     1.0  POINT (84.68240 27.88440)   \n",
       "4         3396  27.8000  84.7500    57.0  POINT (84.75000 27.80000)   \n",
       "\n",
       "   protest_count_y  \n",
       "0                1  \n",
       "1                1  \n",
       "2                1  \n",
       "3                1  \n",
       "4                1  "
      ]
     },
     "execution_count": 59,
     "metadata": {},
     "output_type": "execute_result"
    }
   ],
   "source": [
    "df2.head()"
   ]
  },
  {
   "cell_type": "code",
   "execution_count": 60,
   "id": "67f9c238-3d49-4678-ba7b-ab7f301c5392",
   "metadata": {},
   "outputs": [
    {
     "data": {
      "text/plain": [
       "(77, 8)"
      ]
     },
     "execution_count": 60,
     "metadata": {},
     "output_type": "execute_result"
    }
   ],
   "source": [
    "df2.shape"
   ]
  },
  {
   "cell_type": "code",
   "execution_count": 61,
   "id": "fb91618f-b146-4262-a9c3-de200df85132",
   "metadata": {},
   "outputs": [],
   "source": [
    "df2.to_csv(\"datapoints.csv\",index=False)"
   ]
  },
  {
   "cell_type": "code",
   "execution_count": 62,
   "id": "b6ec6ee3-cb6e-4717-bb2c-353a8cfdee79",
   "metadata": {},
   "outputs": [
    {
     "data": {
      "text/plain": [
       "(27456, 3)"
      ]
     },
     "execution_count": 62,
     "metadata": {},
     "output_type": "execute_result"
    }
   ],
   "source": [
    "tif_cell.shape"
   ]
  },
  {
   "cell_type": "code",
   "execution_count": 63,
   "id": "911592a0-cf90-4dbb-8eda-421dbb957dde",
   "metadata": {},
   "outputs": [
    {
     "data": {
      "text/html": [
       "<div>\n",
       "<style scoped>\n",
       "    .dataframe tbody tr th:only-of-type {\n",
       "        vertical-align: middle;\n",
       "    }\n",
       "\n",
       "    .dataframe tbody tr th {\n",
       "        vertical-align: top;\n",
       "    }\n",
       "\n",
       "    .dataframe thead th {\n",
       "        text-align: right;\n",
       "    }\n",
       "</style>\n",
       "<table border=\"1\" class=\"dataframe\">\n",
       "  <thead>\n",
       "    <tr style=\"text-align: right;\">\n",
       "      <th></th>\n",
       "      <th>geometry</th>\n",
       "      <th>protest_count</th>\n",
       "      <th>index_right</th>\n",
       "    </tr>\n",
       "  </thead>\n",
       "  <tbody>\n",
       "    <tr>\n",
       "      <th>0</th>\n",
       "      <td>POLYGON ((84.59875 28.23292, 84.59875 28.24125...</td>\n",
       "      <td>NaN</td>\n",
       "      <td>0</td>\n",
       "    </tr>\n",
       "    <tr>\n",
       "      <th>1</th>\n",
       "      <td>POLYGON ((84.59875 28.22458, 84.59875 28.23292...</td>\n",
       "      <td>NaN</td>\n",
       "      <td>1</td>\n",
       "    </tr>\n",
       "    <tr>\n",
       "      <th>2</th>\n",
       "      <td>POLYGON ((84.59875 28.21625, 84.59875 28.22458...</td>\n",
       "      <td>NaN</td>\n",
       "      <td>2</td>\n",
       "    </tr>\n",
       "    <tr>\n",
       "      <th>3</th>\n",
       "      <td>POLYGON ((84.59875 28.20792, 84.59875 28.21625...</td>\n",
       "      <td>NaN</td>\n",
       "      <td>3</td>\n",
       "    </tr>\n",
       "    <tr>\n",
       "      <th>4</th>\n",
       "      <td>POLYGON ((84.59875 28.19958, 84.59875 28.20792...</td>\n",
       "      <td>NaN</td>\n",
       "      <td>4</td>\n",
       "    </tr>\n",
       "  </tbody>\n",
       "</table>\n",
       "</div>"
      ],
      "text/plain": [
       "                                            geometry  protest_count  \\\n",
       "0  POLYGON ((84.59875 28.23292, 84.59875 28.24125...            NaN   \n",
       "1  POLYGON ((84.59875 28.22458, 84.59875 28.23292...            NaN   \n",
       "2  POLYGON ((84.59875 28.21625, 84.59875 28.22458...            NaN   \n",
       "3  POLYGON ((84.59875 28.20792, 84.59875 28.21625...            NaN   \n",
       "4  POLYGON ((84.59875 28.19958, 84.59875 28.20792...            NaN   \n",
       "\n",
       "   index_right  \n",
       "0            0  \n",
       "1            1  \n",
       "2            2  \n",
       "3            3  \n",
       "4            4  "
      ]
     },
     "execution_count": 63,
     "metadata": {},
     "output_type": "execute_result"
    }
   ],
   "source": [
    "tif_cell.head()"
   ]
  },
  {
   "cell_type": "code",
   "execution_count": 64,
   "id": "6b6dadbd-e25c-4f4e-b49e-4b1e376060da",
   "metadata": {},
   "outputs": [
    {
     "data": {
      "text/html": [
       "<div>\n",
       "<style scoped>\n",
       "    .dataframe tbody tr th:only-of-type {\n",
       "        vertical-align: middle;\n",
       "    }\n",
       "\n",
       "    .dataframe tbody tr th {\n",
       "        vertical-align: top;\n",
       "    }\n",
       "\n",
       "    .dataframe thead th {\n",
       "        text-align: right;\n",
       "    }\n",
       "</style>\n",
       "<table border=\"1\" class=\"dataframe\">\n",
       "  <thead>\n",
       "    <tr style=\"text-align: right;\">\n",
       "      <th></th>\n",
       "      <th>geometry_x</th>\n",
       "      <th>pcount</th>\n",
       "      <th>geometry_y</th>\n",
       "    </tr>\n",
       "  </thead>\n",
       "  <tbody>\n",
       "    <tr>\n",
       "      <th>0</th>\n",
       "      <td>POLYGON ((84.62375 28.04125, 84.62375 28.04958...</td>\n",
       "      <td>2.0</td>\n",
       "      <td>POINT (84.62060 28.04330)</td>\n",
       "    </tr>\n",
       "    <tr>\n",
       "      <th>1</th>\n",
       "      <td>POLYGON ((84.62375 27.99958, 84.62375 28.00792...</td>\n",
       "      <td>280.0</td>\n",
       "      <td>POINT (84.62010 28.00240)</td>\n",
       "    </tr>\n",
       "    <tr>\n",
       "      <th>2</th>\n",
       "      <td>POLYGON ((84.62375 27.34958, 84.62375 27.35792...</td>\n",
       "      <td>2.0</td>\n",
       "      <td>POINT (84.62310 27.35060)</td>\n",
       "    </tr>\n",
       "    <tr>\n",
       "      <th>3</th>\n",
       "      <td>POLYGON ((84.69042 27.88292, 84.69042 27.89125...</td>\n",
       "      <td>1.0</td>\n",
       "      <td>POINT (84.68240 27.88440)</td>\n",
       "    </tr>\n",
       "    <tr>\n",
       "      <th>4</th>\n",
       "      <td>POLYGON ((84.75708 27.79958, 84.75708 27.80792...</td>\n",
       "      <td>57.0</td>\n",
       "      <td>POINT (84.75000 27.80000)</td>\n",
       "    </tr>\n",
       "  </tbody>\n",
       "</table>\n",
       "</div>"
      ],
      "text/plain": [
       "                                          geometry_x  pcount  \\\n",
       "0  POLYGON ((84.62375 28.04125, 84.62375 28.04958...     2.0   \n",
       "1  POLYGON ((84.62375 27.99958, 84.62375 28.00792...   280.0   \n",
       "2  POLYGON ((84.62375 27.34958, 84.62375 27.35792...     2.0   \n",
       "3  POLYGON ((84.69042 27.88292, 84.69042 27.89125...     1.0   \n",
       "4  POLYGON ((84.75708 27.79958, 84.75708 27.80792...    57.0   \n",
       "\n",
       "                  geometry_y  \n",
       "0  POINT (84.62060 28.04330)  \n",
       "1  POINT (84.62010 28.00240)  \n",
       "2  POINT (84.62310 27.35060)  \n",
       "3  POINT (84.68240 27.88440)  \n",
       "4  POINT (84.75000 27.80000)  "
      ]
     },
     "execution_count": 64,
     "metadata": {},
     "output_type": "execute_result"
    }
   ],
   "source": [
    "df3 = df2.drop([\"protest_count_x\",\"index_right\",\"lat\",\"long\",\"protest_count_y\"], axis=1)\n",
    "df3.head()"
   ]
  },
  {
   "cell_type": "code",
   "execution_count": 65,
   "id": "a70d6a5d-75fc-4663-a963-558441306827",
   "metadata": {},
   "outputs": [
    {
     "data": {
      "text/plain": [
       "(77, 3)"
      ]
     },
     "execution_count": 65,
     "metadata": {},
     "output_type": "execute_result"
    }
   ],
   "source": [
    "df3.shape"
   ]
  },
  {
   "cell_type": "code",
   "execution_count": 52,
   "id": "a2958d05-32cb-47dc-b376-312d989803a3",
   "metadata": {},
   "outputs": [
    {
     "data": {
      "text/html": [
       "<div>\n",
       "<style scoped>\n",
       "    .dataframe tbody tr th:only-of-type {\n",
       "        vertical-align: middle;\n",
       "    }\n",
       "\n",
       "    .dataframe tbody tr th {\n",
       "        vertical-align: top;\n",
       "    }\n",
       "\n",
       "    .dataframe thead th {\n",
       "        text-align: right;\n",
       "    }\n",
       "</style>\n",
       "<table border=\"1\" class=\"dataframe\">\n",
       "  <thead>\n",
       "    <tr style=\"text-align: right;\">\n",
       "      <th></th>\n",
       "      <th>geometry</th>\n",
       "      <th>protest_count</th>\n",
       "    </tr>\n",
       "  </thead>\n",
       "  <tbody>\n",
       "    <tr>\n",
       "      <th>0</th>\n",
       "      <td>POLYGON ((84.59875 28.23292, 84.59875 28.24125...</td>\n",
       "      <td>NaN</td>\n",
       "    </tr>\n",
       "    <tr>\n",
       "      <th>1</th>\n",
       "      <td>POLYGON ((84.59875 28.22458, 84.59875 28.23292...</td>\n",
       "      <td>NaN</td>\n",
       "    </tr>\n",
       "    <tr>\n",
       "      <th>2</th>\n",
       "      <td>POLYGON ((84.59875 28.21625, 84.59875 28.22458...</td>\n",
       "      <td>NaN</td>\n",
       "    </tr>\n",
       "    <tr>\n",
       "      <th>3</th>\n",
       "      <td>POLYGON ((84.59875 28.20792, 84.59875 28.21625...</td>\n",
       "      <td>NaN</td>\n",
       "    </tr>\n",
       "    <tr>\n",
       "      <th>4</th>\n",
       "      <td>POLYGON ((84.59875 28.19958, 84.59875 28.20792...</td>\n",
       "      <td>NaN</td>\n",
       "    </tr>\n",
       "  </tbody>\n",
       "</table>\n",
       "</div>"
      ],
      "text/plain": [
       "                                            geometry  protest_count\n",
       "0  POLYGON ((84.59875 28.23292, 84.59875 28.24125...            NaN\n",
       "1  POLYGON ((84.59875 28.22458, 84.59875 28.23292...            NaN\n",
       "2  POLYGON ((84.59875 28.21625, 84.59875 28.22458...            NaN\n",
       "3  POLYGON ((84.59875 28.20792, 84.59875 28.21625...            NaN\n",
       "4  POLYGON ((84.59875 28.19958, 84.59875 28.20792...            NaN"
      ]
     },
     "execution_count": 52,
     "metadata": {},
     "output_type": "execute_result"
    }
   ],
   "source": [
    "# tiffcell1 = tif_cell.drop([\"index_right\"], axis=1)\n",
    "# tiffcell1.head()"
   ]
  },
  {
   "cell_type": "code",
   "execution_count": 3,
   "id": "3e5d4429-df27-4ce2-8dd4-7a2a9b204e2e",
   "metadata": {},
   "outputs": [],
   "source": [
    "#tif_cell = pd.read_csv(\"original_landsat/protestalignedpixel.csv\")"
   ]
  },
  {
   "cell_type": "code",
   "execution_count": 66,
   "id": "817a8fcb-f0b9-416a-b6af-3317c24a91c3",
   "metadata": {},
   "outputs": [
    {
     "data": {
      "text/plain": [
       "(27456, 3)"
      ]
     },
     "execution_count": 66,
     "metadata": {},
     "output_type": "execute_result"
    }
   ],
   "source": [
    "tif_cell.shape"
   ]
  },
  {
   "cell_type": "code",
   "execution_count": 68,
   "id": "de78091f-efd1-407c-b5cc-e56565082c2e",
   "metadata": {},
   "outputs": [
    {
     "data": {
      "text/plain": [
       "(27458, 10)"
      ]
     },
     "execution_count": 68,
     "metadata": {},
     "output_type": "execute_result"
    }
   ],
   "source": [
    "df_allevents = pd.merge(tif_cell,df2, how=\"left\", on=[\"index_right\"])\n",
    "df_allevents.shape"
   ]
  },
  {
   "cell_type": "code",
   "execution_count": 69,
   "id": "748b6f91-c536-4720-b99d-aeaf56c5dbe7",
   "metadata": {},
   "outputs": [
    {
     "data": {
      "text/html": [
       "<div>\n",
       "<style scoped>\n",
       "    .dataframe tbody tr th:only-of-type {\n",
       "        vertical-align: middle;\n",
       "    }\n",
       "\n",
       "    .dataframe tbody tr th {\n",
       "        vertical-align: top;\n",
       "    }\n",
       "\n",
       "    .dataframe thead th {\n",
       "        text-align: right;\n",
       "    }\n",
       "</style>\n",
       "<table border=\"1\" class=\"dataframe\">\n",
       "  <thead>\n",
       "    <tr style=\"text-align: right;\">\n",
       "      <th></th>\n",
       "      <th>geometry</th>\n",
       "      <th>protest_count</th>\n",
       "      <th>index_right</th>\n",
       "      <th>geometry_x</th>\n",
       "      <th>protest_count_x</th>\n",
       "      <th>lat</th>\n",
       "      <th>long</th>\n",
       "      <th>pcount</th>\n",
       "      <th>geometry_y</th>\n",
       "      <th>protest_count_y</th>\n",
       "    </tr>\n",
       "  </thead>\n",
       "  <tbody>\n",
       "    <tr>\n",
       "      <th>0</th>\n",
       "      <td>POLYGON ((84.59875 28.23292, 84.59875 28.24125...</td>\n",
       "      <td>NaN</td>\n",
       "      <td>0</td>\n",
       "      <td>None</td>\n",
       "      <td>NaN</td>\n",
       "      <td>NaN</td>\n",
       "      <td>NaN</td>\n",
       "      <td>NaN</td>\n",
       "      <td>None</td>\n",
       "      <td>NaN</td>\n",
       "    </tr>\n",
       "    <tr>\n",
       "      <th>1</th>\n",
       "      <td>POLYGON ((84.59875 28.22458, 84.59875 28.23292...</td>\n",
       "      <td>NaN</td>\n",
       "      <td>1</td>\n",
       "      <td>None</td>\n",
       "      <td>NaN</td>\n",
       "      <td>NaN</td>\n",
       "      <td>NaN</td>\n",
       "      <td>NaN</td>\n",
       "      <td>None</td>\n",
       "      <td>NaN</td>\n",
       "    </tr>\n",
       "    <tr>\n",
       "      <th>2</th>\n",
       "      <td>POLYGON ((84.59875 28.21625, 84.59875 28.22458...</td>\n",
       "      <td>NaN</td>\n",
       "      <td>2</td>\n",
       "      <td>None</td>\n",
       "      <td>NaN</td>\n",
       "      <td>NaN</td>\n",
       "      <td>NaN</td>\n",
       "      <td>NaN</td>\n",
       "      <td>None</td>\n",
       "      <td>NaN</td>\n",
       "    </tr>\n",
       "    <tr>\n",
       "      <th>3</th>\n",
       "      <td>POLYGON ((84.59875 28.20792, 84.59875 28.21625...</td>\n",
       "      <td>NaN</td>\n",
       "      <td>3</td>\n",
       "      <td>None</td>\n",
       "      <td>NaN</td>\n",
       "      <td>NaN</td>\n",
       "      <td>NaN</td>\n",
       "      <td>NaN</td>\n",
       "      <td>None</td>\n",
       "      <td>NaN</td>\n",
       "    </tr>\n",
       "    <tr>\n",
       "      <th>4</th>\n",
       "      <td>POLYGON ((84.59875 28.19958, 84.59875 28.20792...</td>\n",
       "      <td>NaN</td>\n",
       "      <td>4</td>\n",
       "      <td>None</td>\n",
       "      <td>NaN</td>\n",
       "      <td>NaN</td>\n",
       "      <td>NaN</td>\n",
       "      <td>NaN</td>\n",
       "      <td>None</td>\n",
       "      <td>NaN</td>\n",
       "    </tr>\n",
       "  </tbody>\n",
       "</table>\n",
       "</div>"
      ],
      "text/plain": [
       "                                            geometry  protest_count  \\\n",
       "0  POLYGON ((84.59875 28.23292, 84.59875 28.24125...            NaN   \n",
       "1  POLYGON ((84.59875 28.22458, 84.59875 28.23292...            NaN   \n",
       "2  POLYGON ((84.59875 28.21625, 84.59875 28.22458...            NaN   \n",
       "3  POLYGON ((84.59875 28.20792, 84.59875 28.21625...            NaN   \n",
       "4  POLYGON ((84.59875 28.19958, 84.59875 28.20792...            NaN   \n",
       "\n",
       "   index_right geometry_x  protest_count_x  lat  long  pcount geometry_y  \\\n",
       "0            0       None              NaN  NaN   NaN     NaN       None   \n",
       "1            1       None              NaN  NaN   NaN     NaN       None   \n",
       "2            2       None              NaN  NaN   NaN     NaN       None   \n",
       "3            3       None              NaN  NaN   NaN     NaN       None   \n",
       "4            4       None              NaN  NaN   NaN     NaN       None   \n",
       "\n",
       "   protest_count_y  \n",
       "0              NaN  \n",
       "1              NaN  \n",
       "2              NaN  \n",
       "3              NaN  \n",
       "4              NaN  "
      ]
     },
     "execution_count": 69,
     "metadata": {},
     "output_type": "execute_result"
    }
   ],
   "source": [
    "df_allevents.head()"
   ]
  },
  {
   "cell_type": "code",
   "execution_count": 70,
   "id": "e867359a-fc4a-4ba5-a2ba-6c46612a4005",
   "metadata": {},
   "outputs": [],
   "source": [
    "df4 =df_allevents.drop([\"protest_count_x\",\"geometry_x\",\"lat\",\"long\",\"protest_count_y\",\"geometry_y\"], axis=1)"
   ]
  },
  {
   "cell_type": "code",
   "execution_count": 72,
   "id": "546c0b9b-9f96-4e97-941e-1779c08cf777",
   "metadata": {},
   "outputs": [
    {
     "data": {
      "text/plain": [
       "(27458, 4)"
      ]
     },
     "execution_count": 72,
     "metadata": {},
     "output_type": "execute_result"
    }
   ],
   "source": [
    "df4.shape"
   ]
  },
  {
   "cell_type": "code",
   "execution_count": 73,
   "id": "25bb0ca0-ab22-4004-84ea-fa36eb98307f",
   "metadata": {},
   "outputs": [],
   "source": [
    "df4.drop([\"protest_count\"], axis=1,inplace = True)"
   ]
  },
  {
   "cell_type": "code",
   "execution_count": 76,
   "id": "54952170-957c-4e03-a782-ea15245ec1d8",
   "metadata": {},
   "outputs": [],
   "source": [
    "df4['pcount'] = df4['pcount'].replace(np.nan, 0)"
   ]
  },
  {
   "cell_type": "code",
   "execution_count": 78,
   "id": "88d4a574-7b23-4f13-9eef-90b00395e375",
   "metadata": {},
   "outputs": [],
   "source": [
    "df4.to_csv(\"2feb25allevents.csv\")"
   ]
  }
 ],
 "metadata": {
  "kernelspec": {
   "display_name": "aanisha",
   "language": "python",
   "name": "aanisha"
  },
  "language_info": {
   "codemirror_mode": {
    "name": "ipython",
    "version": 3
   },
   "file_extension": ".py",
   "mimetype": "text/x-python",
   "name": "python",
   "nbconvert_exporter": "python",
   "pygments_lexer": "ipython3",
   "version": "3.7.12"
  }
 },
 "nbformat": 4,
 "nbformat_minor": 5
}
