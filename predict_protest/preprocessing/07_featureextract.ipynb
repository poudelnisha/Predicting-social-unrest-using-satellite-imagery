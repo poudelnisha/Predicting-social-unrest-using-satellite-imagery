{
 "cells": [
  {
   "cell_type": "markdown",
   "metadata": {},
   "source": [
    "\n",
    "## Extraction of Features from Satellite Imagery\n",
    "Using the images marked as valid per cluster, we pass them through the CNN and extract their feature vectors.  \n",
    "Input: \n",
    "a. models/night28vggtrained_model.pt (saved models from 06_trainmodel notebook)\n",
    "b. data/processed/nightimage_download_actual.csv\n",
    "\n",
    "Output :\n",
    "4096 features extracted from the images and stored in \n",
    "a. results/nepal_2018/cnnnighttrainvggcluster_feats.npy \n",
    "b. results/nepl_2018/cnnnighttrainvggcluster_order.pkl"
   ]
  },
  {
   "cell_type": "code",
   "execution_count": 1,
   "metadata": {},
   "outputs": [],
   "source": [
    "import os\n",
    "import shutil\n",
    "import numpy as np\n",
    "import pandas as pd\n",
    "from tqdm.notebook import tqdm\n",
    "import pickle\n",
    "\n",
    "import torch\n",
    "import torch.nn as nn\n",
    "import torch.optim as optim\n",
    "import numpy as np\n",
    "import torchvision\n",
    "from torchvision import datasets, models, transforms\n",
    "import matplotlib.pyplot as plt\n",
    "import time\n",
    "import copy"
   ]
  },
  {
   "cell_type": "code",
   "execution_count": 2,
   "metadata": {},
   "outputs": [],
   "source": [
    "BASE_DIR = '..'\n",
    "COUNTRIES_DIR = os.path.join(BASE_DIR, 'gdelt')\n",
    "PROCESSED_DIR = os.path.join(BASE_DIR, 'data', 'processed')\n",
    "RESULTS_DIR = os.path.join(BASE_DIR, 'results')\n",
    "CNN_TRAIN_IMAGE_DIR = os.path.join(BASE_DIR, 'data', 'cnn_images')\n",
    "CNN_DIR = os.path.join(BASE_DIR, 'models', 'night28vggtrained_model.pt')"
   ]
  },
  {
   "cell_type": "code",
   "execution_count": 3,
   "metadata": {},
   "outputs": [],
   "source": [
    "os.makedirs(RESULTS_DIR, exist_ok=True)\n",
    "for country in ['nepal_2018']:\n",
    "    os.makedirs(os.path.join(RESULTS_DIR, country), exist_ok=True)"
   ]
  },
  {
   "cell_type": "markdown",
   "metadata": {},
   "source": [
    "# Feature extract with CNN\n",
    "If you have run this step before, you can skip it and run the commented out code in the next section to quick-start."
   ]
  },
  {
   "cell_type": "code",
   "execution_count": 4,
   "metadata": {},
   "outputs": [],
   "source": [
    "df_images = pd.read_csv(os.path.join(PROCESSED_DIR, 'nightimage_download_actual.csv'))"
   ]
  },
  {
   "cell_type": "code",
   "execution_count": 5,
   "metadata": {},
   "outputs": [
    {
     "data": {
      "text/html": [
       "<div>\n",
       "<style scoped>\n",
       "    .dataframe tbody tr th:only-of-type {\n",
       "        vertical-align: middle;\n",
       "    }\n",
       "\n",
       "    .dataframe tbody tr th {\n",
       "        vertical-align: top;\n",
       "    }\n",
       "\n",
       "    .dataframe thead th {\n",
       "        text-align: right;\n",
       "    }\n",
       "</style>\n",
       "<table border=\"1\" class=\"dataframe\">\n",
       "  <thead>\n",
       "    <tr style=\"text-align: right;\">\n",
       "      <th></th>\n",
       "      <th>image_name</th>\n",
       "      <th>image_lat</th>\n",
       "      <th>image_lon</th>\n",
       "      <th>cluster_lat</th>\n",
       "      <th>cluster_lon</th>\n",
       "      <th>consumervalue</th>\n",
       "      <th>agvalue</th>\n",
       "      <th>elevationvalue</th>\n",
       "      <th>mblphne</th>\n",
       "      <th>pop15_49</th>\n",
       "      <th>electricityvalue</th>\n",
       "      <th>pop0_5</th>\n",
       "      <th>nightlights</th>\n",
       "      <th>Noofprotest</th>\n",
       "      <th>nightlights_bin</th>\n",
       "      <th>is_train</th>\n",
       "    </tr>\n",
       "  </thead>\n",
       "  <tbody>\n",
       "    <tr>\n",
       "      <th>796</th>\n",
       "      <td>26.837084_85.56125_26.837084_85.56125.png</td>\n",
       "      <td>26.837084</td>\n",
       "      <td>85.561250</td>\n",
       "      <td>26.837084</td>\n",
       "      <td>85.56125</td>\n",
       "      <td>0.649576</td>\n",
       "      <td>0.613839</td>\n",
       "      <td>0.0</td>\n",
       "      <td>0.980307</td>\n",
       "      <td>0.013164</td>\n",
       "      <td>0.965833</td>\n",
       "      <td>0.030578</td>\n",
       "      <td>0.10204</td>\n",
       "      <td>0.004601</td>\n",
       "      <td>1</td>\n",
       "      <td>True</td>\n",
       "    </tr>\n",
       "    <tr>\n",
       "      <th>797</th>\n",
       "      <td>26.873016611364783_85.56125_26.837084_85.56125...</td>\n",
       "      <td>26.873017</td>\n",
       "      <td>85.561250</td>\n",
       "      <td>26.837084</td>\n",
       "      <td>85.56125</td>\n",
       "      <td>0.649576</td>\n",
       "      <td>0.613839</td>\n",
       "      <td>0.0</td>\n",
       "      <td>0.980307</td>\n",
       "      <td>0.013164</td>\n",
       "      <td>0.965833</td>\n",
       "      <td>0.030578</td>\n",
       "      <td>0.10204</td>\n",
       "      <td>0.004601</td>\n",
       "      <td>1</td>\n",
       "      <td>True</td>\n",
       "    </tr>\n",
       "    <tr>\n",
       "      <th>798</th>\n",
       "      <td>26.80115138863522_85.59718261136479_26.837084_...</td>\n",
       "      <td>26.801151</td>\n",
       "      <td>85.597183</td>\n",
       "      <td>26.837084</td>\n",
       "      <td>85.56125</td>\n",
       "      <td>0.649576</td>\n",
       "      <td>0.613839</td>\n",
       "      <td>0.0</td>\n",
       "      <td>0.980307</td>\n",
       "      <td>0.013164</td>\n",
       "      <td>0.965833</td>\n",
       "      <td>0.030578</td>\n",
       "      <td>0.10204</td>\n",
       "      <td>0.004601</td>\n",
       "      <td>1</td>\n",
       "      <td>True</td>\n",
       "    </tr>\n",
       "    <tr>\n",
       "      <th>799</th>\n",
       "      <td>26.837084_85.59718261136479_26.837084_85.56125...</td>\n",
       "      <td>26.837084</td>\n",
       "      <td>85.597183</td>\n",
       "      <td>26.837084</td>\n",
       "      <td>85.56125</td>\n",
       "      <td>0.649576</td>\n",
       "      <td>0.613839</td>\n",
       "      <td>0.0</td>\n",
       "      <td>0.980307</td>\n",
       "      <td>0.013164</td>\n",
       "      <td>0.965833</td>\n",
       "      <td>0.030578</td>\n",
       "      <td>0.10204</td>\n",
       "      <td>0.004601</td>\n",
       "      <td>1</td>\n",
       "      <td>False</td>\n",
       "    </tr>\n",
       "    <tr>\n",
       "      <th>800</th>\n",
       "      <td>26.873016611364783_85.59718261136479_26.837084...</td>\n",
       "      <td>26.873017</td>\n",
       "      <td>85.597183</td>\n",
       "      <td>26.837084</td>\n",
       "      <td>85.56125</td>\n",
       "      <td>0.649576</td>\n",
       "      <td>0.613839</td>\n",
       "      <td>0.0</td>\n",
       "      <td>0.980307</td>\n",
       "      <td>0.013164</td>\n",
       "      <td>0.965833</td>\n",
       "      <td>0.030578</td>\n",
       "      <td>0.10204</td>\n",
       "      <td>0.004601</td>\n",
       "      <td>1</td>\n",
       "      <td>True</td>\n",
       "    </tr>\n",
       "  </tbody>\n",
       "</table>\n",
       "</div>"
      ],
      "text/plain": [
       "                                            image_name  image_lat  image_lon  \\\n",
       "796          26.837084_85.56125_26.837084_85.56125.png  26.837084  85.561250   \n",
       "797  26.873016611364783_85.56125_26.837084_85.56125...  26.873017  85.561250   \n",
       "798  26.80115138863522_85.59718261136479_26.837084_...  26.801151  85.597183   \n",
       "799  26.837084_85.59718261136479_26.837084_85.56125...  26.837084  85.597183   \n",
       "800  26.873016611364783_85.59718261136479_26.837084...  26.873017  85.597183   \n",
       "\n",
       "     cluster_lat  cluster_lon  consumervalue   agvalue  elevationvalue  \\\n",
       "796    26.837084     85.56125       0.649576  0.613839             0.0   \n",
       "797    26.837084     85.56125       0.649576  0.613839             0.0   \n",
       "798    26.837084     85.56125       0.649576  0.613839             0.0   \n",
       "799    26.837084     85.56125       0.649576  0.613839             0.0   \n",
       "800    26.837084     85.56125       0.649576  0.613839             0.0   \n",
       "\n",
       "      mblphne  pop15_49  electricityvalue    pop0_5  nightlights  Noofprotest  \\\n",
       "796  0.980307  0.013164          0.965833  0.030578      0.10204     0.004601   \n",
       "797  0.980307  0.013164          0.965833  0.030578      0.10204     0.004601   \n",
       "798  0.980307  0.013164          0.965833  0.030578      0.10204     0.004601   \n",
       "799  0.980307  0.013164          0.965833  0.030578      0.10204     0.004601   \n",
       "800  0.980307  0.013164          0.965833  0.030578      0.10204     0.004601   \n",
       "\n",
       "     nightlights_bin  is_train  \n",
       "796                1      True  \n",
       "797                1      True  \n",
       "798                1      True  \n",
       "799                1     False  \n",
       "800                1      True  "
      ]
     },
     "execution_count": 5,
     "metadata": {},
     "output_type": "execute_result"
    }
   ],
   "source": [
    "df_images.tail()"
   ]
  },
  {
   "cell_type": "code",
   "execution_count": 6,
   "metadata": {},
   "outputs": [
    {
     "name": "stdout",
     "output_type": "stream",
     "text": [
      "Using cuda as backend\n"
     ]
    }
   ],
   "source": [
    "device = torch.device('cuda' if torch.cuda.is_available() else 'cpu')\n",
    "print(f'Using {device} as backend')\n",
    "model = torch.load(CNN_DIR, map_location=device)"
   ]
  },
  {
   "cell_type": "code",
   "execution_count": 7,
   "metadata": {},
   "outputs": [
    {
     "data": {
      "text/plain": [
       "Sequential(\n",
       "  (0): Linear(in_features=25088, out_features=4096, bias=True)\n",
       "  (1): ReLU(inplace=True)\n",
       "  (2): Dropout(p=0.5, inplace=False)\n",
       "  (3): Linear(in_features=4096, out_features=4096, bias=True)\n",
       "  (4): ReLU(inplace=True)\n",
       "  (5): Dropout(p=0.5, inplace=False)\n",
       "  (6): Linear(in_features=4096, out_features=3, bias=True)\n",
       ")"
      ]
     },
     "execution_count": 7,
     "metadata": {},
     "output_type": "execute_result"
    }
   ],
   "source": [
    "model.classifier"
   ]
  },
  {
   "cell_type": "code",
   "execution_count": 8,
   "metadata": {},
   "outputs": [],
   "source": [
    "# rip off the final layers\n",
    "model.classifier = model.classifier[:4]"
   ]
  },
  {
   "cell_type": "code",
   "execution_count": 9,
   "metadata": {},
   "outputs": [
    {
     "data": {
      "text/plain": [
       "Sequential(\n",
       "  (0): Linear(in_features=25088, out_features=4096, bias=True)\n",
       "  (1): ReLU(inplace=True)\n",
       "  (2): Dropout(p=0.5, inplace=False)\n",
       "  (3): Linear(in_features=4096, out_features=4096, bias=True)\n",
       ")"
      ]
     },
     "execution_count": 9,
     "metadata": {},
     "output_type": "execute_result"
    }
   ],
   "source": [
    "model.classifier"
   ]
  },
  {
   "cell_type": "code",
   "execution_count": 11,
   "metadata": {},
   "outputs": [
    {
     "data": {
      "application/vnd.jupyter.widget-view+json": {
       "model_id": "be1de681404d4077b83866cac4b396c5",
       "version_major": 2,
       "version_minor": 0
      },
      "text/plain": [
       "  0%|          | 0/10 [00:00<?, ?it/s]"
      ]
     },
     "metadata": {},
     "output_type": "display_data"
    },
    {
     "data": {
      "application/vnd.jupyter.widget-view+json": {
       "model_id": "2dff61c587694cb3a08b441a49c70539",
       "version_major": 2,
       "version_minor": 0
      },
      "text/plain": [
       "  0%|          | 0/6 [00:00<?, ?it/s]"
      ]
     },
     "metadata": {},
     "output_type": "display_data"
    },
    {
     "data": {
      "application/vnd.jupyter.widget-view+json": {
       "model_id": "a67b2ab5164049c0aa315f98bfc28faf",
       "version_major": 2,
       "version_minor": 0
      },
      "text/plain": [
       "  0%|          | 0/7 [00:00<?, ?it/s]"
      ]
     },
     "metadata": {},
     "output_type": "display_data"
    }
   ],
   "source": [
    "transformer = transforms.Compose([\n",
    "            transforms.ToTensor(),\n",
    "            transforms.Normalize([0.485, 0.456, 0.406], [0.229, 0.224, 0.225])\n",
    "        ])\n",
    "\n",
    "# custom dataset for fast image loading and processing\n",
    "# does not follow the usual style of folder -> folder for each class -> image\n",
    "# we just want one folder with images\n",
    "class ForwardPassDataset(torch.utils.data.Dataset):\n",
    "    def __init__(self, image_dir, transformer):\n",
    "        self.image_dir = image_dir\n",
    "        self.image_list = os.listdir(self.image_dir)\n",
    "        self.transformer = transformer\n",
    "\n",
    "    def __len__(self):\n",
    "        return len(self.image_list)\n",
    "\n",
    "    def __getitem__(self, index):\n",
    "        image_name = self.image_list[index]\n",
    "\n",
    "        # Load image\n",
    "        X = self.filename_to_im_tensor(self.image_dir + '/' + image_name)\n",
    "        \n",
    "        # dataloaders need to return a label, but for the forward pass we don't really care\n",
    "        return X, -1\n",
    "    \n",
    "    def filename_to_im_tensor(self, file):\n",
    "        im = plt.imread(file)[:,:,:3]\n",
    "        im = self.transformer(im)\n",
    "        return im\n",
    "\n",
    "model.eval()  \n",
    "classes = [0, 1, 2]\n",
    "# shape of final array will be (num_validation_images, 4096)\n",
    "# we also want to record the image each index represents\n",
    "feats = np.zeros(((~df_images['is_train']).sum(), 4096))\n",
    "image_order = []\n",
    "i = 0\n",
    "for c in classes:\n",
    "    # use the validation images to do the forward pass\n",
    "    dataset = ForwardPassDataset(os.path.join(CNN_TRAIN_IMAGE_DIR, 'valid', str(c)), transformer)\n",
    "    dataloader = torch.utils.data.DataLoader(dataset, batch_size=8, shuffle=False, num_workers=4)\n",
    "    image_order += dataset.image_list\n",
    "    # forward pass for this class\n",
    "    for inputs, _ in tqdm(dataloader):\n",
    "        inputs = inputs.to(device)\n",
    "        outputs = model(inputs)\n",
    "        feats[i:i+len(inputs),:] = outputs.cpu().detach().numpy()\n",
    "        i += len(inputs)"
   ]
  },
  {
   "cell_type": "code",
   "execution_count": 12,
   "metadata": {},
   "outputs": [
    {
     "data": {
      "text/plain": [
       "array([[ 0.31067708,  0.3601594 ,  0.26862946, ..., -0.76150513,\n",
       "        -0.10677798,  0.22471572],\n",
       "       [ 0.54130232,  0.52983701, -0.61511183, ...,  0.17076012,\n",
       "        -0.42089963, -1.17120135],\n",
       "       [-0.49921608,  0.27167448, -0.09789698, ...,  0.38344195,\n",
       "         0.81716973, -0.86799937],\n",
       "       ...,\n",
       "       [-1.17787623, -0.30852589, -0.23446774, ...,  0.4288274 ,\n",
       "         0.90008843, -1.87856925],\n",
       "       [-1.15110254,  0.49377331,  0.17122665, ...,  0.59835488,\n",
       "         0.21176425, -1.94773054],\n",
       "       [-0.10396078,  0.04080088, -0.28183877, ...,  0.91971856,\n",
       "         0.53963941, -1.76287246]])"
      ]
     },
     "execution_count": 12,
     "metadata": {},
     "output_type": "execute_result"
    }
   ],
   "source": [
    "feats"
   ]
  },
  {
   "cell_type": "code",
   "execution_count": 13,
   "metadata": {},
   "outputs": [
    {
     "data": {
      "text/plain": [
       "(178, 4096)"
      ]
     },
     "execution_count": 13,
     "metadata": {},
     "output_type": "execute_result"
    }
   ],
   "source": [
    "feats.shape"
   ]
  },
  {
   "cell_type": "code",
   "execution_count": 14,
   "metadata": {},
   "outputs": [
    {
     "data": {
      "text/html": [
       "<div>\n",
       "<style scoped>\n",
       "    .dataframe tbody tr th:only-of-type {\n",
       "        vertical-align: middle;\n",
       "    }\n",
       "\n",
       "    .dataframe tbody tr th {\n",
       "        vertical-align: top;\n",
       "    }\n",
       "\n",
       "    .dataframe thead th {\n",
       "        text-align: right;\n",
       "    }\n",
       "</style>\n",
       "<table border=\"1\" class=\"dataframe\">\n",
       "  <thead>\n",
       "    <tr style=\"text-align: right;\">\n",
       "      <th></th>\n",
       "      <th>image_name</th>\n",
       "      <th>feat_index</th>\n",
       "    </tr>\n",
       "  </thead>\n",
       "  <tbody>\n",
       "    <tr>\n",
       "      <th>0</th>\n",
       "      <td>27.93448438863522_85.169586_27.970417_85.16958...</td>\n",
       "      <td>0</td>\n",
       "    </tr>\n",
       "    <tr>\n",
       "      <th>1</th>\n",
       "      <td>27.85634961136478_84.82218261136478_27.820417_...</td>\n",
       "      <td>1</td>\n",
       "    </tr>\n",
       "    <tr>\n",
       "      <th>2</th>\n",
       "      <td>27.61468261136478_85.38625_27.57875_85.38625.png</td>\n",
       "      <td>2</td>\n",
       "    </tr>\n",
       "    <tr>\n",
       "      <th>3</th>\n",
       "      <td>27.039682611364782_85.30031738863522_27.00375_...</td>\n",
       "      <td>3</td>\n",
       "    </tr>\n",
       "    <tr>\n",
       "      <th>4</th>\n",
       "      <td>27.112083_85.43625_27.112083_85.43625.png</td>\n",
       "      <td>4</td>\n",
       "    </tr>\n",
       "  </tbody>\n",
       "</table>\n",
       "</div>"
      ],
      "text/plain": [
       "                                          image_name  feat_index\n",
       "0  27.93448438863522_85.169586_27.970417_85.16958...           0\n",
       "1  27.85634961136478_84.82218261136478_27.820417_...           1\n",
       "2   27.61468261136478_85.38625_27.57875_85.38625.png           2\n",
       "3  27.039682611364782_85.30031738863522_27.00375_...           3\n",
       "4          27.112083_85.43625_27.112083_85.43625.png           4"
      ]
     },
     "execution_count": 14,
     "metadata": {},
     "output_type": "execute_result"
    }
   ],
   "source": [
    "forward_pass_df = pd.DataFrame.from_dict({'image_name': image_order, 'feat_index': np.arange(len(image_order))})\n",
    "forward_pass_df.head()"
   ]
  },
  {
   "cell_type": "code",
   "execution_count": 15,
   "metadata": {},
   "outputs": [
    {
     "data": {
      "text/plain": [
       "(178, 2)"
      ]
     },
     "execution_count": 15,
     "metadata": {},
     "output_type": "execute_result"
    }
   ],
   "source": [
    "forward_pass_df.shape"
   ]
  },
  {
   "cell_type": "code",
   "execution_count": 16,
   "metadata": {},
   "outputs": [],
   "source": [
    "df_protest = pd.merge(left=df_images, right=forward_pass_df, on='image_name')"
   ]
  },
  {
   "cell_type": "code",
   "execution_count": 17,
   "metadata": {},
   "outputs": [],
   "source": [
    "# have we maintained all validation images?\n",
    "assert len(df_protest) == (~df_images['is_train']).sum()"
   ]
  },
  {
   "cell_type": "code",
   "execution_count": 19,
   "metadata": {},
   "outputs": [],
   "source": [
    "# have we maintained all validation images?\n",
    "assert len(df_protest) == (~df_images['is_train']).sum()"
   ]
  },
  {
   "cell_type": "code",
   "execution_count": 20,
   "metadata": {},
   "outputs": [
    {
     "data": {
      "text/html": [
       "<div>\n",
       "<style scoped>\n",
       "    .dataframe tbody tr th:only-of-type {\n",
       "        vertical-align: middle;\n",
       "    }\n",
       "\n",
       "    .dataframe tbody tr th {\n",
       "        vertical-align: top;\n",
       "    }\n",
       "\n",
       "    .dataframe thead th {\n",
       "        text-align: right;\n",
       "    }\n",
       "</style>\n",
       "<table border=\"1\" class=\"dataframe\">\n",
       "  <thead>\n",
       "    <tr style=\"text-align: right;\">\n",
       "      <th></th>\n",
       "      <th>image_name</th>\n",
       "      <th>image_lat</th>\n",
       "      <th>image_lon</th>\n",
       "      <th>cluster_lat</th>\n",
       "      <th>cluster_lon</th>\n",
       "      <th>consumervalue</th>\n",
       "      <th>agvalue</th>\n",
       "      <th>elevationvalue</th>\n",
       "      <th>mblphne</th>\n",
       "      <th>pop15_49</th>\n",
       "      <th>electricityvalue</th>\n",
       "      <th>pop0_5</th>\n",
       "      <th>nightlights</th>\n",
       "      <th>Noofprotest</th>\n",
       "      <th>nightlights_bin</th>\n",
       "      <th>is_train</th>\n",
       "      <th>feat_index</th>\n",
       "    </tr>\n",
       "  </thead>\n",
       "  <tbody>\n",
       "    <tr>\n",
       "      <th>173</th>\n",
       "      <td>26.93968261136478_85.83625_26.90375_85.83625.png</td>\n",
       "      <td>26.939683</td>\n",
       "      <td>85.836250</td>\n",
       "      <td>26.903750</td>\n",
       "      <td>85.836250</td>\n",
       "      <td>0.291982</td>\n",
       "      <td>0.716957</td>\n",
       "      <td>0.029020</td>\n",
       "      <td>0.956075</td>\n",
       "      <td>0.005457</td>\n",
       "      <td>0.968001</td>\n",
       "      <td>0.008737</td>\n",
       "      <td>0.089728</td>\n",
       "      <td>0.053211</td>\n",
       "      <td>1</td>\n",
       "      <td>False</td>\n",
       "      <td>91</td>\n",
       "    </tr>\n",
       "    <tr>\n",
       "      <th>174</th>\n",
       "      <td>26.81781738863522_85.777916_26.85375_85.777916...</td>\n",
       "      <td>26.817817</td>\n",
       "      <td>85.777916</td>\n",
       "      <td>26.853750</td>\n",
       "      <td>85.777916</td>\n",
       "      <td>0.132762</td>\n",
       "      <td>0.737086</td>\n",
       "      <td>0.017963</td>\n",
       "      <td>0.967104</td>\n",
       "      <td>0.008040</td>\n",
       "      <td>0.884982</td>\n",
       "      <td>0.012097</td>\n",
       "      <td>0.000000</td>\n",
       "      <td>0.000000</td>\n",
       "      <td>0</td>\n",
       "      <td>False</td>\n",
       "      <td>75</td>\n",
       "    </tr>\n",
       "    <tr>\n",
       "      <th>175</th>\n",
       "      <td>26.81781738863522_85.81384861136479_26.85375_8...</td>\n",
       "      <td>26.817817</td>\n",
       "      <td>85.813849</td>\n",
       "      <td>26.853750</td>\n",
       "      <td>85.777916</td>\n",
       "      <td>0.132762</td>\n",
       "      <td>0.737086</td>\n",
       "      <td>0.017963</td>\n",
       "      <td>0.967104</td>\n",
       "      <td>0.008040</td>\n",
       "      <td>0.884982</td>\n",
       "      <td>0.012097</td>\n",
       "      <td>0.000000</td>\n",
       "      <td>0.000000</td>\n",
       "      <td>0</td>\n",
       "      <td>False</td>\n",
       "      <td>33</td>\n",
       "    </tr>\n",
       "    <tr>\n",
       "      <th>176</th>\n",
       "      <td>26.873016611364783_85.52531738863522_26.837084...</td>\n",
       "      <td>26.873017</td>\n",
       "      <td>85.525317</td>\n",
       "      <td>26.837084</td>\n",
       "      <td>85.561250</td>\n",
       "      <td>0.649576</td>\n",
       "      <td>0.613839</td>\n",
       "      <td>0.000000</td>\n",
       "      <td>0.980307</td>\n",
       "      <td>0.013164</td>\n",
       "      <td>0.965833</td>\n",
       "      <td>0.030578</td>\n",
       "      <td>0.102040</td>\n",
       "      <td>0.004601</td>\n",
       "      <td>1</td>\n",
       "      <td>False</td>\n",
       "      <td>93</td>\n",
       "    </tr>\n",
       "    <tr>\n",
       "      <th>177</th>\n",
       "      <td>26.837084_85.59718261136479_26.837084_85.56125...</td>\n",
       "      <td>26.837084</td>\n",
       "      <td>85.597183</td>\n",
       "      <td>26.837084</td>\n",
       "      <td>85.561250</td>\n",
       "      <td>0.649576</td>\n",
       "      <td>0.613839</td>\n",
       "      <td>0.000000</td>\n",
       "      <td>0.980307</td>\n",
       "      <td>0.013164</td>\n",
       "      <td>0.965833</td>\n",
       "      <td>0.030578</td>\n",
       "      <td>0.102040</td>\n",
       "      <td>0.004601</td>\n",
       "      <td>1</td>\n",
       "      <td>False</td>\n",
       "      <td>90</td>\n",
       "    </tr>\n",
       "  </tbody>\n",
       "</table>\n",
       "</div>"
      ],
      "text/plain": [
       "                                            image_name  image_lat  image_lon  \\\n",
       "173   26.93968261136478_85.83625_26.90375_85.83625.png  26.939683  85.836250   \n",
       "174  26.81781738863522_85.777916_26.85375_85.777916...  26.817817  85.777916   \n",
       "175  26.81781738863522_85.81384861136479_26.85375_8...  26.817817  85.813849   \n",
       "176  26.873016611364783_85.52531738863522_26.837084...  26.873017  85.525317   \n",
       "177  26.837084_85.59718261136479_26.837084_85.56125...  26.837084  85.597183   \n",
       "\n",
       "     cluster_lat  cluster_lon  consumervalue   agvalue  elevationvalue  \\\n",
       "173    26.903750    85.836250       0.291982  0.716957        0.029020   \n",
       "174    26.853750    85.777916       0.132762  0.737086        0.017963   \n",
       "175    26.853750    85.777916       0.132762  0.737086        0.017963   \n",
       "176    26.837084    85.561250       0.649576  0.613839        0.000000   \n",
       "177    26.837084    85.561250       0.649576  0.613839        0.000000   \n",
       "\n",
       "      mblphne  pop15_49  electricityvalue    pop0_5  nightlights  Noofprotest  \\\n",
       "173  0.956075  0.005457          0.968001  0.008737     0.089728     0.053211   \n",
       "174  0.967104  0.008040          0.884982  0.012097     0.000000     0.000000   \n",
       "175  0.967104  0.008040          0.884982  0.012097     0.000000     0.000000   \n",
       "176  0.980307  0.013164          0.965833  0.030578     0.102040     0.004601   \n",
       "177  0.980307  0.013164          0.965833  0.030578     0.102040     0.004601   \n",
       "\n",
       "     nightlights_bin  is_train  feat_index  \n",
       "173                1     False          91  \n",
       "174                0     False          75  \n",
       "175                0     False          33  \n",
       "176                1     False          93  \n",
       "177                1     False          90  "
      ]
     },
     "execution_count": 20,
     "metadata": {},
     "output_type": "execute_result"
    }
   ],
   "source": [
    "df_protest.tail()"
   ]
  },
  {
   "cell_type": "code",
   "execution_count": 21,
   "metadata": {},
   "outputs": [],
   "source": [
    "df_protest['Country'] = 'NP'"
   ]
  },
  {
   "cell_type": "markdown",
   "metadata": {},
   "source": [
    "## Aggregate Features\n",
    "For each country, we aggregate the image features per cluster and save them to results/country/cnn"
   ]
  },
  {
   "cell_type": "code",
   "execution_count": 22,
   "metadata": {},
   "outputs": [],
   "source": [
    "country_abbrv = ['NP']\n",
    "country_dir = ['nepal_2018']\n",
    "\n",
    "for ca, cd in zip(country_abbrv, country_dir):\n",
    "    df_c = df_protest[df_protest['Country'] == ca]\n",
    "    group = df_c.groupby(['cluster_lat', 'cluster_lon'])\n",
    "    x = np.zeros((len(group), 4096))\n",
    "    cluster_list = [] # the corresponding clusters (lat, lon) to the x aggregate feature array\n",
    "    for i, g in enumerate(group):\n",
    "        lat, lon = g[0]\n",
    "        im_sub = df_protest[(df_protest['cluster_lat'] == lat) & (df_protest['cluster_lon'] == lon)].reset_index(drop=True)\n",
    "        agg_feats = np.zeros((len(im_sub), 4096))\n",
    "        for j, d in im_sub.iterrows():\n",
    "            agg_feats[j,:] = feats[d.feat_index]\n",
    "        agg_feats = agg_feats.mean(axis=0) # averages the features across all images in the cluster\n",
    "\n",
    "        x[i,:] = agg_feats\n",
    "        cluster_list.append([lat, lon])\n",
    "    # save to the correct directory\n",
    "    save_dir = os.path.join(RESULTS_DIR, cd, 'cnn')\n",
    "    os.makedirs(save_dir, exist_ok=True)\n",
    "    np.save(os.path.join(save_dir, 'nighttrainvggcluster_feats.npy'), x)\n",
    "    pickle.dump(cluster_list, open(os.path.join(save_dir, 'nighttrainvggcluster_order.pkl'), 'wb')) \n",
    "    "
   ]
  },
  {
   "cell_type": "code",
   "execution_count": 20,
   "metadata": {},
   "outputs": [],
   "source": [
    "\n",
    "data_array = np.load('../results/nepal_2018/cnn/cluster_feats.npy')\n",
    "data = pd.DataFrame(data_array)"
   ]
  },
  {
   "cell_type": "code",
   "execution_count": 21,
   "metadata": {},
   "outputs": [
    {
     "data": {
      "text/html": [
       "<div>\n",
       "<style scoped>\n",
       "    .dataframe tbody tr th:only-of-type {\n",
       "        vertical-align: middle;\n",
       "    }\n",
       "\n",
       "    .dataframe tbody tr th {\n",
       "        vertical-align: top;\n",
       "    }\n",
       "\n",
       "    .dataframe thead th {\n",
       "        text-align: right;\n",
       "    }\n",
       "</style>\n",
       "<table border=\"1\" class=\"dataframe\">\n",
       "  <thead>\n",
       "    <tr style=\"text-align: right;\">\n",
       "      <th></th>\n",
       "      <th>0</th>\n",
       "      <th>1</th>\n",
       "      <th>2</th>\n",
       "      <th>3</th>\n",
       "      <th>4</th>\n",
       "      <th>5</th>\n",
       "      <th>6</th>\n",
       "      <th>7</th>\n",
       "      <th>8</th>\n",
       "      <th>9</th>\n",
       "      <th>...</th>\n",
       "      <th>4086</th>\n",
       "      <th>4087</th>\n",
       "      <th>4088</th>\n",
       "      <th>4089</th>\n",
       "      <th>4090</th>\n",
       "      <th>4091</th>\n",
       "      <th>4092</th>\n",
       "      <th>4093</th>\n",
       "      <th>4094</th>\n",
       "      <th>4095</th>\n",
       "    </tr>\n",
       "  </thead>\n",
       "  <tbody>\n",
       "    <tr>\n",
       "      <th>0</th>\n",
       "      <td>-0.283289</td>\n",
       "      <td>0.566917</td>\n",
       "      <td>-0.118794</td>\n",
       "      <td>-0.547003</td>\n",
       "      <td>-0.474713</td>\n",
       "      <td>-0.200924</td>\n",
       "      <td>-0.297794</td>\n",
       "      <td>0.100196</td>\n",
       "      <td>-0.481585</td>\n",
       "      <td>-0.330021</td>\n",
       "      <td>...</td>\n",
       "      <td>-0.201371</td>\n",
       "      <td>-0.160594</td>\n",
       "      <td>-0.692318</td>\n",
       "      <td>-0.136503</td>\n",
       "      <td>-0.663593</td>\n",
       "      <td>0.199893</td>\n",
       "      <td>0.318315</td>\n",
       "      <td>-0.079850</td>\n",
       "      <td>0.360743</td>\n",
       "      <td>-0.577411</td>\n",
       "    </tr>\n",
       "    <tr>\n",
       "      <th>1</th>\n",
       "      <td>-0.391647</td>\n",
       "      <td>0.242383</td>\n",
       "      <td>0.175748</td>\n",
       "      <td>-0.184521</td>\n",
       "      <td>-0.004234</td>\n",
       "      <td>0.012669</td>\n",
       "      <td>-0.299766</td>\n",
       "      <td>0.087809</td>\n",
       "      <td>0.539612</td>\n",
       "      <td>0.181441</td>\n",
       "      <td>...</td>\n",
       "      <td>-0.224399</td>\n",
       "      <td>-0.117486</td>\n",
       "      <td>0.152750</td>\n",
       "      <td>0.252105</td>\n",
       "      <td>0.041224</td>\n",
       "      <td>0.667171</td>\n",
       "      <td>0.234246</td>\n",
       "      <td>0.257077</td>\n",
       "      <td>-0.049544</td>\n",
       "      <td>-0.844459</td>\n",
       "    </tr>\n",
       "    <tr>\n",
       "      <th>2</th>\n",
       "      <td>-0.616642</td>\n",
       "      <td>0.879770</td>\n",
       "      <td>-0.220837</td>\n",
       "      <td>-0.293858</td>\n",
       "      <td>-0.432047</td>\n",
       "      <td>0.068485</td>\n",
       "      <td>-0.148867</td>\n",
       "      <td>0.095733</td>\n",
       "      <td>-0.176750</td>\n",
       "      <td>-0.565605</td>\n",
       "      <td>...</td>\n",
       "      <td>0.096275</td>\n",
       "      <td>0.019890</td>\n",
       "      <td>-0.224270</td>\n",
       "      <td>-0.154993</td>\n",
       "      <td>-0.837059</td>\n",
       "      <td>0.330519</td>\n",
       "      <td>-0.033447</td>\n",
       "      <td>0.307753</td>\n",
       "      <td>0.533051</td>\n",
       "      <td>-1.320762</td>\n",
       "    </tr>\n",
       "    <tr>\n",
       "      <th>3</th>\n",
       "      <td>-0.373912</td>\n",
       "      <td>0.523221</td>\n",
       "      <td>-0.080454</td>\n",
       "      <td>-0.347141</td>\n",
       "      <td>-0.478730</td>\n",
       "      <td>0.176487</td>\n",
       "      <td>-0.249717</td>\n",
       "      <td>0.106497</td>\n",
       "      <td>0.335417</td>\n",
       "      <td>-0.548297</td>\n",
       "      <td>...</td>\n",
       "      <td>-0.251748</td>\n",
       "      <td>-0.090021</td>\n",
       "      <td>-0.139228</td>\n",
       "      <td>-0.091921</td>\n",
       "      <td>-0.573192</td>\n",
       "      <td>0.442339</td>\n",
       "      <td>-0.172156</td>\n",
       "      <td>0.246612</td>\n",
       "      <td>-0.009111</td>\n",
       "      <td>-0.945608</td>\n",
       "    </tr>\n",
       "    <tr>\n",
       "      <th>4</th>\n",
       "      <td>-0.066026</td>\n",
       "      <td>-0.045560</td>\n",
       "      <td>0.168912</td>\n",
       "      <td>-0.629117</td>\n",
       "      <td>-0.565312</td>\n",
       "      <td>-0.153071</td>\n",
       "      <td>-0.280531</td>\n",
       "      <td>0.252013</td>\n",
       "      <td>-0.364775</td>\n",
       "      <td>-0.153662</td>\n",
       "      <td>...</td>\n",
       "      <td>-0.166793</td>\n",
       "      <td>-0.078803</td>\n",
       "      <td>-0.133168</td>\n",
       "      <td>0.150548</td>\n",
       "      <td>-0.542827</td>\n",
       "      <td>0.390639</td>\n",
       "      <td>-0.650365</td>\n",
       "      <td>-0.060529</td>\n",
       "      <td>0.325392</td>\n",
       "      <td>-0.741968</td>\n",
       "    </tr>\n",
       "  </tbody>\n",
       "</table>\n",
       "<p>5 rows × 4096 columns</p>\n",
       "</div>"
      ],
      "text/plain": [
       "       0         1         2         3         4         5         6     \\\n",
       "0 -0.283289  0.566917 -0.118794 -0.547003 -0.474713 -0.200924 -0.297794   \n",
       "1 -0.391647  0.242383  0.175748 -0.184521 -0.004234  0.012669 -0.299766   \n",
       "2 -0.616642  0.879770 -0.220837 -0.293858 -0.432047  0.068485 -0.148867   \n",
       "3 -0.373912  0.523221 -0.080454 -0.347141 -0.478730  0.176487 -0.249717   \n",
       "4 -0.066026 -0.045560  0.168912 -0.629117 -0.565312 -0.153071 -0.280531   \n",
       "\n",
       "       7         8         9     ...      4086      4087      4088      4089  \\\n",
       "0  0.100196 -0.481585 -0.330021  ... -0.201371 -0.160594 -0.692318 -0.136503   \n",
       "1  0.087809  0.539612  0.181441  ... -0.224399 -0.117486  0.152750  0.252105   \n",
       "2  0.095733 -0.176750 -0.565605  ...  0.096275  0.019890 -0.224270 -0.154993   \n",
       "3  0.106497  0.335417 -0.548297  ... -0.251748 -0.090021 -0.139228 -0.091921   \n",
       "4  0.252013 -0.364775 -0.153662  ... -0.166793 -0.078803 -0.133168  0.150548   \n",
       "\n",
       "       4090      4091      4092      4093      4094      4095  \n",
       "0 -0.663593  0.199893  0.318315 -0.079850  0.360743 -0.577411  \n",
       "1  0.041224  0.667171  0.234246  0.257077 -0.049544 -0.844459  \n",
       "2 -0.837059  0.330519 -0.033447  0.307753  0.533051 -1.320762  \n",
       "3 -0.573192  0.442339 -0.172156  0.246612 -0.009111 -0.945608  \n",
       "4 -0.542827  0.390639 -0.650365 -0.060529  0.325392 -0.741968  \n",
       "\n",
       "[5 rows x 4096 columns]"
      ]
     },
     "execution_count": 21,
     "metadata": {},
     "output_type": "execute_result"
    }
   ],
   "source": [
    "data.head()"
   ]
  },
  {
   "cell_type": "code",
   "execution_count": 23,
   "metadata": {},
   "outputs": [
    {
     "data": {
      "text/plain": [
       "(4409, 4096)"
      ]
     },
     "execution_count": 23,
     "metadata": {},
     "output_type": "execute_result"
    }
   ],
   "source": [
    "data.shape"
   ]
  },
  {
   "cell_type": "code",
   "execution_count": null,
   "metadata": {},
   "outputs": [],
   "source": []
  }
 ],
 "metadata": {
  "environment": {
   "name": "pytorch-gpu.1-4.m46",
   "type": "gcloud",
   "uri": "gcr.io/deeplearning-platform-release/pytorch-gpu.1-4:m46"
  },
  "kernelspec": {
   "display_name": "aanisha",
   "language": "python",
   "name": "aanisha"
  },
  "language_info": {
   "codemirror_mode": {
    "name": "ipython",
    "version": 3
   },
   "file_extension": ".py",
   "mimetype": "text/x-python",
   "name": "python",
   "nbconvert_exporter": "python",
   "pygments_lexer": "ipython3",
   "version": "3.7.12"
  }
 },
 "nbformat": 4,
 "nbformat_minor": 4
}
