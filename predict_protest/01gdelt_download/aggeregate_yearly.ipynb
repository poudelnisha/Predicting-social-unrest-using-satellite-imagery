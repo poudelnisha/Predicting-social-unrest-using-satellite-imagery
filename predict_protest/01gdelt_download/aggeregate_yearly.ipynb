{
 "cells": [
  {
   "cell_type": "code",
   "execution_count": 1,
   "metadata": {},
   "outputs": [],
   "source": [
    "import pandas as pd\n",
    "from os import listdir\n",
    "import os"
   ]
  },
  {
   "cell_type": "markdown",
   "metadata": {},
   "source": [
    "## How to download event dataset from GDELT ?\n",
    "\n",
    "Prior to running this notebook You have to \n",
    "1. Get a hyperlinks txt file for the year you want to download GDELT event data for.See the hypertext data file given \n",
    "in the folder  for reference. \n",
    "2. Run download_csv.py\n",
    "3. You will get folder temp_2018  that comprises csv file of event data for a year you want.\n",
    "4. Run this notebook\n",
    "\n",
    "* Output :\n",
    "    Aggregated csv for the year chosen."
   ]
  },
  {
   "cell_type": "code",
   "execution_count": 1,
   "metadata": {},
   "outputs": [],
   "source": [
    "\n",
    "dir_name = '../gdelt_download/temp_2018'\n",
    "paths = listdir(dir_name)\n",
    "\n"
   ]
  },
  {
   "cell_type": "code",
   "execution_count": 2,
   "metadata": {},
   "outputs": [],
   "source": [
    "paths\n",
    "all_df = []\n",
    "\n",
    "for file in paths:\n",
    "    df = pd.read_csv(os.path.join(dir_name, file), delimiter = '\\t')\n",
    "    df.columns = ['GLOBALEVENTID', 'SQLDATE', 'MonthYear', 'Year', 'FractionDate', 'Actor1Code',\n",
    "        'Actor1Name', 'Actor1CountryCode', 'Actor1KnownGroupCode', 'Actor1EthnicCode',\n",
    "        'Actor1Religion1Code', 'Actor1Religion2Code', 'Actor1Type1Code', 'Actor1Type2Code',\n",
    "        'Actor1Type3Code', 'Actor2Code', 'Actor2Name', 'Actor2CountryCode',\n",
    "        'Actor2KnownGroupCode', 'Actor2EthnicCode', 'Actor2Religion1Code',\n",
    "        'Actor2Religion2Code', 'Actor2Type1Code', 'Actor2Type2Code', 'Actor2Type3Code',\n",
    "        'IsRootEvent', 'EventCode', 'EventBaseCode', 'EventRootCode', 'QuadClass',\n",
    "        'GoldsteinScale', 'NumMentions', 'NumSources', 'NumArticles', 'AvgTone',\n",
    "        'Actor1Geo_Type', 'Actor1Geo_FullName', 'Actor1Geo_CountryCode', 'Actor1Geo_ADM1Code',\n",
    "        'Actor1Geo_Lat', 'Actor1Geo_Long', 'Actor1Geo_FeatureID', 'Actor2Geo_Type',\n",
    "        'Actor2Geo_FullName', 'Actor2Geo_CountryCode', 'Actor2Geo_ADM1Code',\n",
    "        'Actor2Geo_Lat', 'Actor2Geo_Long', 'Actor2Geo_FeatureID', 'ActionGeo_Type',\n",
    "        'ActionGeo_FullName', 'ActionGeo_CountryCode', 'ActionGeo_ADM1Code',\n",
    "        'ActionGeo_Lat', 'ActionGeo_Long', 'ActionGeo_FeatureID', 'DATEADDED', 'SOURCEURL']\n",
    "    df_in = pd.DataFrame((df.loc[df['ActionGeo_CountryCode'].isin(['NP'])]))\n",
    "    all_df.append(df_in)\n",
    "all_df = pd.concat(all_df, axis=0, sort = False)\n",
    "    "
   ]
  },
  {
   "cell_type": "code",
   "execution_count": 3,
   "metadata": {},
   "outputs": [],
   "source": [
    "all_df.to_csv('../gdelt_download/Nepal_2018.csv', index = False)"
   ]
  }
 ],
 "metadata": {
  "kernelspec": {
   "display_name": "aanisha",
   "language": "python",
   "name": "aanisha"
  },
  "language_info": {
   "codemirror_mode": {
    "name": "ipython",
    "version": 3
   },
   "file_extension": ".py",
   "mimetype": "text/x-python",
   "name": "python",
   "nbconvert_exporter": "python",
   "pygments_lexer": "ipython3",
   "version": "3.7.12"
  }
 },
 "nbformat": 4,
 "nbformat_minor": 4
}
