{
 "cells": [
  {
   "cell_type": "markdown",
   "metadata": {},
   "source": [
    "## Final Prediction Using Regression\n",
    "\n",
    "This is a notebook for final prediction.Prior to this notebook\n",
    "1. Run 07featureextract notebook.  \n",
    "\n",
    "Input :   \n",
    "  \n",
    "    a. April11cleaned.csv(The original csv with number of protest and other features)\n",
    "    b. results/nepal_2018/cnnnighttrainvggcluster_feats.npy \n",
    "    c. results/nepl_2018/cnnnighttrainvggcluster_order.pkl (Get this output after running  07featureectract.ipynb)  \n",
    "    \n",
    "Output : Number of protest prediction    \n",
    "    "
   ]
  },
  {
   "cell_type": "code",
   "execution_count": 1,
   "metadata": {},
   "outputs": [],
   "source": [
    "#import necessary module\n",
    "import os\n",
    "import numpy as np\n",
    "import pandas as pd\n",
    "import pickle\n",
    "import matplotlib.pyplot as plt"
   ]
  },
  {
   "cell_type": "code",
   "execution_count": 2,
   "metadata": {},
   "outputs": [],
   "source": [
    "BASE_DIR = '..'\n",
    "\n",
    "RANDOM_SEED = 7 # for reproducibility\n",
    "COUNTRIES_DIR = os.path.join(BASE_DIR, 'preprocessing')\n",
    "RESULTS_DIR = os.path.join(BASE_DIR, 'results')\n",
    "FIGURES_DIR = os.path.join(BASE_DIR, 'figures')"
   ]
  },
  {
   "cell_type": "code",
   "execution_count": 3,
   "metadata": {},
   "outputs": [],
   "source": [
    "import sys\n",
    "sys.path.append(BASE_DIR)\n",
    "from utils import merge_on_lat_lon, assign_groups, run_randomized_cv, run_spatial_cv"
   ]
  },
  {
   "cell_type": "code",
   "execution_count": 4,
   "metadata": {},
   "outputs": [],
   "source": [
    "from sklearn.linear_model import Lasso\n",
    "from sklearn.model_selection import GridSearchCV\n",
    "from sklearn.metrics import r2_score\n",
    "from sklearn.linear_model import Ridge\n",
    "from sklearn.model_selection import train_test_split\n",
    "from sklearn.metrics import mean_squared_error\n",
    "from math import sqrt\n",
    "import xgboost as xgb\n",
    "import seaborn as sns\n"
   ]
  },
  {
   "cell_type": "code",
   "execution_count": 5,
   "metadata": {},
   "outputs": [],
   "source": [
    "df = pd.read_csv(os.path.join(COUNTRIES_DIR, 'Apr11cleaned.csv'))"
   ]
  },
  {
   "cell_type": "code",
   "execution_count": 6,
   "metadata": {},
   "outputs": [
    {
     "data": {
      "text/plain": [
       "(89, 11)"
      ]
     },
     "execution_count": 6,
     "metadata": {},
     "output_type": "execute_result"
    }
   ],
   "source": [
    "df.shape"
   ]
  },
  {
   "cell_type": "code",
   "execution_count": 7,
   "metadata": {},
   "outputs": [
    {
     "data": {
      "text/html": [
       "<div>\n",
       "<style scoped>\n",
       "    .dataframe tbody tr th:only-of-type {\n",
       "        vertical-align: middle;\n",
       "    }\n",
       "\n",
       "    .dataframe tbody tr th {\n",
       "        vertical-align: top;\n",
       "    }\n",
       "\n",
       "    .dataframe thead th {\n",
       "        text-align: right;\n",
       "    }\n",
       "</style>\n",
       "<table border=\"1\" class=\"dataframe\">\n",
       "  <thead>\n",
       "    <tr style=\"text-align: right;\">\n",
       "      <th></th>\n",
       "      <th>cluster_lon</th>\n",
       "      <th>cluster_lat</th>\n",
       "      <th>electricityvalue</th>\n",
       "      <th>elevationvalue</th>\n",
       "      <th>pop15_49</th>\n",
       "      <th>pop0_5</th>\n",
       "      <th>mblphne</th>\n",
       "      <th>nightlights</th>\n",
       "      <th>agvalue</th>\n",
       "      <th>consumervalue</th>\n",
       "      <th>Noofprotest</th>\n",
       "    </tr>\n",
       "  </thead>\n",
       "  <tbody>\n",
       "    <tr>\n",
       "      <th>0</th>\n",
       "      <td>85.36958</td>\n",
       "      <td>28.128750</td>\n",
       "      <td>0.918342</td>\n",
       "      <td>2541.4050</td>\n",
       "      <td>13.999999</td>\n",
       "      <td>2.000000</td>\n",
       "      <td>0.898354</td>\n",
       "      <td>0.0</td>\n",
       "      <td>0.951350</td>\n",
       "      <td>0.274684</td>\n",
       "      <td>3.0</td>\n",
       "    </tr>\n",
       "    <tr>\n",
       "      <th>1</th>\n",
       "      <td>85.30292</td>\n",
       "      <td>28.112083</td>\n",
       "      <td>0.969418</td>\n",
       "      <td>1878.7622</td>\n",
       "      <td>98.999990</td>\n",
       "      <td>16.999998</td>\n",
       "      <td>0.932959</td>\n",
       "      <td>0.0</td>\n",
       "      <td>0.870661</td>\n",
       "      <td>0.347699</td>\n",
       "      <td>26.0</td>\n",
       "    </tr>\n",
       "    <tr>\n",
       "      <th>2</th>\n",
       "      <td>84.61958</td>\n",
       "      <td>28.045416</td>\n",
       "      <td>0.978356</td>\n",
       "      <td>549.6891</td>\n",
       "      <td>67.000000</td>\n",
       "      <td>22.000000</td>\n",
       "      <td>0.978866</td>\n",
       "      <td>0.0</td>\n",
       "      <td>0.964586</td>\n",
       "      <td>0.574801</td>\n",
       "      <td>4.0</td>\n",
       "    </tr>\n",
       "    <tr>\n",
       "      <th>3</th>\n",
       "      <td>85.31958</td>\n",
       "      <td>28.012083</td>\n",
       "      <td>0.950552</td>\n",
       "      <td>2218.0757</td>\n",
       "      <td>31.000000</td>\n",
       "      <td>6.000000</td>\n",
       "      <td>0.915202</td>\n",
       "      <td>0.0</td>\n",
       "      <td>0.963398</td>\n",
       "      <td>0.284488</td>\n",
       "      <td>8.0</td>\n",
       "    </tr>\n",
       "    <tr>\n",
       "      <th>4</th>\n",
       "      <td>84.61958</td>\n",
       "      <td>28.003750</td>\n",
       "      <td>0.976045</td>\n",
       "      <td>1102.6179</td>\n",
       "      <td>49.999996</td>\n",
       "      <td>17.999998</td>\n",
       "      <td>0.970916</td>\n",
       "      <td>0.0</td>\n",
       "      <td>0.674828</td>\n",
       "      <td>0.659709</td>\n",
       "      <td>1379.0</td>\n",
       "    </tr>\n",
       "  </tbody>\n",
       "</table>\n",
       "</div>"
      ],
      "text/plain": [
       "   cluster_lon  cluster_lat  electricityvalue  elevationvalue   pop15_49  \\\n",
       "0     85.36958    28.128750          0.918342       2541.4050  13.999999   \n",
       "1     85.30292    28.112083          0.969418       1878.7622  98.999990   \n",
       "2     84.61958    28.045416          0.978356        549.6891  67.000000   \n",
       "3     85.31958    28.012083          0.950552       2218.0757  31.000000   \n",
       "4     84.61958    28.003750          0.976045       1102.6179  49.999996   \n",
       "\n",
       "      pop0_5   mblphne  nightlights   agvalue  consumervalue  Noofprotest  \n",
       "0   2.000000  0.898354          0.0  0.951350       0.274684          3.0  \n",
       "1  16.999998  0.932959          0.0  0.870661       0.347699         26.0  \n",
       "2  22.000000  0.978866          0.0  0.964586       0.574801          4.0  \n",
       "3   6.000000  0.915202          0.0  0.963398       0.284488          8.0  \n",
       "4  17.999998  0.970916          0.0  0.674828       0.659709       1379.0  "
      ]
     },
     "execution_count": 7,
     "metadata": {},
     "output_type": "execute_result"
    }
   ],
   "source": [
    "df.head()"
   ]
  },
  {
   "cell_type": "code",
   "execution_count": 8,
   "metadata": {},
   "outputs": [
    {
     "data": {
      "text/html": [
       "<div>\n",
       "<style scoped>\n",
       "    .dataframe tbody tr th:only-of-type {\n",
       "        vertical-align: middle;\n",
       "    }\n",
       "\n",
       "    .dataframe tbody tr th {\n",
       "        vertical-align: top;\n",
       "    }\n",
       "\n",
       "    .dataframe thead th {\n",
       "        text-align: right;\n",
       "    }\n",
       "</style>\n",
       "<table border=\"1\" class=\"dataframe\">\n",
       "  <thead>\n",
       "    <tr style=\"text-align: right;\">\n",
       "      <th></th>\n",
       "      <th>cluster_lon</th>\n",
       "      <th>cluster_lat</th>\n",
       "      <th>electricityvalue</th>\n",
       "      <th>elevationvalue</th>\n",
       "      <th>pop15_49</th>\n",
       "      <th>pop0_5</th>\n",
       "      <th>mblphne</th>\n",
       "      <th>nightlights</th>\n",
       "      <th>agvalue</th>\n",
       "      <th>consumervalue</th>\n",
       "      <th>Noofprotest</th>\n",
       "    </tr>\n",
       "  </thead>\n",
       "  <tbody>\n",
       "    <tr>\n",
       "      <th>cluster_lon</th>\n",
       "      <td>1.000000</td>\n",
       "      <td>-0.178973</td>\n",
       "      <td>0.087289</td>\n",
       "      <td>0.199610</td>\n",
       "      <td>0.057812</td>\n",
       "      <td>0.048811</td>\n",
       "      <td>0.075979</td>\n",
       "      <td>0.061264</td>\n",
       "      <td>-0.070897</td>\n",
       "      <td>-0.114659</td>\n",
       "      <td>-0.043339</td>\n",
       "    </tr>\n",
       "    <tr>\n",
       "      <th>cluster_lat</th>\n",
       "      <td>-0.178973</td>\n",
       "      <td>1.000000</td>\n",
       "      <td>0.144543</td>\n",
       "      <td>0.731424</td>\n",
       "      <td>0.119378</td>\n",
       "      <td>0.101708</td>\n",
       "      <td>0.051127</td>\n",
       "      <td>0.091057</td>\n",
       "      <td>0.178635</td>\n",
       "      <td>0.206955</td>\n",
       "      <td>0.052296</td>\n",
       "    </tr>\n",
       "    <tr>\n",
       "      <th>electricityvalue</th>\n",
       "      <td>0.087289</td>\n",
       "      <td>0.144543</td>\n",
       "      <td>1.000000</td>\n",
       "      <td>0.134992</td>\n",
       "      <td>0.141114</td>\n",
       "      <td>0.146576</td>\n",
       "      <td>0.952155</td>\n",
       "      <td>0.154885</td>\n",
       "      <td>-0.132522</td>\n",
       "      <td>0.069862</td>\n",
       "      <td>0.066428</td>\n",
       "    </tr>\n",
       "    <tr>\n",
       "      <th>elevationvalue</th>\n",
       "      <td>0.199610</td>\n",
       "      <td>0.731424</td>\n",
       "      <td>0.134992</td>\n",
       "      <td>1.000000</td>\n",
       "      <td>0.110396</td>\n",
       "      <td>0.093781</td>\n",
       "      <td>0.039181</td>\n",
       "      <td>0.104807</td>\n",
       "      <td>0.139703</td>\n",
       "      <td>0.137938</td>\n",
       "      <td>0.012830</td>\n",
       "    </tr>\n",
       "    <tr>\n",
       "      <th>pop15_49</th>\n",
       "      <td>0.057812</td>\n",
       "      <td>0.119378</td>\n",
       "      <td>0.141114</td>\n",
       "      <td>0.110396</td>\n",
       "      <td>1.000000</td>\n",
       "      <td>0.995228</td>\n",
       "      <td>0.135806</td>\n",
       "      <td>0.838638</td>\n",
       "      <td>-0.566379</td>\n",
       "      <td>0.463398</td>\n",
       "      <td>0.348231</td>\n",
       "    </tr>\n",
       "    <tr>\n",
       "      <th>pop0_5</th>\n",
       "      <td>0.048811</td>\n",
       "      <td>0.101708</td>\n",
       "      <td>0.146576</td>\n",
       "      <td>0.093781</td>\n",
       "      <td>0.995228</td>\n",
       "      <td>1.000000</td>\n",
       "      <td>0.143916</td>\n",
       "      <td>0.855590</td>\n",
       "      <td>-0.593166</td>\n",
       "      <td>0.481202</td>\n",
       "      <td>0.346949</td>\n",
       "    </tr>\n",
       "    <tr>\n",
       "      <th>mblphne</th>\n",
       "      <td>0.075979</td>\n",
       "      <td>0.051127</td>\n",
       "      <td>0.952155</td>\n",
       "      <td>0.039181</td>\n",
       "      <td>0.135806</td>\n",
       "      <td>0.143916</td>\n",
       "      <td>1.000000</td>\n",
       "      <td>0.161541</td>\n",
       "      <td>-0.177838</td>\n",
       "      <td>0.082950</td>\n",
       "      <td>0.089015</td>\n",
       "    </tr>\n",
       "    <tr>\n",
       "      <th>nightlights</th>\n",
       "      <td>0.061264</td>\n",
       "      <td>0.091057</td>\n",
       "      <td>0.154885</td>\n",
       "      <td>0.104807</td>\n",
       "      <td>0.838638</td>\n",
       "      <td>0.855590</td>\n",
       "      <td>0.161541</td>\n",
       "      <td>1.000000</td>\n",
       "      <td>-0.768275</td>\n",
       "      <td>0.676316</td>\n",
       "      <td>0.447436</td>\n",
       "    </tr>\n",
       "    <tr>\n",
       "      <th>agvalue</th>\n",
       "      <td>-0.070897</td>\n",
       "      <td>0.178635</td>\n",
       "      <td>-0.132522</td>\n",
       "      <td>0.139703</td>\n",
       "      <td>-0.566379</td>\n",
       "      <td>-0.593166</td>\n",
       "      <td>-0.177838</td>\n",
       "      <td>-0.768275</td>\n",
       "      <td>1.000000</td>\n",
       "      <td>-0.725268</td>\n",
       "      <td>-0.302825</td>\n",
       "    </tr>\n",
       "    <tr>\n",
       "      <th>consumervalue</th>\n",
       "      <td>-0.114659</td>\n",
       "      <td>0.206955</td>\n",
       "      <td>0.069862</td>\n",
       "      <td>0.137938</td>\n",
       "      <td>0.463398</td>\n",
       "      <td>0.481202</td>\n",
       "      <td>0.082950</td>\n",
       "      <td>0.676316</td>\n",
       "      <td>-0.725268</td>\n",
       "      <td>1.000000</td>\n",
       "      <td>0.236460</td>\n",
       "    </tr>\n",
       "    <tr>\n",
       "      <th>Noofprotest</th>\n",
       "      <td>-0.043339</td>\n",
       "      <td>0.052296</td>\n",
       "      <td>0.066428</td>\n",
       "      <td>0.012830</td>\n",
       "      <td>0.348231</td>\n",
       "      <td>0.346949</td>\n",
       "      <td>0.089015</td>\n",
       "      <td>0.447436</td>\n",
       "      <td>-0.302825</td>\n",
       "      <td>0.236460</td>\n",
       "      <td>1.000000</td>\n",
       "    </tr>\n",
       "  </tbody>\n",
       "</table>\n",
       "</div>"
      ],
      "text/plain": [
       "                  cluster_lon  cluster_lat  electricityvalue  elevationvalue  \\\n",
       "cluster_lon          1.000000    -0.178973          0.087289        0.199610   \n",
       "cluster_lat         -0.178973     1.000000          0.144543        0.731424   \n",
       "electricityvalue     0.087289     0.144543          1.000000        0.134992   \n",
       "elevationvalue       0.199610     0.731424          0.134992        1.000000   \n",
       "pop15_49             0.057812     0.119378          0.141114        0.110396   \n",
       "pop0_5               0.048811     0.101708          0.146576        0.093781   \n",
       "mblphne              0.075979     0.051127          0.952155        0.039181   \n",
       "nightlights          0.061264     0.091057          0.154885        0.104807   \n",
       "agvalue             -0.070897     0.178635         -0.132522        0.139703   \n",
       "consumervalue       -0.114659     0.206955          0.069862        0.137938   \n",
       "Noofprotest         -0.043339     0.052296          0.066428        0.012830   \n",
       "\n",
       "                  pop15_49    pop0_5   mblphne  nightlights   agvalue  \\\n",
       "cluster_lon       0.057812  0.048811  0.075979     0.061264 -0.070897   \n",
       "cluster_lat       0.119378  0.101708  0.051127     0.091057  0.178635   \n",
       "electricityvalue  0.141114  0.146576  0.952155     0.154885 -0.132522   \n",
       "elevationvalue    0.110396  0.093781  0.039181     0.104807  0.139703   \n",
       "pop15_49          1.000000  0.995228  0.135806     0.838638 -0.566379   \n",
       "pop0_5            0.995228  1.000000  0.143916     0.855590 -0.593166   \n",
       "mblphne           0.135806  0.143916  1.000000     0.161541 -0.177838   \n",
       "nightlights       0.838638  0.855590  0.161541     1.000000 -0.768275   \n",
       "agvalue          -0.566379 -0.593166 -0.177838    -0.768275  1.000000   \n",
       "consumervalue     0.463398  0.481202  0.082950     0.676316 -0.725268   \n",
       "Noofprotest       0.348231  0.346949  0.089015     0.447436 -0.302825   \n",
       "\n",
       "                  consumervalue  Noofprotest  \n",
       "cluster_lon           -0.114659    -0.043339  \n",
       "cluster_lat            0.206955     0.052296  \n",
       "electricityvalue       0.069862     0.066428  \n",
       "elevationvalue         0.137938     0.012830  \n",
       "pop15_49               0.463398     0.348231  \n",
       "pop0_5                 0.481202     0.346949  \n",
       "mblphne                0.082950     0.089015  \n",
       "nightlights            0.676316     0.447436  \n",
       "agvalue               -0.725268    -0.302825  \n",
       "consumervalue          1.000000     0.236460  \n",
       "Noofprotest            0.236460     1.000000  "
      ]
     },
     "execution_count": 8,
     "metadata": {},
     "output_type": "execute_result"
    }
   ],
   "source": [
    "df.corr()"
   ]
  },
  {
   "cell_type": "code",
   "execution_count": 9,
   "metadata": {},
   "outputs": [
    {
     "data": {
      "image/png": "[encoded data removed]",
      "text/plain": [
       "<Figure size 1440x720 with 2 Axes>"
      ]
     },
     "metadata": {
      "needs_background": "light"
     },
     "output_type": "display_data"
    }
   ],
   "source": [
    "fig, ax = plt.subplots(figsize=(20,10))         \n",
    "# Imbalanced DataFrame Correlation\n",
    "corr = df.corr()\n",
    "sns.heatmap(corr, cmap='YlGnBu', annot_kws={'size':30}, ax=ax)\n",
    "ax.set_title(\" Correlation Matrix\", fontsize=14)\n",
    "plt.show()"
   ]
  },
  {
   "cell_type": "code",
   "execution_count": 9,
   "metadata": {},
   "outputs": [
    {
     "name": "stderr",
     "output_type": "stream",
     "text": [
      "/home/samal/poudelnish/.conda/envs/aanisha/lib/python3.7/site-packages/seaborn/distributions.py:2619: FutureWarning: `distplot` is a deprecated function and will be removed in a future version. Please adapt your code to use either `displot` (a figure-level function with similar flexibility) or `histplot` (an axes-level function for histograms).\n",
      "  warnings.warn(msg, FutureWarning)\n"
     ]
    },
    {
     "data": {
      "text/plain": [
       "<AxesSubplot:xlabel='nightlights', ylabel='Density'>"
      ]
     },
     "execution_count": 9,
     "metadata": {},
     "output_type": "execute_result"
    },
    {
     "data": {
      "image/png": "[encoded data removed]",
      "text/plain": [
       "<Figure size 432x288 with 1 Axes>"
      ]
     },
     "metadata": {
      "needs_background": "light"
     },
     "output_type": "display_data"
    }
   ],
   "source": [
    "import seaborn as sns\n",
    "\n",
    "sns.distplot(df[\"nightlights\"])"
   ]
  },
  {
   "cell_type": "code",
   "execution_count": 10,
   "metadata": {},
   "outputs": [
    {
     "data": {
      "text/plain": [
       "(Index(['cluster_lon', 'cluster_lat', 'electricityvalue', 'elevationvalue',\n",
       "        'pop15_49', 'pop0_5', 'mblphne', 'nightlights', 'agvalue',\n",
       "        'consumervalue', 'Noofprotest'],\n",
       "       dtype='object'),\n",
       " (89, 11))"
      ]
     },
     "execution_count": 10,
     "metadata": {},
     "output_type": "execute_result"
    }
   ],
   "source": [
    "df.columns,df.shape"
   ]
  },
  {
   "cell_type": "code",
   "execution_count": 11,
   "metadata": {},
   "outputs": [],
   "source": [
    "#df.drop(columns={'image_name', 'image_lat', 'image_lon','agvalue', 'elevationvalue', 'mblphne', 'pop15_49',\n",
    "#       'electricityvalue', 'pop0_5', 'nightlights','consumer_bin', 'is_train'},inplace=True)"
   ]
  },
  {
   "cell_type": "code",
   "execution_count": 12,
   "metadata": {},
   "outputs": [
    {
     "data": {
      "text/html": [
       "<div>\n",
       "<style scoped>\n",
       "    .dataframe tbody tr th:only-of-type {\n",
       "        vertical-align: middle;\n",
       "    }\n",
       "\n",
       "    .dataframe tbody tr th {\n",
       "        vertical-align: top;\n",
       "    }\n",
       "\n",
       "    .dataframe thead th {\n",
       "        text-align: right;\n",
       "    }\n",
       "</style>\n",
       "<table border=\"1\" class=\"dataframe\">\n",
       "  <thead>\n",
       "    <tr style=\"text-align: right;\">\n",
       "      <th></th>\n",
       "      <th>cluster_lon</th>\n",
       "      <th>cluster_lat</th>\n",
       "      <th>electricityvalue</th>\n",
       "      <th>elevationvalue</th>\n",
       "      <th>pop15_49</th>\n",
       "      <th>pop0_5</th>\n",
       "      <th>mblphne</th>\n",
       "      <th>nightlights</th>\n",
       "      <th>agvalue</th>\n",
       "      <th>consumervalue</th>\n",
       "      <th>Noofprotest</th>\n",
       "    </tr>\n",
       "  </thead>\n",
       "  <tbody>\n",
       "    <tr>\n",
       "      <th>count</th>\n",
       "      <td>89.000000</td>\n",
       "      <td>89.000000</td>\n",
       "      <td>89.000000</td>\n",
       "      <td>89.000000</td>\n",
       "      <td>89.000000</td>\n",
       "      <td>89.000000</td>\n",
       "      <td>89.000000</td>\n",
       "      <td>89.000000</td>\n",
       "      <td>89.000000</td>\n",
       "      <td>89.000000</td>\n",
       "      <td>89.000000</td>\n",
       "    </tr>\n",
       "    <tr>\n",
       "      <th>mean</th>\n",
       "      <td>85.277261</td>\n",
       "      <td>27.584649</td>\n",
       "      <td>0.949801</td>\n",
       "      <td>1099.611175</td>\n",
       "      <td>1859.337122</td>\n",
       "      <td>253.662928</td>\n",
       "      <td>0.950683</td>\n",
       "      <td>10.784730</td>\n",
       "      <td>0.714348</td>\n",
       "      <td>0.643054</td>\n",
       "      <td>226.865169</td>\n",
       "    </tr>\n",
       "    <tr>\n",
       "      <th>std</th>\n",
       "      <td>0.263461</td>\n",
       "      <td>0.314472</td>\n",
       "      <td>0.107247</td>\n",
       "      <td>655.506163</td>\n",
       "      <td>4234.582861</td>\n",
       "      <td>536.755445</td>\n",
       "      <td>0.105679</td>\n",
       "      <td>16.131189</td>\n",
       "      <td>0.166856</td>\n",
       "      <td>0.221204</td>\n",
       "      <td>693.413480</td>\n",
       "    </tr>\n",
       "    <tr>\n",
       "      <th>min</th>\n",
       "      <td>84.619580</td>\n",
       "      <td>26.837084</td>\n",
       "      <td>0.000000</td>\n",
       "      <td>52.422500</td>\n",
       "      <td>13.999999</td>\n",
       "      <td>2.000000</td>\n",
       "      <td>0.000000</td>\n",
       "      <td>0.000000</td>\n",
       "      <td>0.411820</td>\n",
       "      <td>0.090941</td>\n",
       "      <td>1.000000</td>\n",
       "    </tr>\n",
       "    <tr>\n",
       "      <th>25%</th>\n",
       "      <td>85.152916</td>\n",
       "      <td>27.537083</td>\n",
       "      <td>0.946223</td>\n",
       "      <td>459.999820</td>\n",
       "      <td>88.000000</td>\n",
       "      <td>17.999998</td>\n",
       "      <td>0.949893</td>\n",
       "      <td>0.000000</td>\n",
       "      <td>0.603601</td>\n",
       "      <td>0.460698</td>\n",
       "      <td>12.000000</td>\n",
       "    </tr>\n",
       "    <tr>\n",
       "      <th>50%</th>\n",
       "      <td>85.319580</td>\n",
       "      <td>27.662083</td>\n",
       "      <td>0.968325</td>\n",
       "      <td>1318.371800</td>\n",
       "      <td>207.000000</td>\n",
       "      <td>34.000004</td>\n",
       "      <td>0.964112</td>\n",
       "      <td>5.292453</td>\n",
       "      <td>0.715111</td>\n",
       "      <td>0.671920</td>\n",
       "      <td>31.000000</td>\n",
       "    </tr>\n",
       "    <tr>\n",
       "      <th>75%</th>\n",
       "      <td>85.394585</td>\n",
       "      <td>27.762083</td>\n",
       "      <td>0.985674</td>\n",
       "      <td>1452.603300</td>\n",
       "      <td>1281.999900</td>\n",
       "      <td>196.000000</td>\n",
       "      <td>0.980196</td>\n",
       "      <td>13.407218</td>\n",
       "      <td>0.870661</td>\n",
       "      <td>0.843840</td>\n",
       "      <td>111.000000</td>\n",
       "    </tr>\n",
       "    <tr>\n",
       "      <th>max</th>\n",
       "      <td>85.836250</td>\n",
       "      <td>28.128750</td>\n",
       "      <td>1.000000</td>\n",
       "      <td>2541.405000</td>\n",
       "      <td>24019.000000</td>\n",
       "      <td>2978.000000</td>\n",
       "      <td>0.999553</td>\n",
       "      <td>59.707546</td>\n",
       "      <td>0.983011</td>\n",
       "      <td>0.955629</td>\n",
       "      <td>5789.000000</td>\n",
       "    </tr>\n",
       "  </tbody>\n",
       "</table>\n",
       "</div>"
      ],
      "text/plain": [
       "       cluster_lon  cluster_lat  electricityvalue  elevationvalue  \\\n",
       "count    89.000000    89.000000         89.000000       89.000000   \n",
       "mean     85.277261    27.584649          0.949801     1099.611175   \n",
       "std       0.263461     0.314472          0.107247      655.506163   \n",
       "min      84.619580    26.837084          0.000000       52.422500   \n",
       "25%      85.152916    27.537083          0.946223      459.999820   \n",
       "50%      85.319580    27.662083          0.968325     1318.371800   \n",
       "75%      85.394585    27.762083          0.985674     1452.603300   \n",
       "max      85.836250    28.128750          1.000000     2541.405000   \n",
       "\n",
       "           pop15_49       pop0_5    mblphne  nightlights    agvalue  \\\n",
       "count     89.000000    89.000000  89.000000    89.000000  89.000000   \n",
       "mean    1859.337122   253.662928   0.950683    10.784730   0.714348   \n",
       "std     4234.582861   536.755445   0.105679    16.131189   0.166856   \n",
       "min       13.999999     2.000000   0.000000     0.000000   0.411820   \n",
       "25%       88.000000    17.999998   0.949893     0.000000   0.603601   \n",
       "50%      207.000000    34.000004   0.964112     5.292453   0.715111   \n",
       "75%     1281.999900   196.000000   0.980196    13.407218   0.870661   \n",
       "max    24019.000000  2978.000000   0.999553    59.707546   0.983011   \n",
       "\n",
       "       consumervalue  Noofprotest  \n",
       "count      89.000000    89.000000  \n",
       "mean        0.643054   226.865169  \n",
       "std         0.221204   693.413480  \n",
       "min         0.090941     1.000000  \n",
       "25%         0.460698    12.000000  \n",
       "50%         0.671920    31.000000  \n",
       "75%         0.843840   111.000000  \n",
       "max         0.955629  5789.000000  "
      ]
     },
     "execution_count": 12,
     "metadata": {},
     "output_type": "execute_result"
    }
   ],
   "source": [
    "df.describe()"
   ]
  },
  {
   "cell_type": "code",
   "execution_count": 13,
   "metadata": {},
   "outputs": [
    {
     "data": {
      "text/plain": [
       "array([[<AxesSubplot:title={'center':'cluster_lon'}>,\n",
       "        <AxesSubplot:title={'center':'cluster_lat'}>,\n",
       "        <AxesSubplot:title={'center':'electricityvalue'}>],\n",
       "       [<AxesSubplot:title={'center':'elevationvalue'}>,\n",
       "        <AxesSubplot:title={'center':'pop15_49'}>,\n",
       "        <AxesSubplot:title={'center':'pop0_5'}>],\n",
       "       [<AxesSubplot:title={'center':'mblphne'}>,\n",
       "        <AxesSubplot:title={'center':'nightlights'}>,\n",
       "        <AxesSubplot:title={'center':'agvalue'}>],\n",
       "       [<AxesSubplot:title={'center':'consumervalue'}>,\n",
       "        <AxesSubplot:title={'center':'Noofprotest'}>, <AxesSubplot:>]],\n",
       "      dtype=object)"
      ]
     },
     "execution_count": 13,
     "metadata": {},
     "output_type": "execute_result"
    },
    {
     "data": {
      "image/png": "[encoded data removed]",
      "text/plain": [
       "<Figure size 432x288 with 12 Axes>"
      ]
     },
     "metadata": {
      "needs_background": "light"
     },
     "output_type": "display_data"
    }
   ],
   "source": [
    "import seaborn as sns\n",
    "df.hist()"
   ]
  },
  {
   "cell_type": "markdown",
   "metadata": {},
   "source": [
    "# Predict Protest"
   ]
  },
  {
   "cell_type": "code",
   "execution_count": 10,
   "metadata": {},
   "outputs": [],
   "source": [
    "def load_country(country):\n",
    "    '''\n",
    "    Organizes the country's dataframe so that each index corresponds to the index in the cluster features\n",
    "    Returns the cluster features and the organized dataframe\n",
    "    '''\n",
    "   # country_processed_dir = os.path.join(COUNTRIES_DIR, 'processed')\n",
    "    country_results_dir = os.path.join(RESULTS_DIR, country, 'cnn')\n",
    "    x = np.load(os.path.join(country_results_dir, 'nighttrainvggcluster_feats.npy'))\n",
    "    cluster_list = pickle.load(open(os.path.join(country_results_dir, 'nighttrainvggcluster_order.pkl'), 'rb'))\n",
    "    cluster_list = pd.DataFrame.from_records(cluster_list, columns=['cluster_lat', 'cluster_lon'])\n",
    "    cluster_list['feat_index'] = np.arange(len(cluster_list))\n",
    "    \n",
    "    df_clusters = pd.read_csv(os.path.join(COUNTRIES_DIR,'Apr11cleaned.csv'))\n",
    "    #assert len(df_clusters) == len(cluster_list)\n",
    "\n",
    "    df = merge_on_lat_lon(df_clusters, cluster_list, keys=['cluster_lat', 'cluster_lon'])\n",
    "    assert len(df) == len(cluster_list)\n",
    "   # assert len(df) == len(df_clusters) == len(cluster_list)\n",
    "    df.sort_values('feat_index', ascending=True, inplace=True)\n",
    "    return x, df"
   ]
  },
  {
   "cell_type": "code",
   "execution_count": 11,
   "metadata": {},
   "outputs": [],
   "source": [
    "x_mw, df_mw = load_country('nepal_2018')"
   ]
  },
  {
   "cell_type": "code",
   "execution_count": 12,
   "metadata": {},
   "outputs": [
    {
     "data": {
      "text/plain": [
       "numpy.ndarray"
      ]
     },
     "execution_count": 12,
     "metadata": {},
     "output_type": "execute_result"
    }
   ],
   "source": [
    "type(x_mw)"
   ]
  },
  {
   "cell_type": "code",
   "execution_count": 13,
   "metadata": {},
   "outputs": [],
   "source": [
    "df_mw['Noofprotest'] = df_mw['Noofprotest'].replace([0.00000],0.00002)"
   ]
  },
  {
   "cell_type": "code",
   "execution_count": 14,
   "metadata": {},
   "outputs": [
    {
     "data": {
      "text/html": [
       "<div>\n",
       "<style scoped>\n",
       "    .dataframe tbody tr th:only-of-type {\n",
       "        vertical-align: middle;\n",
       "    }\n",
       "\n",
       "    .dataframe tbody tr th {\n",
       "        vertical-align: top;\n",
       "    }\n",
       "\n",
       "    .dataframe thead th {\n",
       "        text-align: right;\n",
       "    }\n",
       "</style>\n",
       "<table border=\"1\" class=\"dataframe\">\n",
       "  <thead>\n",
       "    <tr style=\"text-align: right;\">\n",
       "      <th></th>\n",
       "      <th>cluster_lon</th>\n",
       "      <th>cluster_lat</th>\n",
       "      <th>electricityvalue</th>\n",
       "      <th>elevationvalue</th>\n",
       "      <th>pop15_49</th>\n",
       "      <th>pop0_5</th>\n",
       "      <th>mblphne</th>\n",
       "      <th>nightlights</th>\n",
       "      <th>agvalue</th>\n",
       "      <th>consumervalue</th>\n",
       "      <th>Noofprotest</th>\n",
       "      <th>feat_index</th>\n",
       "    </tr>\n",
       "  </thead>\n",
       "  <tbody>\n",
       "    <tr>\n",
       "      <th>88</th>\n",
       "      <td>85.561250</td>\n",
       "      <td>26.837084</td>\n",
       "      <td>0.965833</td>\n",
       "      <td>52.422500</td>\n",
       "      <td>330.00000</td>\n",
       "      <td>93.000000</td>\n",
       "      <td>0.980307</td>\n",
       "      <td>6.092529</td>\n",
       "      <td>0.613839</td>\n",
       "      <td>0.649576</td>\n",
       "      <td>24.0</td>\n",
       "      <td>0</td>\n",
       "    </tr>\n",
       "    <tr>\n",
       "      <th>87</th>\n",
       "      <td>85.777916</td>\n",
       "      <td>26.853750</td>\n",
       "      <td>0.884982</td>\n",
       "      <td>97.133255</td>\n",
       "      <td>207.00000</td>\n",
       "      <td>38.000000</td>\n",
       "      <td>0.967104</td>\n",
       "      <td>0.000000</td>\n",
       "      <td>0.737086</td>\n",
       "      <td>0.132762</td>\n",
       "      <td>1.0</td>\n",
       "      <td>1</td>\n",
       "    </tr>\n",
       "    <tr>\n",
       "      <th>86</th>\n",
       "      <td>85.836250</td>\n",
       "      <td>26.903750</td>\n",
       "      <td>0.968001</td>\n",
       "      <td>124.652000</td>\n",
       "      <td>145.00002</td>\n",
       "      <td>28.000002</td>\n",
       "      <td>0.956075</td>\n",
       "      <td>5.357459</td>\n",
       "      <td>0.716957</td>\n",
       "      <td>0.291982</td>\n",
       "      <td>267.0</td>\n",
       "      <td>2</td>\n",
       "    </tr>\n",
       "    <tr>\n",
       "      <th>85</th>\n",
       "      <td>85.802920</td>\n",
       "      <td>26.937084</td>\n",
       "      <td>0.946466</td>\n",
       "      <td>138.007450</td>\n",
       "      <td>185.00002</td>\n",
       "      <td>34.000004</td>\n",
       "      <td>0.957765</td>\n",
       "      <td>4.400094</td>\n",
       "      <td>0.768728</td>\n",
       "      <td>0.403031</td>\n",
       "      <td>30.0</td>\n",
       "      <td>3</td>\n",
       "    </tr>\n",
       "    <tr>\n",
       "      <th>84</th>\n",
       "      <td>85.802920</td>\n",
       "      <td>26.953750</td>\n",
       "      <td>1.000000</td>\n",
       "      <td>144.857070</td>\n",
       "      <td>94.00000</td>\n",
       "      <td>18.000000</td>\n",
       "      <td>0.941019</td>\n",
       "      <td>2.100529</td>\n",
       "      <td>0.717316</td>\n",
       "      <td>0.376638</td>\n",
       "      <td>1.0</td>\n",
       "      <td>4</td>\n",
       "    </tr>\n",
       "  </tbody>\n",
       "</table>\n",
       "</div>"
      ],
      "text/plain": [
       "    cluster_lon  cluster_lat  electricityvalue  elevationvalue   pop15_49  \\\n",
       "88    85.561250    26.837084          0.965833       52.422500  330.00000   \n",
       "87    85.777916    26.853750          0.884982       97.133255  207.00000   \n",
       "86    85.836250    26.903750          0.968001      124.652000  145.00002   \n",
       "85    85.802920    26.937084          0.946466      138.007450  185.00002   \n",
       "84    85.802920    26.953750          1.000000      144.857070   94.00000   \n",
       "\n",
       "       pop0_5   mblphne  nightlights   agvalue  consumervalue  Noofprotest  \\\n",
       "88  93.000000  0.980307     6.092529  0.613839       0.649576         24.0   \n",
       "87  38.000000  0.967104     0.000000  0.737086       0.132762          1.0   \n",
       "86  28.000002  0.956075     5.357459  0.716957       0.291982        267.0   \n",
       "85  34.000004  0.957765     4.400094  0.768728       0.403031         30.0   \n",
       "84  18.000000  0.941019     2.100529  0.717316       0.376638          1.0   \n",
       "\n",
       "    feat_index  \n",
       "88           0  \n",
       "87           1  \n",
       "86           2  \n",
       "85           3  \n",
       "84           4  "
      ]
     },
     "execution_count": 14,
     "metadata": {},
     "output_type": "execute_result"
    }
   ],
   "source": [
    "df_mw.head()"
   ]
  },
  {
   "cell_type": "code",
   "execution_count": 15,
   "metadata": {},
   "outputs": [
    {
     "data": {
      "text/plain": [
       "Index(['cluster_lon', 'cluster_lat', 'electricityvalue', 'elevationvalue',\n",
       "       'pop15_49', 'pop0_5', 'mblphne', 'nightlights', 'agvalue',\n",
       "       'consumervalue', 'Noofprotest', 'feat_index'],\n",
       "      dtype='object')"
      ]
     },
     "execution_count": 15,
     "metadata": {},
     "output_type": "execute_result"
    }
   ],
   "source": [
    "df_mw.columns"
   ]
  },
  {
   "cell_type": "code",
   "execution_count": 16,
   "metadata": {},
   "outputs": [
    {
     "data": {
      "text/plain": [
       "(89, 4096)"
      ]
     },
     "execution_count": 16,
     "metadata": {},
     "output_type": "execute_result"
    }
   ],
   "source": [
    "x_mw.shape"
   ]
  },
  {
   "cell_type": "code",
   "execution_count": 17,
   "metadata": {},
   "outputs": [
    {
     "data": {
      "text/plain": [
       "((89, 4096), (89, 12))"
      ]
     },
     "execution_count": 17,
     "metadata": {},
     "output_type": "execute_result"
    }
   ],
   "source": [
    "x_mw.shape,df_mw.shape"
   ]
  },
  {
   "cell_type": "code",
   "execution_count": 18,
   "metadata": {},
   "outputs": [
    {
     "data": {
      "text/html": [
       "<div>\n",
       "<style scoped>\n",
       "    .dataframe tbody tr th:only-of-type {\n",
       "        vertical-align: middle;\n",
       "    }\n",
       "\n",
       "    .dataframe tbody tr th {\n",
       "        vertical-align: top;\n",
       "    }\n",
       "\n",
       "    .dataframe thead th {\n",
       "        text-align: right;\n",
       "    }\n",
       "</style>\n",
       "<table border=\"1\" class=\"dataframe\">\n",
       "  <thead>\n",
       "    <tr style=\"text-align: right;\">\n",
       "      <th></th>\n",
       "      <th>cluster_lon</th>\n",
       "      <th>cluster_lat</th>\n",
       "      <th>electricityvalue</th>\n",
       "      <th>elevationvalue</th>\n",
       "      <th>pop15_49</th>\n",
       "      <th>pop0_5</th>\n",
       "      <th>mblphne</th>\n",
       "      <th>nightlights</th>\n",
       "      <th>agvalue</th>\n",
       "      <th>consumervalue</th>\n",
       "      <th>Noofprotest</th>\n",
       "      <th>feat_index</th>\n",
       "    </tr>\n",
       "  </thead>\n",
       "  <tbody>\n",
       "    <tr>\n",
       "      <th>count</th>\n",
       "      <td>89.000000</td>\n",
       "      <td>89.000000</td>\n",
       "      <td>89.000000</td>\n",
       "      <td>89.000000</td>\n",
       "      <td>89.000000</td>\n",
       "      <td>89.000000</td>\n",
       "      <td>89.000000</td>\n",
       "      <td>89.000000</td>\n",
       "      <td>89.000000</td>\n",
       "      <td>89.000000</td>\n",
       "      <td>89.000000</td>\n",
       "      <td>89.000000</td>\n",
       "    </tr>\n",
       "    <tr>\n",
       "      <th>mean</th>\n",
       "      <td>85.277261</td>\n",
       "      <td>27.584649</td>\n",
       "      <td>0.949801</td>\n",
       "      <td>1099.611175</td>\n",
       "      <td>1859.337122</td>\n",
       "      <td>253.662928</td>\n",
       "      <td>0.950683</td>\n",
       "      <td>10.784730</td>\n",
       "      <td>0.714348</td>\n",
       "      <td>0.643054</td>\n",
       "      <td>226.865169</td>\n",
       "      <td>44.000000</td>\n",
       "    </tr>\n",
       "    <tr>\n",
       "      <th>std</th>\n",
       "      <td>0.263461</td>\n",
       "      <td>0.314472</td>\n",
       "      <td>0.107247</td>\n",
       "      <td>655.506163</td>\n",
       "      <td>4234.582861</td>\n",
       "      <td>536.755445</td>\n",
       "      <td>0.105679</td>\n",
       "      <td>16.131189</td>\n",
       "      <td>0.166856</td>\n",
       "      <td>0.221204</td>\n",
       "      <td>693.413480</td>\n",
       "      <td>25.836021</td>\n",
       "    </tr>\n",
       "    <tr>\n",
       "      <th>min</th>\n",
       "      <td>84.619580</td>\n",
       "      <td>26.837084</td>\n",
       "      <td>0.000000</td>\n",
       "      <td>52.422500</td>\n",
       "      <td>13.999999</td>\n",
       "      <td>2.000000</td>\n",
       "      <td>0.000000</td>\n",
       "      <td>0.000000</td>\n",
       "      <td>0.411820</td>\n",
       "      <td>0.090941</td>\n",
       "      <td>1.000000</td>\n",
       "      <td>0.000000</td>\n",
       "    </tr>\n",
       "    <tr>\n",
       "      <th>25%</th>\n",
       "      <td>85.152916</td>\n",
       "      <td>27.537083</td>\n",
       "      <td>0.946223</td>\n",
       "      <td>459.999820</td>\n",
       "      <td>88.000000</td>\n",
       "      <td>17.999998</td>\n",
       "      <td>0.949893</td>\n",
       "      <td>0.000000</td>\n",
       "      <td>0.603601</td>\n",
       "      <td>0.460698</td>\n",
       "      <td>12.000000</td>\n",
       "      <td>22.000000</td>\n",
       "    </tr>\n",
       "    <tr>\n",
       "      <th>50%</th>\n",
       "      <td>85.319580</td>\n",
       "      <td>27.662083</td>\n",
       "      <td>0.968325</td>\n",
       "      <td>1318.371800</td>\n",
       "      <td>207.000000</td>\n",
       "      <td>34.000004</td>\n",
       "      <td>0.964112</td>\n",
       "      <td>5.292453</td>\n",
       "      <td>0.715111</td>\n",
       "      <td>0.671920</td>\n",
       "      <td>31.000000</td>\n",
       "      <td>44.000000</td>\n",
       "    </tr>\n",
       "    <tr>\n",
       "      <th>75%</th>\n",
       "      <td>85.394585</td>\n",
       "      <td>27.762083</td>\n",
       "      <td>0.985674</td>\n",
       "      <td>1452.603300</td>\n",
       "      <td>1281.999900</td>\n",
       "      <td>196.000000</td>\n",
       "      <td>0.980196</td>\n",
       "      <td>13.407218</td>\n",
       "      <td>0.870661</td>\n",
       "      <td>0.843840</td>\n",
       "      <td>111.000000</td>\n",
       "      <td>66.000000</td>\n",
       "    </tr>\n",
       "    <tr>\n",
       "      <th>max</th>\n",
       "      <td>85.836250</td>\n",
       "      <td>28.128750</td>\n",
       "      <td>1.000000</td>\n",
       "      <td>2541.405000</td>\n",
       "      <td>24019.000000</td>\n",
       "      <td>2978.000000</td>\n",
       "      <td>0.999553</td>\n",
       "      <td>59.707546</td>\n",
       "      <td>0.983011</td>\n",
       "      <td>0.955629</td>\n",
       "      <td>5789.000000</td>\n",
       "      <td>88.000000</td>\n",
       "    </tr>\n",
       "  </tbody>\n",
       "</table>\n",
       "</div>"
      ],
      "text/plain": [
       "       cluster_lon  cluster_lat  electricityvalue  elevationvalue  \\\n",
       "count    89.000000    89.000000         89.000000       89.000000   \n",
       "mean     85.277261    27.584649          0.949801     1099.611175   \n",
       "std       0.263461     0.314472          0.107247      655.506163   \n",
       "min      84.619580    26.837084          0.000000       52.422500   \n",
       "25%      85.152916    27.537083          0.946223      459.999820   \n",
       "50%      85.319580    27.662083          0.968325     1318.371800   \n",
       "75%      85.394585    27.762083          0.985674     1452.603300   \n",
       "max      85.836250    28.128750          1.000000     2541.405000   \n",
       "\n",
       "           pop15_49       pop0_5    mblphne  nightlights    agvalue  \\\n",
       "count     89.000000    89.000000  89.000000    89.000000  89.000000   \n",
       "mean    1859.337122   253.662928   0.950683    10.784730   0.714348   \n",
       "std     4234.582861   536.755445   0.105679    16.131189   0.166856   \n",
       "min       13.999999     2.000000   0.000000     0.000000   0.411820   \n",
       "25%       88.000000    17.999998   0.949893     0.000000   0.603601   \n",
       "50%      207.000000    34.000004   0.964112     5.292453   0.715111   \n",
       "75%     1281.999900   196.000000   0.980196    13.407218   0.870661   \n",
       "max    24019.000000  2978.000000   0.999553    59.707546   0.983011   \n",
       "\n",
       "       consumervalue  Noofprotest  feat_index  \n",
       "count      89.000000    89.000000   89.000000  \n",
       "mean        0.643054   226.865169   44.000000  \n",
       "std         0.221204   693.413480   25.836021  \n",
       "min         0.090941     1.000000    0.000000  \n",
       "25%         0.460698    12.000000   22.000000  \n",
       "50%         0.671920    31.000000   44.000000  \n",
       "75%         0.843840   111.000000   66.000000  \n",
       "max         0.955629  5789.000000   88.000000  "
      ]
     },
     "execution_count": 18,
     "metadata": {},
     "output_type": "execute_result"
    }
   ],
   "source": [
    "df_mw.describe()"
   ]
  },
  {
   "cell_type": "code",
   "execution_count": 19,
   "metadata": {},
   "outputs": [],
   "source": [
    "y_mw = df_mw['Noofprotest'].values\n"
   ]
  },
  {
   "cell_type": "code",
   "execution_count": 20,
   "metadata": {},
   "outputs": [
    {
     "data": {
      "text/plain": [
       "numpy.ndarray"
      ]
     },
     "execution_count": 20,
     "metadata": {},
     "output_type": "execute_result"
    }
   ],
   "source": [
    "type(y_mw)"
   ]
  },
  {
   "cell_type": "code",
   "execution_count": 21,
   "metadata": {},
   "outputs": [
    {
     "data": {
      "text/plain": [
       "(89,)"
      ]
     },
     "execution_count": 21,
     "metadata": {},
     "output_type": "execute_result"
    }
   ],
   "source": [
    "y_mw.shape"
   ]
  },
  {
   "cell_type": "code",
   "execution_count": 22,
   "metadata": {},
   "outputs": [
    {
     "name": "stderr",
     "output_type": "stream",
     "text": [
      "/home/samal/poudelnish/.conda/envs/aanisha/lib/python3.7/site-packages/seaborn/distributions.py:2619: FutureWarning: `distplot` is a deprecated function and will be removed in a future version. Please adapt your code to use either `displot` (a figure-level function with similar flexibility) or `histplot` (an axes-level function for histograms).\n",
      "  warnings.warn(msg, FutureWarning)\n"
     ]
    },
    {
     "data": {
      "text/plain": [
       "<AxesSubplot:xlabel='Noofprotest', ylabel='Density'>"
      ]
     },
     "execution_count": 22,
     "metadata": {},
     "output_type": "execute_result"
    },
    {
     "data": {
      "image/png": "[encoded data removed]",
      "text/plain": [
       "<Figure size 432x288 with 1 Axes>"
      ]
     },
     "metadata": {
      "needs_background": "light"
     },
     "output_type": "display_data"
    }
   ],
   "source": [
    "import seaborn as sns\n",
    "\n",
    "sns.distplot(df_mw[\"Noofprotest\"])\n",
    "\n"
   ]
  },
  {
   "cell_type": "code",
   "execution_count": 23,
   "metadata": {},
   "outputs": [
    {
     "data": {
      "text/plain": [
       "226.86516853932585"
      ]
     },
     "execution_count": 23,
     "metadata": {},
     "output_type": "execute_result"
    }
   ],
   "source": [
    "df_mw[\"Noofprotest\"].mean()"
   ]
  },
  {
   "cell_type": "code",
   "execution_count": 24,
   "metadata": {},
   "outputs": [],
   "source": [
    "# Calculate mae and rmse\n",
    "def evaluate_predictions(predictions, true):\n",
    "    mae = np.mean(abs(predictions - true))\n",
    "    rmse = np.sqrt(np.mean((predictions - true) ** 2))\n",
    "    \n",
    "    return mae, rmse"
   ]
  },
  {
   "cell_type": "code",
   "execution_count": 27,
   "metadata": {},
   "outputs": [
    {
     "name": "stdout",
     "output_type": "stream",
     "text": [
      "233.30645161290323\n",
      "Mean Baseline  MAE: 271.4665\n",
      "Mean Baseline RMSE: 348.8058\n"
     ]
    }
   ],
   "source": [
    "# Naive baseline is the mean\n",
    "\n",
    "import numpy as np\n",
    "\n",
    "\n",
    "median_pred = np.mean(y_train)\n",
    "print(median_pred)\n",
    "\n",
    "\n",
    "\n",
    "median_preds = [median_pred for _ in range(len(y_test))]\n",
    "true = y_test\n",
    "\n",
    "\n",
    "# Display the naive baseline metrics\n",
    "mb_mae, mb_rmse = evaluate_predictions(median_preds, true)\n",
    "print('Mean Baseline  MAE: {:.4f}'.format(mb_mae))\n",
    "print('Mean Baseline RMSE: {:.4f}'.format(mb_rmse))"
   ]
  },
  {
   "cell_type": "code",
   "execution_count": 26,
   "metadata": {},
   "outputs": [],
   "source": [
    "from sklearn.model_selection import train_test_split\n",
    "X_train, X_test, y_train, y_test = train_test_split(x_mw, y_mw, test_size=0.3, random_state=0)"
   ]
  },
  {
   "cell_type": "code",
   "execution_count": 32,
   "metadata": {},
   "outputs": [
    {
     "name": "stdout",
     "output_type": "stream",
     "text": [
      "-894030.1575027413\n"
     ]
    }
   ],
   "source": [
    "#Linear Regression\n",
    "from sklearn.model_selection import cross_val_score\n",
    "from sklearn.linear_model import LinearRegression\n",
    "\n",
    "lin_regressor=LinearRegression()\n",
    "mse=cross_val_score(lin_regressor,x_mw,y_mw,scoring='neg_mean_squared_error',cv=5)\n",
    "mean_mse=np.mean(mse)\n",
    "print(mean_mse)"
   ]
  },
  {
   "cell_type": "code",
   "execution_count": 33,
   "metadata": {},
   "outputs": [
    {
     "data": {
      "text/plain": [
       "LinearRegression()"
      ]
     },
     "execution_count": 33,
     "metadata": {},
     "output_type": "execute_result"
    }
   ],
   "source": [
    "lin_regressor.fit(X_train,y_train)"
   ]
  },
  {
   "cell_type": "code",
   "execution_count": 34,
   "metadata": {},
   "outputs": [
    {
     "name": "stdout",
     "output_type": "stream",
     "text": [
      "2.4534394157182623e-12\n",
      "1.0\n",
      "700.7384527046203\n",
      "-3.0509487410183596\n"
     ]
    }
   ],
   "source": [
    "pred_train_lr= lin_regressor.predict(X_train)\n",
    "print(np.sqrt(mean_squared_error(y_train,pred_train_lr)))\n",
    "print(r2_score(y_train, pred_train_lr))\n",
    "\n",
    "pred_test_lr= lin_regressor.predict(X_test)\n",
    "print(np.sqrt(mean_squared_error(y_test,pred_test_lr))) \n",
    "print(r2_score(y_test, pred_test_lr))"
   ]
  },
  {
   "cell_type": "code",
   "execution_count": 35,
   "metadata": {},
   "outputs": [
    {
     "name": "stdout",
     "output_type": "stream",
     "text": [
      "Linear Regression MAE:592.0253\n",
      "Linear Regression RMSE:700.7385\n",
      "\n",
      "Baseline MAE: 271.4665\n",
      "Baseline RMSE:  348.8058\n"
     ]
    }
   ],
   "source": [
    "# Model Metrics\n",
    "mae = np.mean(abs(pred_test_lr - y_test))\n",
    "rmse = np.sqrt(np.mean((pred_test_lr - y_test) ** 2))\n",
    "print(\"Linear Regression MAE:{:.4f}\".format(mae))\n",
    "print(\"Linear Regression RMSE:{:.4f}\".format(rmse))\n",
    "\n",
    "\n",
    "# Baseline Metrics\n",
    "baseline = np.mean(y_train)\n",
    "baseline_mae = np.mean(abs(baseline - y_test))\n",
    "baseline_rmse = np.sqrt(np.mean((baseline - y_test) ** 2))\n",
    "\n",
    "\n",
    "print(\"\\nBaseline MAE: {:.4f}\".format(baseline_mae))\n",
    "print(\"Baseline RMSE:  {:.4f}\".format(baseline_rmse))\n",
    "     "
   ]
  },
  {
   "cell_type": "code",
   "execution_count": 29,
   "metadata": {},
   "outputs": [],
   "source": [
    "\n",
    "#Ridge Regression\n",
    "\n",
    "\n",
    "ridge=Ridge()\n",
    "parameters={'alpha':[1e-15,1e-10,1e-8,1e-3,1e-2,1,5,10,20,30,35,40,45,50,55,100,150,1000,10000]}\n",
    "ridge_regressor=GridSearchCV(ridge,parameters,scoring='neg_mean_squared_error',cv=5)\n",
    "ridge_regressor.fit(x_mw,y_mw)\n",
    "# print(ridge_regressor.best_params_)\n",
    "# print(ridge_regressor.best_score_)\n",
    "# print(ridge_regressor.best_estimator_)"
   ]
  },
  {
   "cell_type": "code",
   "execution_count": 30,
   "metadata": {},
   "outputs": [
    {
     "data": {
      "text/plain": [
       "Ridge(alpha=1000)"
      ]
     },
     "execution_count": 30,
     "metadata": {},
     "output_type": "execute_result"
    }
   ],
   "source": [
    "best_model = ridge_regressor.best_estimator_\n",
    "best_model.fit(x_mw,y_mw)"
   ]
  },
  {
   "cell_type": "code",
   "execution_count": 31,
   "metadata": {},
   "outputs": [
    {
     "name": "stdout",
     "output_type": "stream",
     "text": [
      "Root Mean squared Error for train  data  647.4296328208029\n",
      "R2 score 0.3341655954551447\n",
      "Root Mean squared Error for test data 270.19958150145493\n",
      "R2 score 0.39769815686463184\n"
     ]
    }
   ],
   "source": [
    "pred_train_lr= best_model.predict(X_train)\n",
    "print(f'Root Mean squared Error for train  data  {np.sqrt(mean_squared_error(y_train,pred_train_lr))}')\n",
    "print(f'R2 score {r2_score(y_train, pred_train_lr)}')\n",
    "\n",
    "pred_test_lr= best_model.predict(X_test)\n",
    "print(f'Root Mean squared Error for test data {np.sqrt(mean_squared_error(y_test,pred_test_lr))}') \n",
    "print(f'R2 score {r2_score(y_test, pred_test_lr)}')"
   ]
  },
  {
   "cell_type": "code",
   "execution_count": 32,
   "metadata": {},
   "outputs": [
    {
     "data": {
      "text/plain": [
       "-73007.81384356138"
      ]
     },
     "execution_count": 32,
     "metadata": {},
     "output_type": "execute_result"
    }
   ],
   "source": [
    "ridge_regressor.score(X_test,y_test)"
   ]
  },
  {
   "cell_type": "code",
   "execution_count": 39,
   "metadata": {},
   "outputs": [
    {
     "name": "stdout",
     "output_type": "stream",
     "text": [
      "Root Mean squared Error for train  data  647.4296328208029\n",
      "R2 score 0.3341655954551447\n",
      "Root Mean squared Error for test data 270.19958150145493\n",
      "R2 score 0.39769815686463184\n"
     ]
    }
   ],
   "source": [
    "pred_train_ridge= best_model.predict(X_train)\n",
    "print(f'Root Mean squared Error for train  data  {np.sqrt(mean_squared_error(y_train,pred_train_lr))}')\n",
    "print(f'R2 score {r2_score(y_train, pred_train_lr)}')\n",
    "\n",
    "pred_test_ridge= best_model.predict(X_test)\n",
    "print(f'Root Mean squared Error for test data {np.sqrt(mean_squared_error(y_test,pred_test_lr))}') \n",
    "print(f'R2 score {r2_score(y_test, pred_test_lr)}')"
   ]
  },
  {
   "cell_type": "code",
   "execution_count": 34,
   "metadata": {},
   "outputs": [
    {
     "name": "stdout",
     "output_type": "stream",
     "text": [
      "Ridge Regression MAE:195.4946\n",
      "Ridge Regression RMSE:270.1996\n",
      "\n",
      "Baseline MAE: 271.4665\n",
      "Baseline RMSE:  348.8058\n"
     ]
    }
   ],
   "source": [
    "# Model Metrics\n",
    "mae = np.mean(abs(pred_test_ridge - y_test))\n",
    "rmse = np.sqrt(np.mean((pred_test_ridge - y_test) ** 2))\n",
    "\n",
    "\n",
    "print(\"Ridge Regression MAE:{:.4f}\".format(mae))\n",
    "print(\"Ridge Regression RMSE:{:.4f}\".format(rmse))\n",
    "\n",
    "\n",
    "# Baseline Metrics\n",
    "baseline = np.mean(y_train)\n",
    "baseline_mae = np.mean(abs(baseline - y_test))\n",
    "baseline_rmse = np.sqrt(np.mean((baseline - y_test) ** 2))\n",
    "\n",
    "\n",
    "print(\"\\nBaseline MAE: {:.4f}\".format(baseline_mae))\n",
    "print(\"Baseline RMSE:  {:.4f}\".format(baseline_rmse))\n",
    "     "
   ]
  },
  {
   "cell_type": "code",
   "execution_count": 85,
   "metadata": {},
   "outputs": [],
   "source": [
    "\n",
    "lasso=Lasso()\n",
    "parameters={'alpha':[1e-15,1e-10,1e-8,1e-3,1e-2,1,5,10,20,30,35,40,45,50,55,100],'max_iter':[5000,10000,100000]}\n",
    "lasso_regressor=GridSearchCV(lasso,parameters,scoring='neg_mean_squared_error',cv=5)\n",
    "\n",
    "lasso_regressor.fit(x_mw,y_mw)\n",
    "# print(lasso_regressor.best_params_)\n",
    "# print(lasso_regressor.best_score_)"
   ]
  },
  {
   "cell_type": "code",
   "execution_count": 91,
   "metadata": {},
   "outputs": [
    {
     "data": {
      "text/plain": [
       "Lasso(alpha=50, max_iter=5000)"
      ]
     },
     "execution_count": 91,
     "metadata": {},
     "output_type": "execute_result"
    }
   ],
   "source": [
    "best_model_lasso = lasso_regressor.best_estimator_\n",
    "best_model_lasso.fit(x_mw,y_mw)"
   ]
  },
  {
   "cell_type": "code",
   "execution_count": 92,
   "metadata": {},
   "outputs": [
    {
     "name": "stdout",
     "output_type": "stream",
     "text": [
      "Root Mean squared Error for train  data  704.6934438930483\n",
      "R2 score 0.21117339860312678\n",
      "Root Mean squared Error for test data 298.1361626842756\n",
      "R2 score 0.26671270096333943\n"
     ]
    }
   ],
   "source": [
    "pred_train_lasso= best_model_lasso.predict(X_train)\n",
    "print(f'Root Mean squared Error for train  data  {np.sqrt(mean_squared_error(y_train,pred_train_lasso))}')\n",
    "print(f'R2 score {r2_score(y_train, pred_train_lasso)}')\n",
    "\n",
    "pred_test_lasso= best_model_lasso.predict(X_test)\n",
    "print(f'Root Mean squared Error for test data {np.sqrt(mean_squared_error(y_test,pred_test_lasso))}') \n",
    "print(f'R2 score {r2_score(y_test, pred_test_lasso)}')"
   ]
  },
  {
   "cell_type": "code",
   "execution_count": 93,
   "metadata": {},
   "outputs": [
    {
     "name": "stdout",
     "output_type": "stream",
     "text": [
      "Lasso Regression MAE:227.4368\n",
      "Lasso Regression RMSE:298.1362\n",
      "\n",
      "Baseline MAE: 271.4665\n",
      "Baseline RMSE:  348.8058\n"
     ]
    }
   ],
   "source": [
    "# Model Metrics\n",
    "mae = np.mean(abs(pred_test_lasso - y_test))\n",
    "rmse = np.sqrt(np.mean((pred_test_lasso - y_test) ** 2))\n",
    "\n",
    "print(\"Lasso Regression MAE:{:.4f}\".format(mae))\n",
    "print(\"Lasso Regression RMSE:{:.4f}\".format(rmse))\n",
    "\n",
    "\n",
    "# Baseline Metrics\n",
    "baseline = np.mean(y_train)\n",
    "baseline_mae = np.mean(abs(baseline - y_test))\n",
    "baseline_rmse = np.sqrt(np.mean((baseline - y_test) ** 2))\n",
    "\n",
    "\n",
    "print(\"\\nBaseline MAE: {:.4f}\".format(baseline_mae))\n",
    "print(\"Baseline RMSE:  {:.4f}\".format(baseline_rmse))\n",
    "     "
   ]
  },
  {
   "cell_type": "code",
   "execution_count": 94,
   "metadata": {},
   "outputs": [],
   "source": [
    "prediction_lasso=lasso_regressor.predict(X_test)\n",
    "prediction_ridge=ridge_regressor.predict(X_test)"
   ]
  },
  {
   "cell_type": "code",
   "execution_count": 95,
   "metadata": {},
   "outputs": [],
   "source": [
    "predict_linear = lin_regressor.predict(X_test)"
   ]
  },
  {
   "cell_type": "code",
   "execution_count": 36,
   "metadata": {},
   "outputs": [],
   "source": [
    "\n",
    "xg_reg= xgb.XGBRegressor(objective = 'reg:squarederror' , \n",
    "                         colsample_bytree=0.4,\n",
    "                         gamma=0,                 \n",
    "                         learning_rate=0.1,\n",
    "                         max_depth=3,\n",
    "                         min_child_weight=1.5,\n",
    "                         n_estimators=5000,  \n",
    "                         reg_alpha=0.01,\n",
    "                         reg_lambda=0.01,\n",
    "                         subsample=0.6,\n",
    "                         #reg_alpha=1e-5,\n",
    "                         #reg_lambda=0.45,\n",
    "                         #subsample=0.95,\n",
    "                         seed=42)\n",
    "\n"
   ]
  },
  {
   "cell_type": "code",
   "execution_count": 42,
   "metadata": {},
   "outputs": [
    {
     "data": {
      "text/plain": [
       "XGBRegressor(base_score=0.5, booster='gbtree', colsample_bylevel=1,\n",
       "             colsample_bynode=1, colsample_bytree=0.4, enable_categorical=False,\n",
       "             gamma=0, gpu_id=-1, importance_type=None,\n",
       "             interaction_constraints='', learning_rate=0.1, max_delta_step=0,\n",
       "             max_depth=3, min_child_weight=1.5, missing=nan,\n",
       "             monotone_constraints='()', n_estimators=5000, n_jobs=4,\n",
       "             num_parallel_tree=1, predictor='auto', random_state=42,\n",
       "             reg_alpha=0.01, reg_lambda=0.01, scale_pos_weight=1, seed=42,\n",
       "             subsample=0.6, tree_method='exact', validate_parameters=1,\n",
       "             verbosity=None)"
      ]
     },
     "execution_count": 42,
     "metadata": {},
     "output_type": "execute_result"
    }
   ],
   "source": [
    "xg_reg.fit(X_train,y_train)\n"
   ]
  },
  {
   "cell_type": "code",
   "execution_count": 43,
   "metadata": {},
   "outputs": [
    {
     "name": "stdout",
     "output_type": "stream",
     "text": [
      "Root Mean squared Error for train  data  0.0023427011042276187\n",
      "R2 score 0.9999999999912821\n",
      "Root Mean squared Error for test data 313.6417809854901\n",
      "R2 score 0.1884548797779757\n"
     ]
    }
   ],
   "source": [
    "\n",
    "pred_train_boost= xg_reg.predict(X_train)\n",
    "print(f'Root Mean squared Error for train  data  {np.sqrt(mean_squared_error(y_train,pred_train_boost))}')\n",
    "print(f'R2 score {r2_score(y_train, pred_train_boost)}')\n",
    "\n",
    "pred_test_boost= xg_reg.predict(X_test)\n",
    "print(f'Root Mean squared Error for test data {np.sqrt(mean_squared_error(y_test,pred_test_boost))}') \n",
    "print(f'R2 score {r2_score(y_test, pred_test_boost)}')"
   ]
  },
  {
   "cell_type": "code",
   "execution_count": 44,
   "metadata": {},
   "outputs": [
    {
     "name": "stdout",
     "output_type": "stream",
     "text": [
      "XGBoost Regression MAE:243.4668\n",
      "XGBoost Regression RMSE:313.6418\n",
      "\n",
      "Baseline MAE: 198.9444\n",
      "Baseline RMSE:  391.2842\n"
     ]
    }
   ],
   "source": [
    "# Model Metrics\n",
    "mae = np.mean(abs(pred_test_boost - y_test))\n",
    "rmse = np.sqrt(np.mean((pred_test_boost - y_test) ** 2))\n",
    "\n",
    "print(\"XGBoost Regression MAE:{:.4f}\".format(mae))\n",
    "print(\"XGBoost Regression RMSE:{:.4f}\".format(rmse))\n",
    "\n",
    "\n",
    "# Baseline Metrics\n",
    "baseline = np.median(y_train)\n",
    "baseline_mae = np.mean(abs(baseline - y_test))\n",
    "baseline_rmse = np.sqrt(np.mean((baseline - y_test) ** 2))\n",
    "\n",
    "\n",
    "print(\"\\nBaseline MAE: {:.4f}\".format(baseline_mae))\n",
    "print(\"Baseline RMSE:  {:.4f}\".format(baseline_rmse))\n",
    "     "
   ]
  },
  {
   "cell_type": "code",
   "execution_count": 45,
   "metadata": {},
   "outputs": [],
   "source": [
    "r2_xgb = r2_score(y_test, pred_test_boost)"
   ]
  },
  {
   "cell_type": "code",
   "execution_count": 46,
   "metadata": {},
   "outputs": [
    {
     "data": {
      "image/png": "[encoded data removed]",
      "text/plain": [
       "<Figure size 720x720 with 1 Axes>"
      ]
     },
     "metadata": {
      "needs_background": "light"
     },
     "output_type": "display_data"
    }
   ],
   "source": [
    "plt.figure(figsize=(10,10))\n",
    "plt.scatter(y_test, pred_test_lr, c='crimson')\n",
    "plt.yscale('log')\n",
    "plt.xscale('log')\n",
    "\n",
    "p1 = max(max(pred_test_lr), max(y_test))\n",
    "p2 = min(min(pred_test_lr), min(y_test))\n",
    "plt.plot([p1, p2], [p1, p2], 'b-')\n",
    "plt.xlabel(f'True Values' , fontsize=15)\n",
    "plt.ylabel('Predictions', fontsize=15)\n",
    "plt.title(\"Coeff of determination for XGBoost Regression is {:.4f}\".format(r2_xgb))\n",
    "plt.axis('equal')\n",
    "plt.show()"
   ]
  },
  {
   "cell_type": "code",
   "execution_count": 56,
   "metadata": {},
   "outputs": [
    {
     "name": "stderr",
     "output_type": "stream",
     "text": [
      "/home/samal/poudelnish/.conda/envs/aanisha/lib/python3.7/site-packages/seaborn/distributions.py:2619: FutureWarning: `distplot` is a deprecated function and will be removed in a future version. Please adapt your code to use either `displot` (a figure-level function with similar flexibility) or `histplot` (an axes-level function for histograms).\n",
      "  warnings.warn(msg, FutureWarning)\n"
     ]
    },
    {
     "data": {
      "text/plain": [
       "<AxesSubplot:ylabel='Density'>"
      ]
     },
     "execution_count": 56,
     "metadata": {},
     "output_type": "execute_result"
    },
    {
     "data": {
      "image/png": "[encoded data removed]",
      "text/plain": [
       "<Figure size 432x288 with 1 Axes>"
      ]
     },
     "metadata": {
      "needs_background": "light"
     },
     "output_type": "display_data"
    }
   ],
   "source": [
    "sns.distplot(y_test-pred_test_lr)"
   ]
  },
  {
   "cell_type": "code",
   "execution_count": 57,
   "metadata": {},
   "outputs": [
    {
     "name": "stderr",
     "output_type": "stream",
     "text": [
      "/home/samal/poudelnish/.conda/envs/aanisha/lib/python3.7/site-packages/seaborn/distributions.py:2619: FutureWarning: `distplot` is a deprecated function and will be removed in a future version. Please adapt your code to use either `displot` (a figure-level function with similar flexibility) or `histplot` (an axes-level function for histograms).\n",
      "  warnings.warn(msg, FutureWarning)\n"
     ]
    },
    {
     "data": {
      "text/plain": [
       "<AxesSubplot:ylabel='Density'>"
      ]
     },
     "execution_count": 57,
     "metadata": {},
     "output_type": "execute_result"
    },
    {
     "data": {
      "image/png": "[encoded data removed]",
      "text/plain": [
       "<Figure size 432x288 with 1 Axes>"
      ]
     },
     "metadata": {
      "needs_background": "light"
     },
     "output_type": "display_data"
    }
   ],
   "source": [
    "\n",
    "sns.distplot(y_test-prediction_lasso)"
   ]
  },
  {
   "cell_type": "code",
   "execution_count": 58,
   "metadata": {},
   "outputs": [
    {
     "name": "stderr",
     "output_type": "stream",
     "text": [
      "/home/samal/poudelnish/.conda/envs/aanisha/lib/python3.7/site-packages/seaborn/distributions.py:2619: FutureWarning: `distplot` is a deprecated function and will be removed in a future version. Please adapt your code to use either `displot` (a figure-level function with similar flexibility) or `histplot` (an axes-level function for histograms).\n",
      "  warnings.warn(msg, FutureWarning)\n"
     ]
    },
    {
     "data": {
      "text/plain": [
       "<AxesSubplot:ylabel='Density'>"
      ]
     },
     "execution_count": 58,
     "metadata": {},
     "output_type": "execute_result"
    },
    {
     "data": {
      "image/png": "[encoded data removed]",
      "text/plain": [
       "<Figure size 432x288 with 1 Axes>"
      ]
     },
     "metadata": {
      "needs_background": "light"
     },
     "output_type": "display_data"
    }
   ],
   "source": [
    "import seaborn as sns\n",
    "\n",
    "sns.distplot(y_test-prediction_ridge)"
   ]
  },
  {
   "cell_type": "code",
   "execution_count": 59,
   "metadata": {},
   "outputs": [
    {
     "name": "stderr",
     "output_type": "stream",
     "text": [
      "/home/samal/poudelnish/.conda/envs/aanisha/lib/python3.7/site-packages/seaborn/distributions.py:2619: FutureWarning: `distplot` is a deprecated function and will be removed in a future version. Please adapt your code to use either `displot` (a figure-level function with similar flexibility) or `histplot` (an axes-level function for histograms).\n",
      "  warnings.warn(msg, FutureWarning)\n"
     ]
    },
    {
     "data": {
      "text/plain": [
       "<AxesSubplot:ylabel='Density'>"
      ]
     },
     "execution_count": 59,
     "metadata": {},
     "output_type": "execute_result"
    },
    {
     "data": {
      "image/png": "[encoded data removed]",
      "text/plain": [
       "<Figure size 432x288 with 1 Axes>"
      ]
     },
     "metadata": {
      "needs_background": "light"
     },
     "output_type": "display_data"
    }
   ],
   "source": [
    "import seaborn as sns\n",
    "\n",
    "sns.distplot(y_test-predict_linear)"
   ]
  },
  {
   "cell_type": "code",
   "execution_count": 60,
   "metadata": {},
   "outputs": [
    {
     "name": "stderr",
     "output_type": "stream",
     "text": [
      "/home/samal/poudelnish/.conda/envs/aanisha/lib/python3.7/site-packages/seaborn/distributions.py:2619: FutureWarning: `distplot` is a deprecated function and will be removed in a future version. Please adapt your code to use either `displot` (a figure-level function with similar flexibility) or `histplot` (an axes-level function for histograms).\n",
      "  warnings.warn(msg, FutureWarning)\n"
     ]
    },
    {
     "data": {
      "text/plain": [
       "<AxesSubplot:xlabel='Noofprotest', ylabel='Density'>"
      ]
     },
     "execution_count": 60,
     "metadata": {},
     "output_type": "execute_result"
    },
    {
     "data": {
      "image/png": "[encoded data removed]",
      "text/plain": [
       "<Figure size 432x288 with 1 Axes>"
      ]
     },
     "metadata": {
      "needs_background": "light"
     },
     "output_type": "display_data"
    }
   ],
   "source": [
    "sns.distplot(df['Noofprotest'])"
   ]
  },
  {
   "cell_type": "code",
   "execution_count": 72,
   "metadata": {},
   "outputs": [
    {
     "name": "stdout",
     "output_type": "stream",
     "text": [
      "r2 score for ridge  model is 0.39769815686463184\n"
     ]
    }
   ],
   "source": [
    "r2_ridge = r2_score(y_test, prediction_ridge)\n",
    "print('r2 score for ridge  model is', r2_ridge)"
   ]
  },
  {
   "cell_type": "code",
   "execution_count": 73,
   "metadata": {},
   "outputs": [
    {
     "name": "stdout",
     "output_type": "stream",
     "text": [
      "r2 score for lass0  model is 0.26671270096333943\n"
     ]
    }
   ],
   "source": [
    "r2_lasso = r2_score(y_test, prediction_lasso)\n",
    "print('r2 score for lass0  model is', r2_lasso)"
   ]
  },
  {
   "cell_type": "code",
   "execution_count": 74,
   "metadata": {},
   "outputs": [
    {
     "name": "stdout",
     "output_type": "stream",
     "text": [
      "r2 score for linear  model is -3.0509487410183596\n"
     ]
    }
   ],
   "source": [
    "r2_linear = r2_score(y_test, predict_linear)\n",
    "print('r2 score for linear  model is', r2_linear)"
   ]
  },
  {
   "cell_type": "code",
   "execution_count": 75,
   "metadata": {},
   "outputs": [
    {
     "data": {
      "image/png": "[encoded data removed]",
      "text/plain": [
       "<Figure size 720x720 with 1 Axes>"
      ]
     },
     "metadata": {
      "needs_background": "light"
     },
     "output_type": "display_data"
    }
   ],
   "source": [
    "plt.figure(figsize=(10,10))\n",
    "plt.scatter(y_test, prediction_ridge, c='crimson')\n",
    "plt.yscale('log')\n",
    "plt.xscale('log')\n",
    "\n",
    "p1 = max(max(prediction_ridge), max(y_test))\n",
    "p2 = min(min(prediction_ridge), min(y_test))\n",
    "plt.plot([p1, p2], [p1, p2], 'b-')\n",
    "plt.title(\"Coeff of determination for Ridge Regression is {:.2f}\".format(r2_ridge))\n",
    "plt.xlabel('True  Protest Values', fontsize=15)\n",
    "plt.ylabel('Predictions', fontsize=15)\n",
    "plt.axis('equal')\n",
    "plt.show()"
   ]
  },
  {
   "cell_type": "code",
   "execution_count": 76,
   "metadata": {},
   "outputs": [
    {
     "data": {
      "image/png": "[encoded data removed]",
      "text/plain": [
       "<Figure size 720x720 with 1 Axes>"
      ]
     },
     "metadata": {
      "needs_background": "light"
     },
     "output_type": "display_data"
    }
   ],
   "source": [
    "plt.figure(figsize=(10,10))\n",
    "plt.scatter(y_test, predict_linear, c='crimson')\n",
    "plt.yscale('log')\n",
    "plt.xscale('log')\n",
    "plt.title(\"Coeff of determination for Linear  Regression is {:.2f}\".format(r2_linear))\n",
    "p1 = max(max(predict_linear), max(y_test))\n",
    "p2 = min(min(predict_linear), min(y_test))\n",
    "plt.plot([p1, p2], [p1, p2], 'b-')\n",
    "plt.xlabel('True Protest Values', fontsize=15)\n",
    "plt.ylabel('Predictions', fontsize=15)\n",
    "plt.axis('equal')\n",
    "plt.show()"
   ]
  },
  {
   "cell_type": "code",
   "execution_count": 77,
   "metadata": {},
   "outputs": [
    {
     "data": {
      "image/png": "[encoded data removed]",
      "text/plain": [
       "<Figure size 720x720 with 1 Axes>"
      ]
     },
     "metadata": {
      "needs_background": "light"
     },
     "output_type": "display_data"
    }
   ],
   "source": [
    "plt.figure(figsize=(10,10))\n",
    "plt.scatter(y_test, prediction_ridge, c='crimson')\n",
    "plt.yscale('log')\n",
    "plt.xscale('log')\n",
    "\n",
    "p1 = max(max(prediction_lasso), max(y_test))\n",
    "p2 = min(min(prediction_lasso), min(y_test))\n",
    "plt.plot([p1, p2], [p1, p2], 'b-')\n",
    "plt.xlabel(f'True Values' , fontsize=15)\n",
    "plt.ylabel('Predictions', fontsize=15)\n",
    "plt.title(\"Coeff of determination for Lasso Regression is {:.4f}\".format(r2_lasso))\n",
    "plt.axis('equal')\n",
    "plt.show()"
   ]
  },
  {
   "cell_type": "code",
   "execution_count": 82,
   "metadata": {},
   "outputs": [
    {
     "ename": "NameError",
     "evalue": "name 'list_ytest' is not defined",
     "output_type": "error",
     "traceback": [
      "\u001b[0;31m---------------------------------------------------------------------------\u001b[0m",
      "\u001b[0;31mNameError\u001b[0m                                 Traceback (most recent call last)",
      "\u001b[0;32m/tmp/ipykernel_1157973/1906528262.py\u001b[0m in \u001b[0;36m<module>\u001b[0;34m\u001b[0m\n\u001b[1;32m      2\u001b[0m \u001b[0mx_max\u001b[0m \u001b[0;34m=\u001b[0m \u001b[0;36m5000\u001b[0m\u001b[0;34m\u001b[0m\u001b[0;34m\u001b[0m\u001b[0m\n\u001b[1;32m      3\u001b[0m \u001b[0mx_min\u001b[0m \u001b[0;34m=\u001b[0m \u001b[0;36m1\u001b[0m\u001b[0;34m\u001b[0m\u001b[0;34m\u001b[0m\u001b[0m\n\u001b[0;32m----> 4\u001b[0;31m \u001b[0;32mfor\u001b[0m \u001b[0mi\u001b[0m \u001b[0;32min\u001b[0m \u001b[0mlist_ytest\u001b[0m\u001b[0;34m:\u001b[0m\u001b[0;34m\u001b[0m\u001b[0;34m\u001b[0m\u001b[0m\n\u001b[0m\u001b[1;32m      5\u001b[0m     \u001b[0moriginal_p\u001b[0m \u001b[0;34m=\u001b[0m \u001b[0mi\u001b[0m\u001b[0;34m*\u001b[0m\u001b[0;34m(\u001b[0m\u001b[0mx_max\u001b[0m\u001b[0;34m-\u001b[0m\u001b[0mx_min\u001b[0m\u001b[0;34m)\u001b[0m \u001b[0;34m+\u001b[0m \u001b[0mx_min\u001b[0m\u001b[0;34m\u001b[0m\u001b[0;34m\u001b[0m\u001b[0m\n\u001b[1;32m      6\u001b[0m     \u001b[0moriginal_ytest\u001b[0m\u001b[0;34m.\u001b[0m\u001b[0mappend\u001b[0m\u001b[0;34m(\u001b[0m\u001b[0mround\u001b[0m\u001b[0;34m(\u001b[0m\u001b[0moriginal_p\u001b[0m\u001b[0;34m,\u001b[0m\u001b[0;36m0\u001b[0m\u001b[0;34m)\u001b[0m\u001b[0;34m)\u001b[0m\u001b[0;34m\u001b[0m\u001b[0;34m\u001b[0m\u001b[0m\n",
      "\u001b[0;31mNameError\u001b[0m: name 'list_ytest' is not defined"
     ]
    }
   ],
   "source": [
    "original_ytest =[]\n",
    "x_max = 5000\n",
    "x_min = 1\n",
    "for i in list_ytest:\n",
    "    original_p = i*(x_max-x_min) + x_min\n",
    "    original_ytest.append(round(original_p,0))\n",
    "print(original_ytest)       "
   ]
  },
  {
   "cell_type": "code",
   "execution_count": 152,
   "metadata": {},
   "outputs": [
    {
     "data": {
      "image/png": "[encoded data removed]",
      "text/plain": [
       "<Figure size 720x720 with 1 Axes>"
      ]
     },
     "metadata": {
      "needs_background": "light"
     },
     "output_type": "display_data"
    }
   ],
   "source": [
    "plt.figure(figsize=(10,10))\n",
    "plt.scatter(y_test, prediction_ridge, c='crimson')\n",
    "plt.yscale('log')\n",
    "plt.xscale('log')\n",
    "\n",
    "p1 = max(max(prediction_lasso), max(y_test))\n",
    "p2 = min(min(prediction_lasso), min(y_test))\n",
    "plt.plot([p1, p2], [p1, p2], 'b-')\n",
    "plt.xlabel(f'True Values' , fontsize=15)\n",
    "plt.ylabel('Predictions', fontsize=15)\n",
    "plt.title(\"Coeff of determination for Lasso Regression is {:.4f}\".format(r2_lasso))\n",
    "plt.axis('equal')\n",
    "plt.show()"
   ]
  },
  {
   "cell_type": "code",
   "execution_count": 35,
   "metadata": {},
   "outputs": [],
   "source": [
    "BASE_DIR1 = '/work/samal/poudelnish/1finaltry'\n",
    "\n",
    "RANDOM_SEED = 7 # for reproducibility\n",
    "COUNTRIES_DIR1 = os.path.join(BASE_DIR1, 'data')\n",
    "RESULTS_DIR1 = os.path.join(BASE_DIR1, 'results')\n",
    "FIGURES_DIR1 = os.path.join(BASE_DIR1, 'figures')"
   ]
  },
  {
   "cell_type": "code",
   "execution_count": 36,
   "metadata": {},
   "outputs": [],
   "source": [
    "df1 = pd.read_csv(os.path.join(COUNTRIES_DIR1, 'processed','newclusters.csv'))"
   ]
  },
  {
   "cell_type": "code",
   "execution_count": 47,
   "metadata": {},
   "outputs": [
    {
     "data": {
      "text/html": [
       "<div>\n",
       "<style scoped>\n",
       "    .dataframe tbody tr th:only-of-type {\n",
       "        vertical-align: middle;\n",
       "    }\n",
       "\n",
       "    .dataframe tbody tr th {\n",
       "        vertical-align: top;\n",
       "    }\n",
       "\n",
       "    .dataframe thead th {\n",
       "        text-align: right;\n",
       "    }\n",
       "</style>\n",
       "<table border=\"1\" class=\"dataframe\">\n",
       "  <thead>\n",
       "    <tr style=\"text-align: right;\">\n",
       "      <th></th>\n",
       "      <th>cluster_lat</th>\n",
       "      <th>cluster_lon</th>\n",
       "      <th>Noofprotest</th>\n",
       "      <th>consumervalue</th>\n",
       "    </tr>\n",
       "  </thead>\n",
       "  <tbody>\n",
       "    <tr>\n",
       "      <th>count</th>\n",
       "      <td>22043.000000</td>\n",
       "      <td>22043.000000</td>\n",
       "      <td>22043.000000</td>\n",
       "      <td>22043.000000</td>\n",
       "    </tr>\n",
       "    <tr>\n",
       "      <th>mean</th>\n",
       "      <td>27.516025</td>\n",
       "      <td>85.268747</td>\n",
       "      <td>3.043869</td>\n",
       "      <td>0.425042</td>\n",
       "    </tr>\n",
       "    <tr>\n",
       "      <th>std</th>\n",
       "      <td>0.389632</td>\n",
       "      <td>0.355206</td>\n",
       "      <td>356.389750</td>\n",
       "      <td>0.152361</td>\n",
       "    </tr>\n",
       "    <tr>\n",
       "      <th>min</th>\n",
       "      <td>26.778750</td>\n",
       "      <td>84.594580</td>\n",
       "      <td>0.000000</td>\n",
       "      <td>0.000000</td>\n",
       "    </tr>\n",
       "    <tr>\n",
       "      <th>25%</th>\n",
       "      <td>27.170416</td>\n",
       "      <td>84.986250</td>\n",
       "      <td>0.000000</td>\n",
       "      <td>0.322350</td>\n",
       "    </tr>\n",
       "    <tr>\n",
       "      <th>50%</th>\n",
       "      <td>27.545416</td>\n",
       "      <td>85.269585</td>\n",
       "      <td>0.000000</td>\n",
       "      <td>0.410800</td>\n",
       "    </tr>\n",
       "    <tr>\n",
       "      <th>75%</th>\n",
       "      <td>27.845417</td>\n",
       "      <td>85.569580</td>\n",
       "      <td>0.000000</td>\n",
       "      <td>0.512350</td>\n",
       "    </tr>\n",
       "    <tr>\n",
       "      <th>max</th>\n",
       "      <td>28.237083</td>\n",
       "      <td>85.886250</td>\n",
       "      <td>52787.000000</td>\n",
       "      <td>1.000000</td>\n",
       "    </tr>\n",
       "  </tbody>\n",
       "</table>\n",
       "</div>"
      ],
      "text/plain": [
       "        cluster_lat   cluster_lon   Noofprotest  consumervalue\n",
       "count  22043.000000  22043.000000  22043.000000   22043.000000\n",
       "mean      27.516025     85.268747      3.043869       0.425042\n",
       "std        0.389632      0.355206    356.389750       0.152361\n",
       "min       26.778750     84.594580      0.000000       0.000000\n",
       "25%       27.170416     84.986250      0.000000       0.322350\n",
       "50%       27.545416     85.269585      0.000000       0.410800\n",
       "75%       27.845417     85.569580      0.000000       0.512350\n",
       "max       28.237083     85.886250  52787.000000       1.000000"
      ]
     },
     "execution_count": 47,
     "metadata": {},
     "output_type": "execute_result"
    }
   ],
   "source": [
    "df1.describe()"
   ]
  },
  {
   "cell_type": "code",
   "execution_count": 49,
   "metadata": {},
   "outputs": [],
   "source": [
    "df1['Noofprotest'].where(df['Noofprotest'] > 5579, 5577, inplace=True)"
   ]
  },
  {
   "cell_type": "code",
   "execution_count": 52,
   "metadata": {},
   "outputs": [],
   "source": [
    "df1['Noofprotest'].values[df1['Noofprotest'] > 5579] = 5577"
   ]
  },
  {
   "cell_type": "code",
   "execution_count": 53,
   "metadata": {},
   "outputs": [],
   "source": [
    "#df1['Noofprotest'] = df1['Noofprotest'].apply(lambda x: [y if y <=5579 else 5577 for y in x])"
   ]
  },
  {
   "cell_type": "code",
   "execution_count": 54,
   "metadata": {},
   "outputs": [
    {
     "data": {
      "text/html": [
       "<div>\n",
       "<style scoped>\n",
       "    .dataframe tbody tr th:only-of-type {\n",
       "        vertical-align: middle;\n",
       "    }\n",
       "\n",
       "    .dataframe tbody tr th {\n",
       "        vertical-align: top;\n",
       "    }\n",
       "\n",
       "    .dataframe thead th {\n",
       "        text-align: right;\n",
       "    }\n",
       "</style>\n",
       "<table border=\"1\" class=\"dataframe\">\n",
       "  <thead>\n",
       "    <tr style=\"text-align: right;\">\n",
       "      <th></th>\n",
       "      <th>cluster_lat</th>\n",
       "      <th>cluster_lon</th>\n",
       "      <th>Noofprotest</th>\n",
       "      <th>consumervalue</th>\n",
       "    </tr>\n",
       "  </thead>\n",
       "  <tbody>\n",
       "    <tr>\n",
       "      <th>count</th>\n",
       "      <td>22043.000000</td>\n",
       "      <td>22043.000000</td>\n",
       "      <td>22043.000000</td>\n",
       "      <td>22043.000000</td>\n",
       "    </tr>\n",
       "    <tr>\n",
       "      <th>mean</th>\n",
       "      <td>27.516025</td>\n",
       "      <td>85.268747</td>\n",
       "      <td>23.166629</td>\n",
       "      <td>0.425042</td>\n",
       "    </tr>\n",
       "    <tr>\n",
       "      <th>std</th>\n",
       "      <td>0.389632</td>\n",
       "      <td>0.355206</td>\n",
       "      <td>354.479429</td>\n",
       "      <td>0.152361</td>\n",
       "    </tr>\n",
       "    <tr>\n",
       "      <th>min</th>\n",
       "      <td>26.778750</td>\n",
       "      <td>84.594580</td>\n",
       "      <td>0.000000</td>\n",
       "      <td>0.000000</td>\n",
       "    </tr>\n",
       "    <tr>\n",
       "      <th>25%</th>\n",
       "      <td>27.170416</td>\n",
       "      <td>84.986250</td>\n",
       "      <td>0.000000</td>\n",
       "      <td>0.322350</td>\n",
       "    </tr>\n",
       "    <tr>\n",
       "      <th>50%</th>\n",
       "      <td>27.545416</td>\n",
       "      <td>85.269585</td>\n",
       "      <td>0.000000</td>\n",
       "      <td>0.410800</td>\n",
       "    </tr>\n",
       "    <tr>\n",
       "      <th>75%</th>\n",
       "      <td>27.845417</td>\n",
       "      <td>85.569580</td>\n",
       "      <td>0.000000</td>\n",
       "      <td>0.512350</td>\n",
       "    </tr>\n",
       "    <tr>\n",
       "      <th>max</th>\n",
       "      <td>28.237083</td>\n",
       "      <td>85.886250</td>\n",
       "      <td>5577.000000</td>\n",
       "      <td>1.000000</td>\n",
       "    </tr>\n",
       "  </tbody>\n",
       "</table>\n",
       "</div>"
      ],
      "text/plain": [
       "        cluster_lat   cluster_lon   Noofprotest  consumervalue\n",
       "count  22043.000000  22043.000000  22043.000000   22043.000000\n",
       "mean      27.516025     85.268747     23.166629       0.425042\n",
       "std        0.389632      0.355206    354.479429       0.152361\n",
       "min       26.778750     84.594580      0.000000       0.000000\n",
       "25%       27.170416     84.986250      0.000000       0.322350\n",
       "50%       27.545416     85.269585      0.000000       0.410800\n",
       "75%       27.845417     85.569580      0.000000       0.512350\n",
       "max       28.237083     85.886250   5577.000000       1.000000"
      ]
     },
     "execution_count": 54,
     "metadata": {},
     "output_type": "execute_result"
    }
   ],
   "source": [
    "df1.describe()"
   ]
  },
  {
   "cell_type": "code",
   "execution_count": 55,
   "metadata": {},
   "outputs": [],
   "source": [
    "df1.to_csv(os.path.join(COUNTRIES_DIR1, 'processed','clusters1.csv'),index=False)"
   ]
  },
  {
   "cell_type": "code",
   "execution_count": 56,
   "metadata": {},
   "outputs": [],
   "source": [
    "def load_country1(country):\n",
    "    '''\n",
    "    Organizes the country's dataframe so that each index corresponds to the index in the cluster features\n",
    "    Returns the cluster features and the organized dataframe\n",
    "    '''\n",
    "    country_processed_dir = os.path.join(COUNTRIES_DIR1, 'processed')\n",
    "    country_results_dir = os.path.join(RESULTS_DIR1, country, 'cnn')\n",
    "    x = np.load(os.path.join(country_results_dir, 'cluster_feats.npy'))\n",
    "    cluster_list = pickle.load(open(os.path.join(country_results_dir, 'cluster_order.pkl'), 'rb'))\n",
    "    cluster_list = pd.DataFrame.from_records(cluster_list, columns=['cluster_lat', 'cluster_lon'])\n",
    "    cluster_list['feat_index'] = np.arange(len(cluster_list))\n",
    "    \n",
    "    df_clusters = pd.read_csv(os.path.join(country_processed_dir,'clusters1.csv'))\n",
    "    #assert len(df_clusters) == len(cluster_list)\n",
    "\n",
    "    df = merge_on_lat_lon(df_clusters, cluster_list, keys=['cluster_lat', 'cluster_lon'])\n",
    "    assert len(df) == len(cluster_list)\n",
    "   # assert len(df) == len(df_clusters) == len(cluster_list)\n",
    "    df.sort_values('feat_index', ascending=True, inplace=True)\n",
    "    return x, df"
   ]
  },
  {
   "cell_type": "code",
   "execution_count": 57,
   "metadata": {},
   "outputs": [],
   "source": [
    "x_mw1, df_mw1 = load_country1('nepal_2018')"
   ]
  },
  {
   "cell_type": "code",
   "execution_count": 58,
   "metadata": {},
   "outputs": [],
   "source": [
    "prediction_ridge=ridge_regressor.predict(x_mw1)"
   ]
  },
  {
   "cell_type": "code",
   "execution_count": 59,
   "metadata": {},
   "outputs": [
    {
     "data": {
      "text/plain": [
       "4409"
      ]
     },
     "execution_count": 59,
     "metadata": {},
     "output_type": "execute_result"
    }
   ],
   "source": [
    "len(prediction_ridge)"
   ]
  },
  {
   "cell_type": "code",
   "execution_count": 60,
   "metadata": {},
   "outputs": [
    {
     "data": {
      "text/plain": [
       "array([ 406.47620191,  239.46849865,  360.0590891 , ...,  132.46565237,\n",
       "       -102.39212482, -249.94966978])"
      ]
     },
     "execution_count": 60,
     "metadata": {},
     "output_type": "execute_result"
    }
   ],
   "source": [
    "prediction_ridge"
   ]
  },
  {
   "cell_type": "code",
   "execution_count": 64,
   "metadata": {},
   "outputs": [
    {
     "data": {
      "text/html": [
       "<div>\n",
       "<style scoped>\n",
       "    .dataframe tbody tr th:only-of-type {\n",
       "        vertical-align: middle;\n",
       "    }\n",
       "\n",
       "    .dataframe tbody tr th {\n",
       "        vertical-align: top;\n",
       "    }\n",
       "\n",
       "    .dataframe thead th {\n",
       "        text-align: right;\n",
       "    }\n",
       "</style>\n",
       "<table border=\"1\" class=\"dataframe\">\n",
       "  <thead>\n",
       "    <tr style=\"text-align: right;\">\n",
       "      <th></th>\n",
       "      <th>cluster_lat</th>\n",
       "      <th>cluster_lon</th>\n",
       "      <th>Noofprotest</th>\n",
       "      <th>consumervalue</th>\n",
       "      <th>feat_index</th>\n",
       "    </tr>\n",
       "  </thead>\n",
       "  <tbody>\n",
       "    <tr>\n",
       "      <th>4394</th>\n",
       "      <td>26.77875</td>\n",
       "      <td>85.261250</td>\n",
       "      <td>0</td>\n",
       "      <td>0.4607</td>\n",
       "      <td>0</td>\n",
       "    </tr>\n",
       "    <tr>\n",
       "      <th>4395</th>\n",
       "      <td>26.77875</td>\n",
       "      <td>85.294586</td>\n",
       "      <td>0</td>\n",
       "      <td>0.4958</td>\n",
       "      <td>1</td>\n",
       "    </tr>\n",
       "    <tr>\n",
       "      <th>4396</th>\n",
       "      <td>26.77875</td>\n",
       "      <td>85.302920</td>\n",
       "      <td>0</td>\n",
       "      <td>0.5355</td>\n",
       "      <td>2</td>\n",
       "    </tr>\n",
       "    <tr>\n",
       "      <th>4397</th>\n",
       "      <td>26.77875</td>\n",
       "      <td>85.319580</td>\n",
       "      <td>0</td>\n",
       "      <td>0.2495</td>\n",
       "      <td>3</td>\n",
       "    </tr>\n",
       "    <tr>\n",
       "      <th>4398</th>\n",
       "      <td>26.77875</td>\n",
       "      <td>85.336250</td>\n",
       "      <td>0</td>\n",
       "      <td>0.1998</td>\n",
       "      <td>4</td>\n",
       "    </tr>\n",
       "  </tbody>\n",
       "</table>\n",
       "</div>"
      ],
      "text/plain": [
       "      cluster_lat  cluster_lon  Noofprotest  consumervalue  feat_index\n",
       "4394     26.77875    85.261250            0         0.4607           0\n",
       "4395     26.77875    85.294586            0         0.4958           1\n",
       "4396     26.77875    85.302920            0         0.5355           2\n",
       "4397     26.77875    85.319580            0         0.2495           3\n",
       "4398     26.77875    85.336250            0         0.1998           4"
      ]
     },
     "execution_count": 64,
     "metadata": {},
     "output_type": "execute_result"
    }
   ],
   "source": [
    "df_mw1.head()"
   ]
  },
  {
   "cell_type": "code",
   "execution_count": 62,
   "metadata": {},
   "outputs": [],
   "source": [
    "df_predicted = pd.DataFrame(prediction_ridge)"
   ]
  },
  {
   "cell_type": "code",
   "execution_count": 63,
   "metadata": {},
   "outputs": [
    {
     "data": {
      "text/html": [
       "<div>\n",
       "<style scoped>\n",
       "    .dataframe tbody tr th:only-of-type {\n",
       "        vertical-align: middle;\n",
       "    }\n",
       "\n",
       "    .dataframe tbody tr th {\n",
       "        vertical-align: top;\n",
       "    }\n",
       "\n",
       "    .dataframe thead th {\n",
       "        text-align: right;\n",
       "    }\n",
       "</style>\n",
       "<table border=\"1\" class=\"dataframe\">\n",
       "  <thead>\n",
       "    <tr style=\"text-align: right;\">\n",
       "      <th></th>\n",
       "      <th>0</th>\n",
       "    </tr>\n",
       "  </thead>\n",
       "  <tbody>\n",
       "    <tr>\n",
       "      <th>0</th>\n",
       "      <td>406.476202</td>\n",
       "    </tr>\n",
       "    <tr>\n",
       "      <th>1</th>\n",
       "      <td>239.468499</td>\n",
       "    </tr>\n",
       "    <tr>\n",
       "      <th>2</th>\n",
       "      <td>360.059089</td>\n",
       "    </tr>\n",
       "    <tr>\n",
       "      <th>3</th>\n",
       "      <td>455.691151</td>\n",
       "    </tr>\n",
       "    <tr>\n",
       "      <th>4</th>\n",
       "      <td>119.589638</td>\n",
       "    </tr>\n",
       "  </tbody>\n",
       "</table>\n",
       "</div>"
      ],
      "text/plain": [
       "            0\n",
       "0  406.476202\n",
       "1  239.468499\n",
       "2  360.059089\n",
       "3  455.691151\n",
       "4  119.589638"
      ]
     },
     "execution_count": 63,
     "metadata": {},
     "output_type": "execute_result"
    }
   ],
   "source": [
    "df_predicted.head()"
   ]
  },
  {
   "cell_type": "code",
   "execution_count": 66,
   "metadata": {},
   "outputs": [],
   "source": [
    "df_final = pd.concat([df_mw1, df_predicted], axis=1)"
   ]
  },
  {
   "cell_type": "code",
   "execution_count": 67,
   "metadata": {},
   "outputs": [
    {
     "data": {
      "text/plain": [
       "Index(['cluster_lat', 'cluster_lon', 'Noofprotest', 'consumervalue',\n",
       "       'feat_index', 0],\n",
       "      dtype='object')"
      ]
     },
     "execution_count": 67,
     "metadata": {},
     "output_type": "execute_result"
    }
   ],
   "source": [
    "df_final.columns"
   ]
  },
  {
   "cell_type": "code",
   "execution_count": 69,
   "metadata": {},
   "outputs": [],
   "source": [
    "df_final.rename(columns={\"0\": \"predicted_protest\"},inplace=True)"
   ]
  },
  {
   "cell_type": "code",
   "execution_count": 70,
   "metadata": {},
   "outputs": [],
   "source": [
    "df_final.to_csv(\"predicted_protest.csv\",index=False)"
   ]
  },
  {
   "cell_type": "code",
   "execution_count": null,
   "metadata": {},
   "outputs": [],
   "source": []
  }
 ],
 "metadata": {
  "environment": {
   "name": "pytorch-gpu.1-4.m46",
   "type": "gcloud",
   "uri": "gcr.io/deeplearning-platform-release/pytorch-gpu.1-4:m46"
  },
  "kernelspec": {
   "display_name": "aanisha",
   "language": "python",
   "name": "aanisha"
  },
  "language_info": {
   "codemirror_mode": {
    "name": "ipython",
    "version": 3
   },
   "file_extension": ".py",
   "mimetype": "text/x-python",
   "name": "python",
   "nbconvert_exporter": "python",
   "pygments_lexer": "ipython3",
   "version": "3.7.12"
  }
 },
 "nbformat": 4,
 "nbformat_minor": 4
}
